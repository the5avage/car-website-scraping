{
 "cells": [
  {
   "cell_type": "code",
   "execution_count": 1,
   "metadata": {},
   "outputs": [],
   "source": [
    "import yaml\n",
    "import re\n",
    "\n",
    "def clean_vehicle_yaml(input_file, output_file):\n",
    "    \"\"\"\n",
    "    Clean vehicle YAML file by:\n",
    "    1. Converting German-style numbers (with dots) to standard format (with commas) in mileage\n",
    "    2. Removing Vehicle Identification No. fields\n",
    "    3. Removing KBA Key fields\n",
    "    \"\"\"\n",
    "\n",
    "    # Read the YAML file\n",
    "    with open(input_file, 'r', encoding='utf-8') as file:\n",
    "        data = yaml.safe_load(file)\n",
    "\n",
    "    # Process each vehicle entry\n",
    "    for vehicle_url, vehicle_data in data.items():\n",
    "        if 'information_dict' in vehicle_data:\n",
    "            info_dict = vehicle_data['information_dict']\n",
    "\n",
    "            # Convert German-style mileage numbers (dots to commas)\n",
    "            if 'Read mileage' in info_dict:\n",
    "                mileage = info_dict['Read mileage']\n",
    "                # Replace dots with commas in numbers (e.g., \"23.500\" -> \"23,500\")\n",
    "                # This regex finds numbers with dots and replaces dots with commas\n",
    "                info_dict['Read mileage'] = re.sub(r'(\\d+)\\.(\\d+)', r'\\1,\\2', mileage)\n",
    "\n",
    "            # Remove Vehicle Identification No. field\n",
    "            if 'Vehicle Identification No.' in info_dict:\n",
    "                del info_dict['Vehicle Identification No.']\n",
    "\n",
    "            # Remove KBA Key fields (both manufacturer and type)\n",
    "            keys_to_remove = []\n",
    "            for key in info_dict.keys():\n",
    "                if 'KBA' in key and 'Key' in key:\n",
    "                    keys_to_remove.append(key)\n",
    "\n",
    "            for key in keys_to_remove:\n",
    "                del info_dict[key]\n",
    "\n",
    "    # Write the cleaned data back to YAML\n",
    "    with open(output_file, 'w', encoding='utf-8') as file:\n",
    "        yaml.dump(data, file, default_flow_style=False, allow_unicode=True, sort_keys=False)\n",
    "\n",
    "    print(f\"Cleaned YAML saved to {output_file}\")"
   ]
  },
  {
   "cell_type": "code",
   "execution_count": null,
   "metadata": {},
   "outputs": [
    {
     "ename": "FileNotFoundError",
     "evalue": "[Errno 2] No such file or directory: '../data/truncated_vehicles_data.yaml'",
     "output_type": "error",
     "traceback": [
      "\u001b[1;31m---------------------------------------------------------------------------\u001b[0m",
      "\u001b[1;31mFileNotFoundError\u001b[0m                         Traceback (most recent call last)",
      "Cell \u001b[1;32mIn[3], line 4\u001b[0m\n\u001b[0;32m      1\u001b[0m in_file \u001b[38;5;241m=\u001b[39m \u001b[38;5;124m\"\u001b[39m\u001b[38;5;124m../data/truncated_vehicles_data.yaml\u001b[39m\u001b[38;5;124m\"\u001b[39m\n\u001b[0;32m      2\u001b[0m out_file \u001b[38;5;241m=\u001b[39m \u001b[38;5;124m\"\u001b[39m\u001b[38;5;124m../data/final_vehicles_data.yaml\u001b[39m\u001b[38;5;124m\"\u001b[39m\n\u001b[1;32m----> 4\u001b[0m \u001b[43mclean_vehicle_yaml\u001b[49m\u001b[43m(\u001b[49m\u001b[43min_file\u001b[49m\u001b[43m,\u001b[49m\u001b[43m \u001b[49m\u001b[43mout_file\u001b[49m\u001b[43m)\u001b[49m\n",
      "Cell \u001b[1;32mIn[1], line 13\u001b[0m, in \u001b[0;36mclean_vehicle_yaml\u001b[1;34m(input_file, output_file)\u001b[0m\n\u001b[0;32m      5\u001b[0m \u001b[38;5;250m\u001b[39m\u001b[38;5;124;03m\"\"\"\u001b[39;00m\n\u001b[0;32m      6\u001b[0m \u001b[38;5;124;03mClean vehicle YAML file by:\u001b[39;00m\n\u001b[0;32m      7\u001b[0m \u001b[38;5;124;03m1. Converting German-style numbers (with dots) to standard format (with commas) in mileage\u001b[39;00m\n\u001b[0;32m      8\u001b[0m \u001b[38;5;124;03m2. Removing Vehicle Identification No. fields\u001b[39;00m\n\u001b[0;32m      9\u001b[0m \u001b[38;5;124;03m3. Removing KBA Key fields\u001b[39;00m\n\u001b[0;32m     10\u001b[0m \u001b[38;5;124;03m\"\"\"\u001b[39;00m\n\u001b[0;32m     12\u001b[0m \u001b[38;5;66;03m# Read the YAML file\u001b[39;00m\n\u001b[1;32m---> 13\u001b[0m \u001b[38;5;28;01mwith\u001b[39;00m \u001b[38;5;28;43mopen\u001b[39;49m\u001b[43m(\u001b[49m\u001b[43minput_file\u001b[49m\u001b[43m,\u001b[49m\u001b[43m \u001b[49m\u001b[38;5;124;43m'\u001b[39;49m\u001b[38;5;124;43mr\u001b[39;49m\u001b[38;5;124;43m'\u001b[39;49m\u001b[43m,\u001b[49m\u001b[43m \u001b[49m\u001b[43mencoding\u001b[49m\u001b[38;5;241;43m=\u001b[39;49m\u001b[38;5;124;43m'\u001b[39;49m\u001b[38;5;124;43mutf-8\u001b[39;49m\u001b[38;5;124;43m'\u001b[39;49m\u001b[43m)\u001b[49m \u001b[38;5;28;01mas\u001b[39;00m file:\n\u001b[0;32m     14\u001b[0m     data \u001b[38;5;241m=\u001b[39m yaml\u001b[38;5;241m.\u001b[39msafe_load(file)\n\u001b[0;32m     16\u001b[0m \u001b[38;5;66;03m# Process each vehicle entry\u001b[39;00m\n",
      "File \u001b[1;32m~\\AppData\\Roaming\\Python\\Python312\\site-packages\\IPython\\core\\interactiveshell.py:324\u001b[0m, in \u001b[0;36m_modified_open\u001b[1;34m(file, *args, **kwargs)\u001b[0m\n\u001b[0;32m    317\u001b[0m \u001b[38;5;28;01mif\u001b[39;00m file \u001b[38;5;129;01min\u001b[39;00m {\u001b[38;5;241m0\u001b[39m, \u001b[38;5;241m1\u001b[39m, \u001b[38;5;241m2\u001b[39m}:\n\u001b[0;32m    318\u001b[0m     \u001b[38;5;28;01mraise\u001b[39;00m \u001b[38;5;167;01mValueError\u001b[39;00m(\n\u001b[0;32m    319\u001b[0m         \u001b[38;5;124mf\u001b[39m\u001b[38;5;124m\"\u001b[39m\u001b[38;5;124mIPython won\u001b[39m\u001b[38;5;124m'\u001b[39m\u001b[38;5;124mt let you open fd=\u001b[39m\u001b[38;5;132;01m{\u001b[39;00mfile\u001b[38;5;132;01m}\u001b[39;00m\u001b[38;5;124m by default \u001b[39m\u001b[38;5;124m\"\u001b[39m\n\u001b[0;32m    320\u001b[0m         \u001b[38;5;124m\"\u001b[39m\u001b[38;5;124mas it is likely to crash IPython. If you know what you are doing, \u001b[39m\u001b[38;5;124m\"\u001b[39m\n\u001b[0;32m    321\u001b[0m         \u001b[38;5;124m\"\u001b[39m\u001b[38;5;124myou can use builtins\u001b[39m\u001b[38;5;124m'\u001b[39m\u001b[38;5;124m open.\u001b[39m\u001b[38;5;124m\"\u001b[39m\n\u001b[0;32m    322\u001b[0m     )\n\u001b[1;32m--> 324\u001b[0m \u001b[38;5;28;01mreturn\u001b[39;00m \u001b[43mio_open\u001b[49m\u001b[43m(\u001b[49m\u001b[43mfile\u001b[49m\u001b[43m,\u001b[49m\u001b[43m \u001b[49m\u001b[38;5;241;43m*\u001b[39;49m\u001b[43margs\u001b[49m\u001b[43m,\u001b[49m\u001b[43m \u001b[49m\u001b[38;5;241;43m*\u001b[39;49m\u001b[38;5;241;43m*\u001b[39;49m\u001b[43mkwargs\u001b[49m\u001b[43m)\u001b[49m\n",
      "\u001b[1;31mFileNotFoundError\u001b[0m: [Errno 2] No such file or directory: '../data/truncated_vehicles_data.yaml'"
     ]
    }
   ],
   "source": [
    "in_file = \"../../data/truncated_vehicles_data.yaml\"\n",
    "out_file = \"../../data/final_vehicles_data.yaml\"\n",
    "\n",
    "clean_vehicle_yaml(in_file, out_file)"
   ]
  }
 ],
 "metadata": {
  "kernelspec": {
   "display_name": "Python 3",
   "language": "python",
   "name": "python3"
  },
  "language_info": {
   "codemirror_mode": {
    "name": "ipython",
    "version": 3
   },
   "file_extension": ".py",
   "mimetype": "text/x-python",
   "name": "python",
   "nbconvert_exporter": "python",
   "pygments_lexer": "ipython3",
   "version": "3.12.8"
  }
 },
 "nbformat": 4,
 "nbformat_minor": 2
}
