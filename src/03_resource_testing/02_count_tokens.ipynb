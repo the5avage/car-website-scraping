{
 "cells": [
  {
   "cell_type": "markdown",
   "id": "a3ace731",
   "metadata": {},
   "source": [
    "### Test: Amount of Tokens of our scraped information and generated queries\n",
    "\n",
    "We want to fine-tune a BERT model, yet BERT has a limitation of 512 input tokens.\n",
    "\n",
    "After cleansing the scraped vehicle information, we need to ensure that the combination of  \n",
    "vehicle information (from `vehicles_info.yaml`) combined with the individual vehicle search  \n",
    "queries (from `generated_questions.json`) always stays below 512 tokens."
   ]
  },
  {
   "cell_type": "code",
   "execution_count": 1,
   "id": "setup_cell",
   "metadata": {},
   "outputs": [
    {
     "name": "stderr",
     "output_type": "stream",
     "text": [
      "/storage/venv/lib/python3.11/site-packages/tqdm/auto.py:21: TqdmWarning: IProgress not found. Please update jupyter and ipywidgets. See https://ipywidgets.readthedocs.io/en/stable/user_install.html\n",
      "  from .autonotebook import tqdm as notebook_tqdm\n"
     ]
    }
   ],
   "source": [
    "# Import libraries and setup\n",
    "import json\n",
    "import yaml\n",
    "import re\n",
    "from transformers import BertTokenizer\n",
    "\n",
    "# Load vehicle info texts and queries\n",
    "vehicle_data_path = \"../../data/vehicles_info.yaml\"\n",
    "queries_path = \"../../data/generated_questions.json\"\n",
    "\n",
    "# Initialize BERT tokenizer\n",
    "tokenizer = BertTokenizer.from_pretrained('bert-base-uncased')"
   ]
  },
  {
   "cell_type": "code",
   "execution_count": 2,
   "id": "load_data",
   "metadata": {},
   "outputs": [
    {
     "name": "stdout",
     "output_type": "stream",
     "text": [
      "Loaded 2510 vehicle entries\n",
      "Loaded questions for 553 vehicles\n"
     ]
    }
   ],
   "source": [
    "# Load the data files\n",
    "# This loads the vehicle data in a different way than before and we get token limit excertions\n",
    "# --> We need to find one \"common way\" we use everywhere to read those informationss\n",
    "def get_vehicles_as_dict(file_path):\n",
    "    with open(file_path, 'r', encoding='utf-8') as file:\n",
    "        data = yaml.safe_load(file)\n",
    "    vehicles_dict = {}\n",
    "    for url, vehicle_info in data.items():\n",
    "        yaml_text = yaml.dump(vehicle_info, default_flow_style=False, allow_unicode=True)\n",
    "        vehicles_dict[url] = yaml_text\n",
    "    return vehicles_dict\n",
    "\n",
    "vehicles_info = get_vehicles_as_dict(vehicle_data_path)\n",
    "\n",
    "with open(queries_path, 'r', encoding='utf-8') as f:\n",
    "    generated_questions = json.load(f)\n",
    "\n",
    "print(f\"Loaded {len(vehicles_info)} vehicle entries\")\n",
    "print(f\"Loaded questions for {len(generated_questions)} vehicles\")"
   ]
  },
  {
   "cell_type": "code",
   "execution_count": 3,
   "id": "6a69a0bd",
   "metadata": {},
   "outputs": [
    {
     "name": "stdout",
     "output_type": "stream",
     "text": [
      "\n",
      "[Vehicle Info Analysis]\n",
      "Total vehicle entries: 2510\n",
      "Entries exceeding 411 tokens: 281\n",
      "Percentage: 11.20%\n",
      "Min: 114, Max: 467, Avg: 287.11\n"
     ]
    }
   ],
   "source": [
    "def analyze_vehicle_info_token_lengths(vehicles_info, tokenizer, threshold=400):\n",
    "    over_limit = 0\n",
    "    token_lengths = []\n",
    "\n",
    "    for url, info_text in vehicles_info.items():\n",
    "        tokens = tokenizer.tokenize(info_text)\n",
    "        token_count = len(tokens)\n",
    "        token_lengths.append(token_count)\n",
    "        if token_count > threshold:\n",
    "            over_limit += 1\n",
    "\n",
    "    print(f\"\\n[Vehicle Info Analysis]\")\n",
    "    print(f\"Total vehicle entries: {len(vehicles_info)}\")\n",
    "    print(f\"Entries exceeding {threshold} tokens: {over_limit}\")\n",
    "    print(f\"Percentage: {(over_limit / len(vehicles_info)) * 100:.2f}%\")\n",
    "    print(f\"Min: {min(token_lengths)}, Max: {max(token_lengths)}, Avg: {sum(token_lengths)/len(token_lengths):.2f}\")\n",
    "\n",
    "analyze_vehicle_info_token_lengths(vehicles_info, tokenizer, threshold=411)"
   ]
  },
  {
   "cell_type": "code",
   "execution_count": 4,
   "id": "5ca67d9f",
   "metadata": {},
   "outputs": [
    {
     "name": "stdout",
     "output_type": "stream",
     "text": [
      "\n",
      "[Query Analysis]\n",
      "Total queries: 5530\n",
      "Queries exceeding 109 tokens: 0\n",
      "Percentage: 0.00%\n",
      "Min: 12, Max: 98, Avg: 45.09\n"
     ]
    }
   ],
   "source": [
    "def analyze_query_token_lengths(generated_questions, tokenizer, threshold=109):\n",
    "    over_limit = 0\n",
    "    total_queries = 0\n",
    "    token_lengths = []\n",
    "\n",
    "    for link, queries in generated_questions.items():\n",
    "        for query in queries:\n",
    "            tokens = tokenizer.tokenize(query)\n",
    "            token_count = len(tokens)\n",
    "            token_lengths.append(token_count)\n",
    "            total_queries += 1\n",
    "            if token_count > threshold:\n",
    "                over_limit += 1\n",
    "\n",
    "    print(f\"\\n[Query Analysis]\")\n",
    "    print(f\"Total queries: {total_queries}\")\n",
    "    print(f\"Queries exceeding {threshold} tokens: {over_limit}\")\n",
    "    print(f\"Percentage: {(over_limit / total_queries) * 100:.2f}%\")\n",
    "    print(f\"Min: {min(token_lengths)}, Max: {max(token_lengths)}, Avg: {sum(token_lengths)/len(token_lengths):.2f}\")\n",
    "\n",
    "analyze_query_token_lengths(generated_questions, tokenizer)"
   ]
  },
  {
   "cell_type": "markdown",
   "id": "34fbc156",
   "metadata": {},
   "source": [
    "Print tokens of an example"
   ]
  },
  {
   "cell_type": "code",
   "execution_count": 5,
   "id": "ad9fb292",
   "metadata": {},
   "outputs": [
    {
     "name": "stdout",
     "output_type": "stream",
     "text": [
      "Tokens: ['[CLS]', 'details', '_', 'list', ':', '-', 'ac', '-', 'leather', 'steering', 'wheel', '-', 'multi', '-', 'function', 'steering', 'wheel', '-', 'power', 'steering', '-', 'remote', 'central', 'locking', '-', 'side', 'mirror', 'electrically', 'adjustable', 'details', '_', 'text', ':', 'dem', '##ur', '##rage', 'charges', '##star', '##ting', 'on', '20', '.', '07', '.', '202', '##5', 'the', 'daily', 'dem', '##ur', '##rage', 'for', 'this', 'item', 'will', 'be', '6', ',', '00', 'eu', '##r', 'net', ',', 'plus', 'va', '##t', 'information', '_', 'di', '##ct', ':', 'category', ':', 'small', 'car', ',', '2', 'door', 'colour', ':', 'grey', 'engine', 'type', ':', 'otto', 'first', 'registration', ':', \"'\", '12', '.', '2020', \"'\", 'fuel', 'type', ':', 'petrol', 'location', ':', 'd', '-', '56', 'power', 'output', ':', '107', 'kw', '/', '146', 'ps', 'read', 'mile', '##age', ':', '23', ',', '500', 'kilometres', 'supplier', ':', 'wholesale', '##r', 'total', 'number', 'of', 'owners', ':', '2', 'owner', 'transmission', ':', '5', '-', 'gear', 'manual', 'transmission', '[SEP]']\n",
      "Tokens in sample: 135\n"
     ]
    }
   ],
   "source": [
    "sample_link = list(vehicles_info.keys())[0]\n",
    "sample = vehicles_info[sample_link]\n",
    "encoded_input = tokenizer(sample, return_tensors='pt')\n",
    "tokens = tokenizer.convert_ids_to_tokens(encoded_input['input_ids'][0])\n",
    "#print(f\"Sample formatted vehicle info: {sample}\"),\n",
    "print(f\"Tokens: {tokens}\")\n",
    "print(f\"Tokens in sample: {len(tokenizer.tokenize(sample))}\")"
   ]
  },
  {
   "cell_type": "code",
   "execution_count": 6,
   "id": "token_analysis",
   "metadata": {},
   "outputs": [
    {
     "name": "stdout",
     "output_type": "stream",
     "text": [
      "Analyzing token counts for all vehicle-query combinations...\n",
      "\n",
      "Analysis complete!\n",
      "Total combinations processed: 5530\n",
      "Combinations exceeding 512 tokens: 104\n",
      "Percentage exceeding limit: 1.88%\n",
      "\n",
      "Token count statistics:\n",
      "- Minimum tokens: 141\n",
      "- Maximum tokens: 540\n",
      "- Average tokens: 353.15\n",
      "- Median tokens: 344\n"
     ]
    }
   ],
   "source": [
    "# Analyze token counts for all combinations\n",
    "exceeded_limit_count = 0\n",
    "max_tokens = 0\n",
    "longest_combination = \"\"\n",
    "longest_link = \"\"\n",
    "longest_query = \"\"\n",
    "longest_info = \"\"\n",
    "total_combinations = 0\n",
    "\n",
    "token_counts = []\n",
    "separator_token = \"[SEP]\"  # BERT's separator token\n",
    "\n",
    "print(\"Analyzing token counts for all vehicle-query combinations...\\n\")\n",
    "\n",
    "for link in generated_questions:\n",
    "    if link in vehicles_info:\n",
    "        # Format vehicle information\n",
    "        vehicle_text = vehicles_info[link]\n",
    "        \n",
    "        # Process each query for this vehicle\n",
    "        for query in generated_questions[link]:\n",
    "            # Create combined text: vehicle_info [SEP] query\n",
    "            combined_text = f\"{vehicle_text} {separator_token} {query}\"\n",
    "            \n",
    "            # Tokenize and count\n",
    "            tokens = tokenizer.tokenize(combined_text)\n",
    "            token_count = len(tokens)\n",
    "            \n",
    "            token_counts.append(token_count)\n",
    "            total_combinations += 1\n",
    "            \n",
    "            # Check if exceeds 512 token limit\n",
    "            if token_count > 512:\n",
    "                exceeded_limit_count += 1\n",
    "            \n",
    "            # Track longest combination\n",
    "            if token_count > max_tokens:\n",
    "                max_tokens = token_count\n",
    "                longest_combination = combined_text\n",
    "                longest_link = link\n",
    "                longest_query = query\n",
    "                longest_info = vehicle_text\n",
    "    else:\n",
    "        print(f\"Warning: No vehicle info found for link: {link}\")\n",
    "\n",
    "print(f\"Analysis complete!\")\n",
    "print(f\"Total combinations processed: {total_combinations}\")\n",
    "print(f\"Combinations exceeding 512 tokens: {exceeded_limit_count}\")\n",
    "print(f\"Percentage exceeding limit: {(exceeded_limit_count/total_combinations)*100:.2f}%\")\n",
    "print(f\"\\nToken count statistics:\")\n",
    "print(f\"- Minimum tokens: {min(token_counts)}\")\n",
    "print(f\"- Maximum tokens: {max(token_counts)}\")\n",
    "print(f\"- Average tokens: {sum(token_counts)/len(token_counts):.2f}\")\n",
    "print(f\"- Median tokens: {sorted(token_counts)[len(token_counts)//2]}\")"
   ]
  },
  {
   "cell_type": "code",
   "execution_count": 7,
   "id": "longest_combination_analysis",
   "metadata": {},
   "outputs": [
    {
     "name": "stdout",
     "output_type": "stream",
     "text": [
      "================================================================================\n",
      "LONGEST COMBINATION FOUND:\n",
      "================================================================================\n",
      "Link: https://autobid.de/en/item/bmw-i7-xdrive-60-design-pure-excellence-3105732/details\n",
      "Total tokens: 540\n",
      "Info tokens: 454\n",
      "Query tokens: 85\n",
      "Exceeds limit by: 28 tokens\n",
      "\n",
      "Query:\n",
      "\"Looking for a BMW saloon, 4 door, with all-wheel drive and powered by an electric engine. The car should be grey metallic in color and have an automatic transmission system. The vehicle should have a power output of more than 100 KW and less than 200 KW. It should have onboard features like LED headlights, automatic tailgate, and satnav with map views. Has it driven less than 20,000 kilometres?\"\n",
      "\n",
      "Full combined text:\n",
      "details_list:\n",
      "- 'Airbags: 8'\n",
      "- Alarm system\n",
      "- Auto Hold\n",
      "- Autobeam\n",
      "- Automatic dimming exterior mirror\n",
      "- Automatic dimming internal mirror\n",
      "- Automatic tailgate\n",
      "- Climatronic\n",
      "- Cruise control\n",
      "- Electric windows front and rear\n",
      "- Fixed panorama roof\n",
      "- Head-up display\n",
      "- Lane Change Warning\n",
      "- Lane keeping system\n",
      "- Leather steering wheel\n",
      "- LED headlights\n",
      "- Multi-function steering wheel\n",
      "- On-board computer\n",
      "- Park assistant\n",
      "- Parking aid PDC (Park Distance Control) front/rear\n",
      "- Power steering\n",
      "- Rain sensor\n",
      "- Remote central locking\n",
      "- Reverse camera\n",
      "- Satnav with map views\n",
      "- Side mirror electrically foldable\n",
      "- Soft Close Automatic (Doors, Boot lid)\n",
      "- Sound system\n",
      "- Steering wheel heating\n",
      "- Sunblinds rear doors\n",
      "- 'Telephone: Telephone ready'\n",
      "- Tinted rear windows\n",
      "- Touchscreen\n",
      "- Tyre Pressure Indicator TPI\n",
      "- Voice control system\n",
      "details_text: 'BMW crystal headlight Iconic Glow Interior: BMW individual interior\n",
      "  Interior: BMW Individual full leather merino (Mokka) Innovation Package (Park Assistant\n",
      "  Package Professional, Park Assistant Package, Driving Assistance System: Park Assistant,\n",
      "  Driving Assistance System: Park Aid Page, Park Distance Control (PDC), Driving assistance\n",
      "  system: Riding assistant, service system: Remote 3D View, Surround camera system\n",
      "  (surround view), Driving assistance system: reversing assistant Professional, driving\n",
      "  assistance system: maneuvering assistant, driving assistance system: Driving assistant\n",
      "  Professional, driving assistant system: lane change assistant, driving assistance\n",
      "  system: false driving warning, driving assistant system: Speed-Limit display, driving\n",
      "  assistance system with brake assistant function, driving assistant system: Avoiding\n",
      "  rear-end survey (prevention rear collision), driving assistance system: cross-traffic\n",
      "  assistant,'\n",
      "information_dict:\n",
      "  Category: Saloon, 4 door, All-wheel drive\n",
      "  Colour: grey Metallic\n",
      "  Colour name: Sophistograu Brillanteffekt Metalli\n",
      "  First registration: '03.2023'\n",
      "  Fuel type: Electric vehicle\n",
      "  Location: D-56\n",
      "  Power output: 125 KW / 170 PS\n",
      "  Read mileage: 15,600 Kilometres\n",
      "  Supplier: 'Subsidiary/authorised dealer of the brand(s): BMW'\n",
      "  Systemleistung (KW): 400 KW / 544 PS\n",
      "  Total number of owners: 1 Owner\n",
      "  Transmission: Automatic\n",
      " [SEP] Looking for a BMW saloon, 4 door, with all-wheel drive and powered by an electric engine. The car should be grey metallic in color and have an automatic transmission system. The vehicle should have a power output of more than 100 KW and less than 200 KW. It should have onboard features like LED headlights, automatic tailgate, and satnav with map views. Has it driven less than 20,000 kilometres?\n",
      "\n",
      "Tokenization breakdown:\n",
      "Tokens: ['details', '_', 'list', ':', '-', \"'\", 'air', '##bags', ':', '8', \"'\", '-', 'alarm', 'system', '-', 'auto', 'hold', '-', 'auto', '##beam']...\n",
      "Total token count: 540\n"
     ]
    }
   ],
   "source": [
    "# Display the longest combination\n",
    "print(\"=\" * 80)\n",
    "print(\"LONGEST COMBINATION FOUND:\")\n",
    "print(\"=\" * 80)\n",
    "print(f\"Link: {longest_link}\")\n",
    "print(f\"Total tokens: {max_tokens}\")\n",
    "print(f\"Info tokens: {len(tokenizer.tokenize(longest_info))}\")\n",
    "print(f\"Query tokens: {len(tokenizer.tokenize(longest_query))}\")\n",
    "print(f\"Exceeds limit by: {max_tokens - 512} tokens\")\n",
    "print(\"\\nQuery:\")\n",
    "print(f'\"{longest_query}\"')\n",
    "print(\"\\nFull combined text:\")\n",
    "print(longest_combination)\n",
    "\n",
    "# Show tokenization breakdown\n",
    "print(\"\\nTokenization breakdown:\")\n",
    "tokens = tokenizer.tokenize(longest_combination)\n",
    "print(f\"Tokens: {tokens[:20]}...\" if len(tokens) > 20 else f\"Tokens: {tokens}\")\n",
    "print(f\"Total token count: {len(tokens)}\")"
   ]
  },
  {
   "cell_type": "code",
   "execution_count": 8,
   "id": "distribution_analysis",
   "metadata": {},
   "outputs": [
    {
     "data": {
      "image/png": "[encoded data removed]",
      "text/plain": [
       "<Figure size 1200x600 with 2 Axes>"
      ]
     },
     "metadata": {},
     "output_type": "display_data"
    },
    {
     "name": "stdout",
     "output_type": "stream",
     "text": [
      "\n",
      "Token count distribution by ranges:\n",
      "  0-256 tokens: 854 combinations (15.4%)\n",
      "  256-384 tokens: 2604 combinations (47.1%)\n",
      "  384-512 tokens: 1953 combinations (35.3%)\n",
      "  512-600 tokens: 119 combinations (2.2%)\n",
      "  600+ tokens: 0 combinations (0.0%)\n"
     ]
    }
   ],
   "source": [
    "# Token count distribution analysis\n",
    "import matplotlib.pyplot as plt\n",
    "import numpy as np\n",
    "\n",
    "# Create histogram of token counts\n",
    "plt.figure(figsize=(12, 6))\n",
    "\n",
    "plt.subplot(1, 2, 1)\n",
    "plt.hist(token_counts, bins=50, alpha=0.7, color='skyblue', edgecolor='black')\n",
    "plt.axvline(x=512, color='red', linestyle='--', label='512 token limit')\n",
    "plt.xlabel('Token Count')\n",
    "plt.ylabel('Frequency')\n",
    "plt.title('Distribution of Token Counts')\n",
    "plt.legend()\n",
    "plt.grid(True, alpha=0.3)\n",
    "\n",
    "# Show only the area around the limit\n",
    "plt.subplot(1, 2, 2)\n",
    "plt.hist(token_counts, bins=50, alpha=0.7, color='skyblue', edgecolor='black')\n",
    "plt.axvline(x=512, color='red', linestyle='--', label='512 token limit')\n",
    "plt.xlabel('Token Count')\n",
    "plt.ylabel('Frequency')\n",
    "plt.title('Distribution (Zoomed to 400-600 tokens)')\n",
    "plt.xlim(400, 600)\n",
    "plt.legend()\n",
    "plt.grid(True, alpha=0.3)\n",
    "\n",
    "plt.tight_layout()\n",
    "plt.show()\n",
    "\n",
    "# Count tokens in different ranges\n",
    "ranges = [(0, 256), (256, 384), (384, 512), (512, 600), (600, float('inf'))]\n",
    "print(\"\\nToken count distribution by ranges:\")\n",
    "for start, end in ranges:\n",
    "    count = sum(1 for tc in token_counts if start <= tc < end)\n",
    "    percentage = (count / total_combinations) * 100\n",
    "    range_str = f\"{start}-{end}\" if end != float('inf') else f\"{start}+\"\n",
    "    print(f\"  {range_str} tokens: {count} combinations ({percentage:.1f}%)\")"
   ]
  }
 ],
 "metadata": {
  "kernelspec": {
   "display_name": ".venv",
   "language": "python",
   "name": "python3"
  },
  "language_info": {
   "codemirror_mode": {
    "name": "ipython",
    "version": 3
   },
   "file_extension": ".py",
   "mimetype": "text/x-python",
   "name": "python",
   "nbconvert_exporter": "python",
   "pygments_lexer": "ipython3",
   "version": "3.11.9"
  }
 },
 "nbformat": 4,
 "nbformat_minor": 5
}
