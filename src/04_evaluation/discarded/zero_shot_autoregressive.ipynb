{
 "cells": [
  {
   "cell_type": "markdown",
   "id": "f44090b8",
   "metadata": {},
   "source": [
    "### Test: Falcon 7B Model as Baseline\n",
    "\n",
    "Unfortunately, even after a while of prompt engineering, this model seems to always output 'yes' and isn't any better than a random baseline."
   ]
  },
  {
   "cell_type": "code",
   "execution_count": 1,
   "id": "a9f38ce1",
   "metadata": {},
   "outputs": [
    {
     "name": "stderr",
     "output_type": "stream",
     "text": [
      "/storage/venv/lib/python3.11/site-packages/tqdm/auto.py:21: TqdmWarning: IProgress not found. Please update jupyter and ipywidgets. See https://ipywidgets.readthedocs.io/en/stable/user_install.html\n",
      "  from .autonotebook import tqdm as notebook_tqdm\n",
      "Downloading tokenizer_config.json: 1.13kB [00:00, 3.70MB/s]\n",
      "Downloading tokenizer.json: 2.73MB [00:00, 158MB/s]\n",
      "Downloading (…)cial_tokens_map.json: 100%|██████████| 281/281 [00:00<00:00, 2.07MB/s]\n",
      "Downloading config.json: 1.05kB [00:00, 2.64MB/s]\n",
      "Downloading (…)figuration_falcon.py: 7.16kB [00:00, 18.5MB/s]\n",
      "A new version of the following files was downloaded from https://huggingface.co/tiiuae/falcon-7b-instruct:\n",
      "- configuration_falcon.py\n",
      ". Make sure to double-check they do not contain any added malicious code. To avoid downloading new versions of the code file, you can pin a revision.\n",
      "\n",
      "WARNING: You are currently loading Falcon using legacy code contained in the model repository. Falcon has now been fully ported into the Hugging Face transformers library. For the most up-to-date and high-performance version of the Falcon model code, please update to the latest version of transformers and then load the model without the trust_remote_code=True argument.\n",
      "\n",
      "Downloading modeling_falcon.py: 56.9kB [00:00, 114MB/s]\n",
      "A new version of the following files was downloaded from https://huggingface.co/tiiuae/falcon-7b-instruct:\n",
      "- modeling_falcon.py\n",
      ". Make sure to double-check they do not contain any added malicious code. To avoid downloading new versions of the code file, you can pin a revision.\n",
      "/storage/venv/lib/python3.11/site-packages/bitsandbytes/cextension.py:34: UserWarning: The installed version of bitsandbytes was compiled without GPU support. 8-bit optimizers, 8-bit multiplication, and GPU quantization are unavailable.\n",
      "  warn(\"The installed version of bitsandbytes was compiled without GPU support. \"\n",
      "/storage/venv/lib/python3.11/site-packages/bitsandbytes/cuda_setup/main.py:149: UserWarning: WARNING: The following directories listed in your path were found to be non-existent: {PosixPath('\"/root/.vscode-server/cli/servers/Stable-cb0c47c0cfaad0757385834bd89d410c78a856c0/server/out/nls.messages.json\",\"locale\"'), PosixPath('\"en\",\"resolvedLanguage\"'), PosixPath('\"en\",\"osLocale\"'), PosixPath('{\"userLocale\"'), PosixPath('\"en\",\"availableLanguages\"'), PosixPath('{}}'), PosixPath('\"en\",\"defaultMessagesFile\"')}\n",
      "  warn(msg)\n",
      "/storage/venv/lib/python3.11/site-packages/bitsandbytes/cuda_setup/main.py:149: UserWarning: WARNING: The following directories listed in your path were found to be non-existent: {PosixPath('vs/workbench/api/node/extensionHostProcess')}\n",
      "  warn(msg)\n",
      "/storage/venv/lib/python3.11/site-packages/bitsandbytes/cuda_setup/main.py:149: UserWarning: WARNING: The following directories listed in your path were found to be non-existent: {PosixPath('//matplotlib_inline.backend_inline'), PosixPath('module')}\n",
      "  warn(msg)\n",
      "/storage/venv/lib/python3.11/site-packages/bitsandbytes/cuda_setup/main.py:149: UserWarning: WARNING: The following directories listed in your path were found to be non-existent: {PosixPath('/usr/local/cuda/lib64')}\n",
      "  warn(msg)\n",
      "/storage/venv/lib/python3.11/site-packages/bitsandbytes/cuda_setup/main.py:149: UserWarning: WARNING: No libcudart.so found! Install CUDA or the cudatoolkit package (anaconda)!\n",
      "  warn(msg)\n",
      "/storage/venv/lib/python3.11/site-packages/bitsandbytes/cuda_setup/main.py:149: UserWarning: WARNING: Compute capability < 7.5 detected! Only slow 8-bit matmul is supported for your GPU!\n",
      "  warn(msg)\n"
     ]
    },
    {
     "name": "stdout",
     "output_type": "stream",
     "text": [
      "\n",
      "===================================BUG REPORT===================================\n",
      "Welcome to bitsandbytes. For bug reports, please run\n",
      "\n",
      "python -m bitsandbytes\n",
      "\n",
      " and submit this information together with your error trace to: https://github.com/TimDettmers/bitsandbytes/issues\n",
      "================================================================================\n",
      "bin /storage/venv/lib/python3.11/site-packages/bitsandbytes/libbitsandbytes_cpu.so\n",
      "/storage/venv/lib/python3.11/site-packages/bitsandbytes/libbitsandbytes_cpu.so: undefined symbol: cadam32bit_grad_fp32\n",
      "CUDA_SETUP: WARNING! libcudart.so not found in any environmental path. Searching in backup paths...\n",
      "ERROR: /storage/venv/bin/python: undefined symbol: cudaRuntimeGetVersion\n",
      "CUDA SETUP: libcudart.so path is None\n",
      "CUDA SETUP: Is seems that your cuda installation is not in your path. See https://github.com/TimDettmers/bitsandbytes/issues/85 for more information.\n",
      "CUDA SETUP: CUDA version lower than 11 are currently not supported for LLM.int8(). You will be only to use 8-bit optimizers and quantization routines!!\n",
      "CUDA SETUP: Highest compute capability among GPUs detected: 7.0\n",
      "CUDA SETUP: Detected CUDA version 00\n",
      "CUDA SETUP: Loading binary /storage/venv/lib/python3.11/site-packages/bitsandbytes/libbitsandbytes_cpu.so...\n"
     ]
    },
    {
     "name": "stderr",
     "output_type": "stream",
     "text": [
      "Downloading (…)fetensors.index.json: 17.7kB [00:00, 39.5MB/s]\n",
      "Downloading (…)of-00002.safetensors: 100%|██████████| 9.95G/9.95G [00:46<00:00, 214MB/s]\n",
      "Downloading (…)of-00002.safetensors: 100%|██████████| 4.48G/4.48G [00:21<00:00, 204MB/s]\n",
      "Downloading shards: 100%|██████████| 2/2 [01:09<00:00, 34.50s/it]\n",
      "Loading checkpoint shards: 100%|██████████| 2/2 [00:06<00:00,  3.29s/it]\n",
      "Downloading generation_config.json: 100%|██████████| 117/117 [00:00<00:00, 1.03MB/s]\n"
     ]
    }
   ],
   "source": [
    "from transformers import AutoTokenizer, AutoModelForCausalLM\n",
    "import torch\n",
    "\n",
    "model_name = \"tiiuae/falcon-7b-instruct\"\n",
    "CACHE_DIR = \"/storage/courses/ds_workflow/car-web-scraping/model_cache\"\n",
    "\n",
    "# Load tokenizer\n",
    "tokenizer = AutoTokenizer.from_pretrained(model_name, cache_dir=CACHE_DIR,)\n",
    "\n",
    "# Load model with custom code (Flash Attention is not used by default on V100/older setups)\n",
    "model = AutoModelForCausalLM.from_pretrained(\n",
    "    model_name,\n",
    "    torch_dtype=torch.bfloat16 if torch.cuda.is_bf16_supported() else torch.float16,\n",
    "    trust_remote_code=True,\n",
    "    cache_dir=CACHE_DIR,\n",
    "    device_map=\"auto\"  # or just .cuda() if single-GPU\n",
    ")"
   ]
  },
  {
   "cell_type": "code",
   "execution_count": 4,
   "id": "42566354",
   "metadata": {},
   "outputs": [],
   "source": [
    "# Long vehicle description\n",
    "car_description = \"\"\"\n",
    "Category: Van / minibus, 5 door. Engine type: Diesel. Fuel type: Diesel. Emission class: EURO 6. \n",
    "CO2 emissions: 173 g/km (combined). Power output: 110 KW / 150 PS. First registration: 12.2023. \n",
    "KBA Key Manufacturer: 0603. KBA Key Type: CQJ. VIN: WV2ZZZST2RH******. Transmission: Automatic. \n",
    "Colour: white (Sonderlackierung Candy-weiss). Read mileage: 21,800 Kilometres. \n",
    "Owners: 1. Location: D-73. Vehicle release: 3 working days after payment.\n",
    "\"\"\"\n",
    "\n",
    "# Short search texts\n",
    "queries = [\n",
    "    # 1. Perfect match — fits the long description\n",
    "    \"I'm looking for a white diesel van with automatic transmission, registered recently, less than 30,000 km driven, and EURO 6 emission class.\",\n",
    "    \n",
    "    # 2. Significant mismatch — different fuel, emission, transmission, and mileage\n",
    "    \"I'm searching for a white petrol van with manual transmission, EURO 5 emissions, and around 80,000 kilometers mileage.\",\n",
    "    \n",
    "    # 3. Completely different vehicle category and features\n",
    "    \"I'm interested in a red convertible sports car with over 300 horsepower and leather seats.\",\n",
    "\n",
    "    ## New harder task:\n",
    "    # 4. Close to match — but **fuel type is incorrect** (petrol instead of diesel)\n",
    "    \"I'm looking for a white petrol van with automatic transmission, registered recently, less than 30,000 km driven, and EURO 6 emission class.\",\n",
    "    \n",
    "    ## New harder task:\n",
    "    # 5. Mileage too strict — **less than 20,000 km** instead of 21,800 km\n",
    "    \"I'm looking for a white diesel van with automatic transmission, registered recently, less than 20,000 km driven, and EURO 6 emission class.\"\n",
    "]\n",
    "\n",
    "prompt = \"\"\"\n",
    "A car dealer compares if the description of a car is exactly what his customer asked for.\n",
    "Does the question match the description: Please answer yes or no (yes/no): \"\"\""
   ]
  },
  {
   "cell_type": "code",
   "execution_count": 5,
   "id": "8104bae6",
   "metadata": {},
   "outputs": [
    {
     "name": "stderr",
     "output_type": "stream",
     "text": [
      "Setting `pad_token_id` to `eos_token_id`:11 for open-end generation.\n",
      "Setting `pad_token_id` to `eos_token_id`:11 for open-end generation.\n",
      "Setting `pad_token_id` to `eos_token_id`:11 for open-end generation.\n"
     ]
    },
    {
     "name": "stdout",
     "output_type": "stream",
     "text": [
      "Car description: \n",
      "Category: Van / minibus, 5 door. Engine type: Diesel. Fuel type: Diesel. Emission class: EURO 6. \n",
      "CO2 emissions: 173 g/km (combined). Power output: 110 KW / 150 PS. First registration: 12.2023. \n",
      "KBA Key Manufacturer: 0603. KBA Key Type: CQJ. VIN: WV2ZZZST2RH******. Transmission: Automatic. \n",
      "Colour: white (Sonderlackierung Candy-weiss). Read mileage: 21,800 Kilometres. \n",
      "Owners: 1. Location: D-73. Vehicle release: 3 working days after payment.\n",
      " question: I'm looking for a white diesel van with automatic transmission, registered recently, less than 30,000 km driven, and EURO 6 emission class. --- \n",
      "A car dealer compares if the description of a car is exactly what his customer asked for.\n",
      "Does the question match the description: Please answer yes or no (yes/no): \n",
      "Yes\n",
      "Car description: \n",
      "Category: Van / minibus, 5 door. Engine type: Diesel. Fuel type: Diesel. Emission class: EURO 6. \n",
      "CO2 emissions: 173 g/km (combined). Power output: 110 KW / 150 PS. First registration: 12.2023. \n",
      "KBA Key Manufacturer: 0603. KBA Key Type: CQJ. VIN: WV2ZZZST2RH******. Transmission: Automatic. \n",
      "Colour: white (Sonderlackierung Candy-weiss). Read mileage: 21,800 Kilometres. \n",
      "Owners: 1. Location: D-73. Vehicle release: 3 working days after payment.\n",
      " question: I'm searching for a white petrol van with manual transmission, EURO 5 emissions, and around 80,000 kilometers mileage. --- \n",
      "A car dealer compares if the description of a car is exactly what his customer asked for.\n",
      "Does the question match the description: Please answer yes or no (yes/no): \n",
      "Yes\n"
     ]
    },
    {
     "name": "stderr",
     "output_type": "stream",
     "text": [
      "Setting `pad_token_id` to `eos_token_id`:11 for open-end generation.\n",
      "Setting `pad_token_id` to `eos_token_id`:11 for open-end generation.\n"
     ]
    },
    {
     "name": "stdout",
     "output_type": "stream",
     "text": [
      "Car description: \n",
      "Category: Van / minibus, 5 door. Engine type: Diesel. Fuel type: Diesel. Emission class: EURO 6. \n",
      "CO2 emissions: 173 g/km (combined). Power output: 110 KW / 150 PS. First registration: 12.2023. \n",
      "KBA Key Manufacturer: 0603. KBA Key Type: CQJ. VIN: WV2ZZZST2RH******. Transmission: Automatic. \n",
      "Colour: white (Sonderlackierung Candy-weiss). Read mileage: 21,800 Kilometres. \n",
      "Owners: 1. Location: D-73. Vehicle release: 3 working days after payment.\n",
      " question: I'm interested in a red convertible sports car with over 300 horsepower and leather seats. --- \n",
      "A car dealer compares if the description of a car is exactly what his customer asked for.\n",
      "Does the question match the description: Please answer yes or no (yes/no): \n",
      "Yes\n",
      "Car description: \n",
      "Category: Van / minibus, 5 door. Engine type: Diesel. Fuel type: Diesel. Emission class: EURO 6. \n",
      "CO2 emissions: 173 g/km (combined). Power output: 110 KW / 150 PS. First registration: 12.2023. \n",
      "KBA Key Manufacturer: 0603. KBA Key Type: CQJ. VIN: WV2ZZZST2RH******. Transmission: Automatic. \n",
      "Colour: white (Sonderlackierung Candy-weiss). Read mileage: 21,800 Kilometres. \n",
      "Owners: 1. Location: D-73. Vehicle release: 3 working days after payment.\n",
      " question: I'm looking for a white petrol van with automatic transmission, registered recently, less than 30,000 km driven, and EURO 6 emission class. --- \n",
      "A car dealer compares if the description of a car is exactly what his customer asked for.\n",
      "Does the question match the description: Please answer yes or no (yes/no): \n",
      "Yes\n",
      "Car description: \n",
      "Category: Van / minibus, 5 door. Engine type: Diesel. Fuel type: Diesel. Emission class: EURO 6. \n",
      "CO2 emissions: 173 g/km (combined). Power output: 110 KW / 150 PS. First registration: 12.2023. \n",
      "KBA Key Manufacturer: 0603. KBA Key Type: CQJ. VIN: WV2ZZZST2RH******. Transmission: Automatic. \n",
      "Colour: white (Sonderlackierung Candy-weiss). Read mileage: 21,800 Kilometres. \n",
      "Owners: 1. Location: D-73. Vehicle release: 3 working days after payment.\n",
      " question: I'm looking for a white diesel van with automatic transmission, registered recently, less than 20,000 km driven, and EURO 6 emission class. --- \n",
      "A car dealer compares if the description of a car is exactly what his customer asked for.\n",
      "Does the question match the description: Please answer yes or no (yes/no): \n",
      "Yes\n"
     ]
    }
   ],
   "source": [
    "for query in queries:\n",
    "    combined = f\"Car description: {car_description} question: {query} --- {prompt}\"\n",
    "    inputs = tokenizer(combined, return_tensors=\"pt\").to(model.device)\n",
    "\n",
    "    with torch.no_grad():\n",
    "        outputs = model.generate(\n",
    "            **inputs,\n",
    "            max_new_tokens=5,\n",
    "            do_sample=False\n",
    "        )\n",
    "\n",
    "    print(tokenizer.decode(outputs[0], skip_special_tokens=True))"
   ]
  }
 ],
 "metadata": {
  "kernelspec": {
   "display_name": "venv",
   "language": "python",
   "name": "python3"
  },
  "language_info": {
   "codemirror_mode": {
    "name": "ipython",
    "version": 3
   },
   "file_extension": ".py",
   "mimetype": "text/x-python",
   "name": "python",
   "nbconvert_exporter": "python",
   "pygments_lexer": "ipython3",
   "version": "3.11.9"
  }
 },
 "nbformat": 4,
 "nbformat_minor": 5
}
