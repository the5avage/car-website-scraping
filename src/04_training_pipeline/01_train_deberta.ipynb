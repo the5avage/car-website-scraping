{
 "cells": [
  {
   "cell_type": "markdown",
   "id": "4dbf4a6e",
   "metadata": {},
   "source": [
    "### Fine-tune and Test RoBERTa or DeBERTa (or any other BERT variant)"
   ]
  },
  {
   "cell_type": "code",
   "execution_count": null,
   "id": "9abcfa77",
   "metadata": {},
   "outputs": [
    {
     "name": "stderr",
     "output_type": "stream",
     "text": [
      "/storage/venv_h100/lib/python3.11/site-packages/tqdm/auto.py:21: TqdmWarning: IProgress not found. Please update jupyter and ipywidgets. See https://ipywidgets.readthedocs.io/en/stable/user_install.html\n",
      "  from .autonotebook import tqdm as notebook_tqdm\n",
      "\u001b[34m\u001b[1mwandb\u001b[0m: \u001b[33mWARNING\u001b[0m If you're specifying your api key in code, ensure this code is not shared publicly.\n",
      "\u001b[34m\u001b[1mwandb\u001b[0m: \u001b[33mWARNING\u001b[0m Consider setting the WANDB_API_KEY environment variable, or running `wandb login` from the command line.\n",
      "\u001b[34m\u001b[1mwandb\u001b[0m: Appending key for api.wandb.ai to your netrc file: /root/.netrc\n",
      "\u001b[34m\u001b[1mwandb\u001b[0m: Currently logged in as: \u001b[33mpinkfloat\u001b[0m (\u001b[33mpinkfloat-berliner-hochschule-f-r-technik\u001b[0m) to \u001b[32mhttps://api.wandb.ai\u001b[0m. Use \u001b[1m`wandb login --relogin`\u001b[0m to force relogin\n"
     ]
    },
    {
     "data": {
      "text/plain": [
       "True"
      ]
     },
     "execution_count": 1,
     "metadata": {},
     "output_type": "execute_result"
    }
   ],
   "source": [
    "import torch\n",
    "import torch.nn as nn\n",
    "from torch.utils.data import Dataset, DataLoader\n",
    "from transformers import (\n",
    "    AutoTokenizer, AutoModelForSequenceClassification,\n",
    "    TrainingArguments, Trainer, AutoConfig\n",
    ")\n",
    "import json\n",
    "import yaml\n",
    "import numpy as np\n",
    "from sklearn.metrics import accuracy_score, f1_score, precision_recall_fscore_support, precision_score, recall_score\n",
    "from sklearn.model_selection import KFold\n",
    "import logging\n",
    "from typing import Dict, List, Tuple, Optional\n",
    "import os\n",
    "from dataclasses import dataclass\n",
    "import uuid\n",
    "import wandb\n",
    "wandb.login(key=\"your-key\")"
   ]
  },
  {
   "cell_type": "code",
   "execution_count": 2,
   "id": "6c2867b5",
   "metadata": {},
   "outputs": [
    {
     "name": "stdout",
     "output_type": "stream",
     "text": [
      "4.41.2\n"
     ]
    }
   ],
   "source": [
    "import transformers\n",
    "print(transformers.__version__)"
   ]
  },
  {
   "cell_type": "markdown",
   "id": "faaa7a28",
   "metadata": {},
   "source": [
    "#### Data Paths"
   ]
  },
  {
   "cell_type": "code",
   "execution_count": 3,
   "id": "4a4d8e48",
   "metadata": {},
   "outputs": [],
   "source": [
    "train_vehicles_path = \"../../data/train_vehicles_info.yaml\"\n",
    "train_queries_path = \"../../data/train_generated_questions.json\"\n",
    "test_vehicles_path = \"../../data/test_vehicles_info.yaml\"\n",
    "test_queries_path = \"../../data/test_generated_questions.json\"\n",
    "\n",
    "# Set up logging\n",
    "logging.basicConfig(level=logging.INFO)\n",
    "logger = logging.getLogger(__name__)"
   ]
  },
  {
   "cell_type": "markdown",
   "id": "6af82ce3",
   "metadata": {},
   "source": [
    "#### Settings for Training"
   ]
  },
  {
   "cell_type": "code",
   "execution_count": 4,
   "id": "8ceb09b5",
   "metadata": {},
   "outputs": [
    {
     "name": "stderr",
     "output_type": "stream",
     "text": [
      "\u001b[34m\u001b[1mwandb\u001b[0m: \u001b[33mWARNING\u001b[0m Using a boolean value for 'reinit' is deprecated. Use 'return_previous' or 'finish_previous' instead.\n"
     ]
    },
    {
     "data": {
      "text/html": [
       "Tracking run with wandb version 0.21.0"
      ],
      "text/plain": [
       "<IPython.core.display.HTML object>"
      ]
     },
     "metadata": {},
     "output_type": "display_data"
    },
    {
     "data": {
      "text/html": [
       "Run data is saved locally in <code>/storage/courses/ds_workflow/car-web-scraping/src/04_training_pipeline/wandb/run-20250715_205409-diizdyxw</code>"
      ],
      "text/plain": [
       "<IPython.core.display.HTML object>"
      ]
     },
     "metadata": {},
     "output_type": "display_data"
    },
    {
     "data": {
      "text/html": [
       "Syncing run <strong><a href='https://wandb.ai/pinkfloat-berliner-hochschule-f-r-technik/vehicle-cross-encoder/runs/diizdyxw' target=\"_blank\">5-fold-cv-deberta-30f10c-main</a></strong> to <a href='https://wandb.ai/pinkfloat-berliner-hochschule-f-r-technik/vehicle-cross-encoder' target=\"_blank\">Weights & Biases</a> (<a href='https://wandb.me/developer-guide' target=\"_blank\">docs</a>)<br>"
      ],
      "text/plain": [
       "<IPython.core.display.HTML object>"
      ]
     },
     "metadata": {},
     "output_type": "display_data"
    },
    {
     "data": {
      "text/html": [
       " View project at <a href='https://wandb.ai/pinkfloat-berliner-hochschule-f-r-technik/vehicle-cross-encoder' target=\"_blank\">https://wandb.ai/pinkfloat-berliner-hochschule-f-r-technik/vehicle-cross-encoder</a>"
      ],
      "text/plain": [
       "<IPython.core.display.HTML object>"
      ]
     },
     "metadata": {},
     "output_type": "display_data"
    },
    {
     "data": {
      "text/html": [
       " View run at <a href='https://wandb.ai/pinkfloat-berliner-hochschule-f-r-technik/vehicle-cross-encoder/runs/diizdyxw' target=\"_blank\">https://wandb.ai/pinkfloat-berliner-hochschule-f-r-technik/vehicle-cross-encoder/runs/diizdyxw</a>"
      ],
      "text/plain": [
       "<IPython.core.display.HTML object>"
      ]
     },
     "metadata": {},
     "output_type": "display_data"
    }
   ],
   "source": [
    "@dataclass\n",
    "class ModelConfig:\n",
    "    \"\"\"Configuration for the fine-tuning process\"\"\"\n",
    "    model_name: str = \"microsoft/deberta-v3-base\"  # or \"roberta-base\"\n",
    "    max_length: int = 512\n",
    "    learning_rate: float = 2e-5\n",
    "    num_epochs: int = 3\n",
    "    batch_size: int = 16\n",
    "    warmup_steps: int = 100\n",
    "    weight_decay: float = 0.01\n",
    "    output_dir: str = \"./deberta\"\n",
    "    save_steps: int = 500\n",
    "    eval_steps: int = 500\n",
    "    logging_steps: int = 100\n",
    "\n",
    "\n",
    "config = ModelConfig()\n",
    "\n",
    "# Start main W&B run manually\n",
    "random_id = uuid.uuid4().hex[:6] # e.g., 'a7c3d9'\n",
    "wandb_group = f\"5-fold-cv-deberta-{random_id}\"\n",
    "wandb_project = \"vehicle-cross-encoder\"\n",
    "\n",
    "main_run = wandb.init(\n",
    "    project=wandb_project,\n",
    "    name=wandb_group + \"-main\",\n",
    "    group=wandb_group,\n",
    "    config=config.__dict__,\n",
    "    reinit=True\n",
    ")\n",
    "\n",
    "run_name = wandb.run.name\n",
    "config.output_dir = os.path.join(config.output_dir, run_name)"
   ]
  },
  {
   "cell_type": "code",
   "execution_count": 5,
   "id": "12bc0bb6",
   "metadata": {},
   "outputs": [],
   "source": [
    "class VehicleDataset(Dataset):\n",
    "    \"\"\"Dataset class for vehicle-query pairs\"\"\"\n",
    "    \n",
    "    def __init__(self, data_pairs: List[Tuple[str, str, int]], tokenizer, max_length: int = 512):\n",
    "        self.data_pairs = data_pairs\n",
    "        self.tokenizer = tokenizer\n",
    "        self.max_length = max_length\n",
    "    \n",
    "    def __len__(self):\n",
    "        return len(self.data_pairs)\n",
    "    \n",
    "    def __getitem__(self, idx):\n",
    "        query, vehicle_text, label = self.data_pairs[idx]\n",
    "        \n",
    "        # Tokenize the query-vehicle pair\n",
    "        # Following cross-encoder format: [CLS] query [SEP] vehicle_text [SEP]\n",
    "        encoding = self.tokenizer(\n",
    "            query,\n",
    "            vehicle_text,\n",
    "            truncation=True,\n",
    "            padding='max_length',\n",
    "            max_length=self.max_length,\n",
    "            return_tensors='pt'\n",
    "        )\n",
    "        \n",
    "        return {\n",
    "            'input_ids': encoding['input_ids'].flatten(),\n",
    "            'attention_mask': encoding['attention_mask'].flatten(),\n",
    "            'labels': torch.tensor(label, dtype=torch.long)\n",
    "        }"
   ]
  },
  {
   "cell_type": "code",
   "execution_count": 6,
   "id": "3fdfaa08",
   "metadata": {},
   "outputs": [],
   "source": [
    "class VehicleCrossEncoder:\n",
    "    \"\"\"Main class for fine-tuning cross-encoder models\"\"\"\n",
    "    \n",
    "    def __init__(self, config: ModelConfig):\n",
    "        self.config = config\n",
    "        self.tokenizer = None\n",
    "        self.model = None\n",
    "        self.trainer = None\n",
    "\n",
    "    def load_training_data(self, train_vehicles_file: str, train_questions_file: str, num_folds: int = 5) -> List[Tuple[List, List]]:\n",
    "        \"\"\"Load training data and return 5-fold cross-validation splits\"\"\"\n",
    "        \n",
    "        # Load training vehicle data\n",
    "        with open(train_vehicles_file, 'r', encoding='utf-8') as f:\n",
    "            vehicles_data = yaml.safe_load(f)\n",
    "\n",
    "        # Load training questions data\n",
    "        with open(train_questions_file, 'r', encoding='utf-8') as f:\n",
    "            questions_data = json.load(f)\n",
    "\n",
    "        # Prepare vehicle-level data\n",
    "        vehicle_datasets = []\n",
    "        for vehicle_url, vehicle_info in vehicles_data.items():\n",
    "            vehicle_text = self._create_vehicle_description(vehicle_info)\n",
    "            if vehicle_url in questions_data:\n",
    "                questions = questions_data[vehicle_url]\n",
    "                vehicle_pairs = [(q, vehicle_text, int(label)) for q, label in questions.items()]\n",
    "                vehicle_datasets.append({'url': vehicle_url, 'pairs': vehicle_pairs})\n",
    "\n",
    "        # Prepare non-overlapping folds from all training vehicles\n",
    "        import random\n",
    "        random.seed(42)\n",
    "        random.shuffle(vehicle_datasets)\n",
    "        \n",
    "        # Calculate fold sizes\n",
    "        total_vehicles = len(vehicle_datasets)\n",
    "        fold_size = total_vehicles // num_folds\n",
    "        remainder = total_vehicles % num_folds\n",
    "        \n",
    "        folds = []\n",
    "        start_idx = 0\n",
    "        \n",
    "        for fold_idx in range(num_folds):\n",
    "            # Calculate fold size (distribute remainder across first few folds)\n",
    "            current_fold_size = fold_size + (1 if fold_idx < remainder else 0)\n",
    "            \n",
    "            # Get validation vehicles for this fold\n",
    "            val_vehicles = vehicle_datasets[start_idx:start_idx + current_fold_size]\n",
    "            \n",
    "            # Get training vehicles (all others)\n",
    "            train_vehicles = vehicle_datasets[:start_idx] + vehicle_datasets[start_idx + current_fold_size:]\n",
    "            \n",
    "            # Convert to pairs\n",
    "            train_pairs = []\n",
    "            val_pairs = []\n",
    "            \n",
    "            for vehicle in train_vehicles:\n",
    "                train_pairs.extend(vehicle['pairs'])\n",
    "            for vehicle in val_vehicles:\n",
    "                val_pairs.extend(vehicle['pairs'])\n",
    "            \n",
    "            random.shuffle(train_pairs)\n",
    "            folds.append((train_pairs, val_pairs))\n",
    "            \n",
    "            logger.info(f\"Fold {fold_idx + 1}: {len(train_vehicles)} train vehicles, {len(val_vehicles)} val vehicles\")\n",
    "            logger.info(f\"  → Train pairs: {len(train_pairs)}\")\n",
    "            logger.info(f\"  → Val pairs:   {len(val_pairs)}\")\n",
    "            \n",
    "            start_idx += current_fold_size\n",
    "\n",
    "        return folds\n",
    "\n",
    "    def load_test_data(self, test_vehicles_file: str, test_questions_file: str) -> List:\n",
    "        \"\"\"Load test data and return test pairs\"\"\"\n",
    "        \n",
    "        # Load test vehicle data\n",
    "        with open(test_vehicles_file, 'r', encoding='utf-8') as f:\n",
    "            vehicles_data = yaml.safe_load(f)\n",
    "\n",
    "        # Load test questions data\n",
    "        with open(test_questions_file, 'r', encoding='utf-8') as f:\n",
    "            questions_data = json.load(f)\n",
    "\n",
    "        # Prepare test pairs\n",
    "        test_pairs = []\n",
    "        for vehicle_url, vehicle_info in vehicles_data.items():\n",
    "            vehicle_text = self._create_vehicle_description(vehicle_info)\n",
    "            if vehicle_url in questions_data:\n",
    "                questions = questions_data[vehicle_url]\n",
    "                vehicle_pairs = [(q, vehicle_text, int(label)) for q, label in questions.items()]\n",
    "                test_pairs.extend(vehicle_pairs)\n",
    "\n",
    "        logger.info(f\"Test set: {len(vehicles_data)} vehicles → {len(test_pairs)} pairs\")\n",
    "        \n",
    "        return test_pairs\n",
    "    \n",
    "    def _create_vehicle_description(self, vehicle_info: Dict) -> str:\n",
    "        \"\"\"Create a comprehensive vehicle description from the data\"\"\"\n",
    "        description_parts = []\n",
    "        \n",
    "        # Add information dictionary details\n",
    "        if 'information_dict' in vehicle_info:\n",
    "            info_dict = vehicle_info['information_dict']\n",
    "            for key, value in info_dict.items():\n",
    "                description_parts.append(f\"{key}: {value}\")\n",
    "        \n",
    "        # Add details list\n",
    "        if 'details_list' in vehicle_info:\n",
    "            details = \" | \".join(vehicle_info['details_list'])\n",
    "            description_parts.append(details)\n",
    "        \n",
    "        # Add details text if available\n",
    "        if 'details_text' in vehicle_info:\n",
    "            description_parts.append(vehicle_info['details_text'])\n",
    "        \n",
    "        return \" | \".join(description_parts)\n",
    "    \n",
    "    def initialize_model(self):\n",
    "        \"\"\"Initialize tokenizer and model\"\"\"\n",
    "        logger.info(f\"Loading model: {self.config.model_name}\")\n",
    "        \n",
    "        self.tokenizer = AutoTokenizer.from_pretrained(self.config.model_name)\n",
    "        \n",
    "        # Load model configuration and modify for binary classification\n",
    "        model_config = AutoConfig.from_pretrained(self.config.model_name)\n",
    "        model_config.num_labels = 2  # Binary classification\n",
    "        \n",
    "        self.model = AutoModelForSequenceClassification.from_pretrained(\n",
    "            self.config.model_name,\n",
    "            config=model_config,\n",
    "            ignore_mismatched_sizes=True \n",
    "        )\n",
    "        \n",
    "        logger.info(\"Model and tokenizer loaded successfully\")\n",
    "    \n",
    "    def compute_metrics(self, eval_pred):\n",
    "        \"\"\"Compute metrics for evaluation\"\"\"\n",
    "        predictions, labels = eval_pred\n",
    "        predictions = np.argmax(predictions, axis=1)\n",
    "        \n",
    "        precision, recall, f1, _ = precision_recall_fscore_support(labels, predictions, average='binary')\n",
    "        accuracy = accuracy_score(labels, predictions)\n",
    "        \n",
    "        return {\n",
    "            'accuracy': accuracy,\n",
    "            'f1': f1,\n",
    "            'precision': precision,\n",
    "            'recall': recall\n",
    "        }\n",
    "\n",
    "    def train(self, test_pairs: List, folds: List[Tuple[List, List]]):\n",
    "        \"\"\"Train and evaluate the model using k-fold cross-validation and a held-out test set.\"\"\"\n",
    "        if self.model is None or self.tokenizer is None:\n",
    "            raise ValueError(\"Model not initialized. Call initialize_model() first.\")\n",
    "        \n",
    "        all_test_results = []\n",
    "\n",
    "        for fold_idx, (train_pairs, val_pairs) in enumerate(folds):\n",
    "            logger.info(f\"\\n====== Fold {fold_idx + 1} / {len(folds)} ======\")\n",
    "            logger.info(f\"Train size: {len(train_pairs)} | Validation size: {len(val_pairs)}\")\n",
    "\n",
    "            # Create datasets\n",
    "            train_dataset = VehicleDataset(train_pairs, self.tokenizer, self.config.max_length)\n",
    "            val_dataset = VehicleDataset(val_pairs, self.tokenizer, self.config.max_length)\n",
    "            test_dataset = VehicleDataset(test_pairs, self.tokenizer, self.config.max_length)\n",
    "\n",
    "            # Set up fold-specific output directory\n",
    "            fold_output_dir = os.path.join(self.config.output_dir, f\"fold_{fold_idx + 1}\")\n",
    "            os.makedirs(fold_output_dir, exist_ok=True)\n",
    "\n",
    "            training_args = TrainingArguments(\n",
    "                output_dir=fold_output_dir,\n",
    "                num_train_epochs=self.config.num_epochs,\n",
    "                per_device_train_batch_size=self.config.batch_size,\n",
    "                per_device_eval_batch_size=self.config.batch_size,\n",
    "                learning_rate=self.config.learning_rate,\n",
    "                weight_decay=self.config.weight_decay,\n",
    "                warmup_steps=self.config.warmup_steps,\n",
    "                logging_steps=self.config.logging_steps,\n",
    "                evaluation_strategy=\"steps\",\n",
    "                eval_steps=self.config.eval_steps,\n",
    "                save_steps=self.config.save_steps,\n",
    "                load_best_model_at_end=True,\n",
    "                metric_for_best_model=\"f1\",\n",
    "                greater_is_better=True,\n",
    "                save_total_limit=2,\n",
    "                report_to=\"wandb\",\n",
    "                run_name=f\"{wandb_group}-fold-{fold_idx + 1}\"\n",
    "            )\n",
    "\n",
    "            fold_run = wandb.init(\n",
    "                project=wandb_project,\n",
    "                name=f\"{wandb_group}-fold-{fold_idx + 1}\",\n",
    "                group=wandb_group,\n",
    "                config=config.__dict__,\n",
    "                reinit=True\n",
    "            )\n",
    "\n",
    "            # Reinitialize trainer (model stays the same unless you want to reinit for each fold)\n",
    "            self.trainer = Trainer(\n",
    "                model=self.model,\n",
    "                args=training_args,\n",
    "                train_dataset=train_dataset,\n",
    "                eval_dataset=val_dataset,\n",
    "                compute_metrics=self.compute_metrics,\n",
    "            )\n",
    "\n",
    "            # Train\n",
    "            logger.info(\"Starting training...\")\n",
    "            self.trainer.train()\n",
    "\n",
    "            # Evaluate on test set\n",
    "            logger.info(\"Evaluating on held-out test set...\")\n",
    "            test_results = self.trainer.evaluate(test_dataset)\n",
    "            logger.info(f\"Fold {fold_idx + 1} test results: {test_results}\")\n",
    "            all_test_results.append(test_results)\n",
    "\n",
    "            # Save model and tokenizer\n",
    "            self.trainer.save_model()\n",
    "            self.tokenizer.save_pretrained(fold_output_dir)\n",
    "\n",
    "            # Finish wandb fold run\n",
    "            fold_run.finish()\n",
    "\n",
    "        logger.info(\"All folds completed.\")\n",
    "        main_run.finish() # finish wandb main run\n",
    "        return all_test_results\n",
    "\n",
    "    def predict(self, query: str, vehicle_text: str) -> Tuple[float, int]:\n",
    "        \"\"\"Make a prediction for a query-vehicle pair\"\"\"\n",
    "        if self.model is None or self.tokenizer is None:\n",
    "            raise ValueError(\"Model not initialized or trained.\")\n",
    "        \n",
    "        # Tokenize input\n",
    "        encoding = self.tokenizer(\n",
    "            query,\n",
    "            vehicle_text,\n",
    "            truncation=True,\n",
    "            padding='max_length',\n",
    "            max_length=self.config.max_length,\n",
    "            return_tensors='pt'\n",
    "        )\n",
    "        \n",
    "        # Make prediction\n",
    "        with torch.no_grad():\n",
    "            outputs = self.model(**encoding)\n",
    "            predictions = torch.nn.functional.softmax(outputs.logits, dim=-1)\n",
    "            \n",
    "        # Get probability of positive class (index 1)\n",
    "        positive_prob = predictions[0][1].item()\n",
    "        predicted_label = int(positive_prob > 0.5)\n",
    "        \n",
    "        return positive_prob, predicted_label\n",
    "\n"
   ]
  },
  {
   "cell_type": "code",
   "execution_count": 7,
   "id": "750d1870",
   "metadata": {},
   "outputs": [
    {
     "name": "stderr",
     "output_type": "stream",
     "text": [
      "INFO:__main__:Fold 1: 376 train vehicles, 95 val vehicles\n",
      "INFO:__main__:  → Train pairs: 3760\n",
      "INFO:__main__:  → Val pairs:   950\n",
      "INFO:__main__:Fold 2: 377 train vehicles, 94 val vehicles\n",
      "INFO:__main__:  → Train pairs: 3770\n",
      "INFO:__main__:  → Val pairs:   940\n",
      "INFO:__main__:Fold 3: 377 train vehicles, 94 val vehicles\n",
      "INFO:__main__:  → Train pairs: 3770\n",
      "INFO:__main__:  → Val pairs:   940\n",
      "INFO:__main__:Fold 4: 377 train vehicles, 94 val vehicles\n",
      "INFO:__main__:  → Train pairs: 3770\n",
      "INFO:__main__:  → Val pairs:   940\n",
      "INFO:__main__:Fold 5: 377 train vehicles, 94 val vehicles\n",
      "INFO:__main__:  → Train pairs: 3770\n",
      "INFO:__main__:  → Val pairs:   940\n",
      "INFO:__main__:Test set: 82 vehicles → 820 pairs\n"
     ]
    }
   ],
   "source": [
    "# Initialize the cross-encoder\n",
    "cross_encoder = VehicleCrossEncoder(config)\n",
    "\n",
    "# Load training data for cross-validation\n",
    "folds = cross_encoder.load_training_data(\n",
    "    train_vehicles_file=train_vehicles_path,\n",
    "    train_questions_file=train_queries_path\n",
    ")\n",
    "\n",
    "# Load test data for final evaluation\n",
    "test_pairs = cross_encoder.load_test_data(\n",
    "    test_vehicles_file=test_vehicles_path,\n",
    "    test_questions_file=test_queries_path\n",
    ")"
   ]
  },
  {
   "cell_type": "markdown",
   "id": "47f47dc8",
   "metadata": {},
   "source": [
    "**About the train / val / test split:**  \n",
    "Each set contains the complete vehicle_info x 10 corresponding queries combinations to avoid data leakage about the cars between the sets."
   ]
  },
  {
   "cell_type": "code",
   "execution_count": 8,
   "id": "2f75072b",
   "metadata": {},
   "outputs": [
    {
     "name": "stdout",
     "output_type": "stream",
     "text": [
      "\n",
      "=== Preview from TEST Set (first 10 examples) ===\n",
      "\n",
      "[1] Label: 1\n",
      "Query: Looking for a 5-door all-terrain electric vehicle with automatic transmission, black metallic color, and keyless-go feature. Should have a power output of less than 100 KW and mileage not exceeding 15,000 km. Also, it should have been first registered after 08.2022.\n",
      "Vehicle Text: Category: All-terrain vehicle, 5 door | Colour: black Metallic | First registration: 08.2023 | Fuel type: Electric vehicle | Location: D-88 | Power output: 85 KW / 116 PS | Read mileage: 11,900 Kilometres | Supplier: Subsidiary/authorised dealer of the brand(s): Mini, BMW | Total number of owners: 1 Owner | Transmission: Automatic | Vehicle origin: Import / Reimport | Vehicle release: Release of the vehicle will take place at the earliest 7 working days following receipt of payment. | ABS | Airbags: 6 | Automatic dimming internal mirror | Automatic tailgate | Climatronic | Cruise control | Electric windows front and rear | Fixed panorama roof | Induction charger for Smartphones | Keyless-Go | Lane Change Warning | Lane keeping system | Leather steering wheel | LED headlights | Multi-function steering wheel | On-board computer | Park assistant | Parking aid PDC (Park Distance Control) front/rear | Power steering | Radio, MP3, DAB | Remote central locking | Reverse camera | Satnav with map views | Side mirror electrically foldable | Stability program ESP (Electronic Stability Program) | Telephone: Preparation with Bluetooth | Tinted rear windows | Touchscreen | Tyre Pressure Indicator TPI | Voice control system | Collision warning\n",
      "Congestion assistant\n",
      "--------------------------------------------------------------------------------\n",
      "[2] Label: 1\n",
      "Query: Searching for an electric vehicle with a minimum of 6 airbags, LED headlights, and a park assistant. The car should have a touchscreen, voice control system, and a power output of more than 110 KW.\n",
      "Vehicle Text: Category: All-terrain vehicle, 5 door | Colour: black Metallic | First registration: 08.2023 | Fuel type: Electric vehicle | Location: D-88 | Power output: 85 KW / 116 PS | Read mileage: 11,900 Kilometres | Supplier: Subsidiary/authorised dealer of the brand(s): Mini, BMW | Total number of owners: 1 Owner | Transmission: Automatic | Vehicle origin: Import / Reimport | Vehicle release: Release of the vehicle will take place at the earliest 7 working days following receipt of payment. | ABS | Airbags: 6 | Automatic dimming internal mirror | Automatic tailgate | Climatronic | Cruise control | Electric windows front and rear | Fixed panorama roof | Induction charger for Smartphones | Keyless-Go | Lane Change Warning | Lane keeping system | Leather steering wheel | LED headlights | Multi-function steering wheel | On-board computer | Park assistant | Parking aid PDC (Park Distance Control) front/rear | Power steering | Radio, MP3, DAB | Remote central locking | Reverse camera | Satnav with map views | Side mirror electrically foldable | Stability program ESP (Electronic Stability Program) | Telephone: Preparation with Bluetooth | Tinted rear windows | Touchscreen | Tyre Pressure Indicator TPI | Voice control system | Collision warning\n",
      "Congestion assistant\n",
      "--------------------------------------------------------------------------------\n",
      "[3] Label: 1\n",
      "Query: In search of an electric vehicle with automatic tailgate and lane keeping system. The car should have tinted rear windows and a fixed panorama roof. It should also have a power output of around 120 KW.\n",
      "Vehicle Text: Category: All-terrain vehicle, 5 door | Colour: black Metallic | First registration: 08.2023 | Fuel type: Electric vehicle | Location: D-88 | Power output: 85 KW / 116 PS | Read mileage: 11,900 Kilometres | Supplier: Subsidiary/authorised dealer of the brand(s): Mini, BMW | Total number of owners: 1 Owner | Transmission: Automatic | Vehicle origin: Import / Reimport | Vehicle release: Release of the vehicle will take place at the earliest 7 working days following receipt of payment. | ABS | Airbags: 6 | Automatic dimming internal mirror | Automatic tailgate | Climatronic | Cruise control | Electric windows front and rear | Fixed panorama roof | Induction charger for Smartphones | Keyless-Go | Lane Change Warning | Lane keeping system | Leather steering wheel | LED headlights | Multi-function steering wheel | On-board computer | Park assistant | Parking aid PDC (Park Distance Control) front/rear | Power steering | Radio, MP3, DAB | Remote central locking | Reverse camera | Satnav with map views | Side mirror electrically foldable | Stability program ESP (Electronic Stability Program) | Telephone: Preparation with Bluetooth | Tinted rear windows | Touchscreen | Tyre Pressure Indicator TPI | Voice control system | Collision warning\n",
      "Congestion assistant\n",
      "--------------------------------------------------------------------------------\n",
      "[4] Label: 1\n",
      "Query: Interested in a 5-door electric vehicle with ABS and stability program. The car should have a power output of less than 90 KW and a leather steering wheel. Mileage should not exceed 12,000 km.\n",
      "Vehicle Text: Category: All-terrain vehicle, 5 door | Colour: black Metallic | First registration: 08.2023 | Fuel type: Electric vehicle | Location: D-88 | Power output: 85 KW / 116 PS | Read mileage: 11,900 Kilometres | Supplier: Subsidiary/authorised dealer of the brand(s): Mini, BMW | Total number of owners: 1 Owner | Transmission: Automatic | Vehicle origin: Import / Reimport | Vehicle release: Release of the vehicle will take place at the earliest 7 working days following receipt of payment. | ABS | Airbags: 6 | Automatic dimming internal mirror | Automatic tailgate | Climatronic | Cruise control | Electric windows front and rear | Fixed panorama roof | Induction charger for Smartphones | Keyless-Go | Lane Change Warning | Lane keeping system | Leather steering wheel | LED headlights | Multi-function steering wheel | On-board computer | Park assistant | Parking aid PDC (Park Distance Control) front/rear | Power steering | Radio, MP3, DAB | Remote central locking | Reverse camera | Satnav with map views | Side mirror electrically foldable | Stability program ESP (Electronic Stability Program) | Telephone: Preparation with Bluetooth | Tinted rear windows | Touchscreen | Tyre Pressure Indicator TPI | Voice control system | Collision warning\n",
      "Congestion assistant\n",
      "--------------------------------------------------------------------------------\n",
      "[5] Label: 1\n",
      "Query: Looking for an electric vehicle with cruise control and reverse camera. The car should have an automatic dimming internal mirror and a first registration date after 07.2023. It should also have a power output of around 115 KW.\n",
      "Vehicle Text: Category: All-terrain vehicle, 5 door | Colour: black Metallic | First registration: 08.2023 | Fuel type: Electric vehicle | Location: D-88 | Power output: 85 KW / 116 PS | Read mileage: 11,900 Kilometres | Supplier: Subsidiary/authorised dealer of the brand(s): Mini, BMW | Total number of owners: 1 Owner | Transmission: Automatic | Vehicle origin: Import / Reimport | Vehicle release: Release of the vehicle will take place at the earliest 7 working days following receipt of payment. | ABS | Airbags: 6 | Automatic dimming internal mirror | Automatic tailgate | Climatronic | Cruise control | Electric windows front and rear | Fixed panorama roof | Induction charger for Smartphones | Keyless-Go | Lane Change Warning | Lane keeping system | Leather steering wheel | LED headlights | Multi-function steering wheel | On-board computer | Park assistant | Parking aid PDC (Park Distance Control) front/rear | Power steering | Radio, MP3, DAB | Remote central locking | Reverse camera | Satnav with map views | Side mirror electrically foldable | Stability program ESP (Electronic Stability Program) | Telephone: Preparation with Bluetooth | Tinted rear windows | Touchscreen | Tyre Pressure Indicator TPI | Voice control system | Collision warning\n",
      "Congestion assistant\n",
      "--------------------------------------------------------------------------------\n",
      "[6] Label: 0\n",
      "Query: Searching for a petrol vehicle with a power output of less than 90 KW and mileage not exceeding 15,000 km. The car should have been first registered after 08.2022 and should have a sunroof.\n",
      "Vehicle Text: Category: All-terrain vehicle, 5 door | Colour: black Metallic | First registration: 08.2023 | Fuel type: Electric vehicle | Location: D-88 | Power output: 85 KW / 116 PS | Read mileage: 11,900 Kilometres | Supplier: Subsidiary/authorised dealer of the brand(s): Mini, BMW | Total number of owners: 1 Owner | Transmission: Automatic | Vehicle origin: Import / Reimport | Vehicle release: Release of the vehicle will take place at the earliest 7 working days following receipt of payment. | ABS | Airbags: 6 | Automatic dimming internal mirror | Automatic tailgate | Climatronic | Cruise control | Electric windows front and rear | Fixed panorama roof | Induction charger for Smartphones | Keyless-Go | Lane Change Warning | Lane keeping system | Leather steering wheel | LED headlights | Multi-function steering wheel | On-board computer | Park assistant | Parking aid PDC (Park Distance Control) front/rear | Power steering | Radio, MP3, DAB | Remote central locking | Reverse camera | Satnav with map views | Side mirror electrically foldable | Stability program ESP (Electronic Stability Program) | Telephone: Preparation with Bluetooth | Tinted rear windows | Touchscreen | Tyre Pressure Indicator TPI | Voice control system | Collision warning\n",
      "Congestion assistant\n",
      "--------------------------------------------------------------------------------\n",
      "[7] Label: 0\n",
      "Query: In search of a diesel vehicle with automatic tailgate and lane keeping system. The car should have a power output of more than 110 KW and tinted rear windows.\n",
      "Vehicle Text: Category: All-terrain vehicle, 5 door | Colour: black Metallic | First registration: 08.2023 | Fuel type: Electric vehicle | Location: D-88 | Power output: 85 KW / 116 PS | Read mileage: 11,900 Kilometres | Supplier: Subsidiary/authorised dealer of the brand(s): Mini, BMW | Total number of owners: 1 Owner | Transmission: Automatic | Vehicle origin: Import / Reimport | Vehicle release: Release of the vehicle will take place at the earliest 7 working days following receipt of payment. | ABS | Airbags: 6 | Automatic dimming internal mirror | Automatic tailgate | Climatronic | Cruise control | Electric windows front and rear | Fixed panorama roof | Induction charger for Smartphones | Keyless-Go | Lane Change Warning | Lane keeping system | Leather steering wheel | LED headlights | Multi-function steering wheel | On-board computer | Park assistant | Parking aid PDC (Park Distance Control) front/rear | Power steering | Radio, MP3, DAB | Remote central locking | Reverse camera | Satnav with map views | Side mirror electrically foldable | Stability program ESP (Electronic Stability Program) | Telephone: Preparation with Bluetooth | Tinted rear windows | Touchscreen | Tyre Pressure Indicator TPI | Voice control system | Collision warning\n",
      "Congestion assistant\n",
      "--------------------------------------------------------------------------------\n",
      "[8] Label: 0\n",
      "Query: Interested in a 3-door electric vehicle with ABS and stability program. The car should have a power output of less than 90 KW and a leather steering wheel. Mileage should not exceed 10,000 km.\n",
      "Vehicle Text: Category: All-terrain vehicle, 5 door | Colour: black Metallic | First registration: 08.2023 | Fuel type: Electric vehicle | Location: D-88 | Power output: 85 KW / 116 PS | Read mileage: 11,900 Kilometres | Supplier: Subsidiary/authorised dealer of the brand(s): Mini, BMW | Total number of owners: 1 Owner | Transmission: Automatic | Vehicle origin: Import / Reimport | Vehicle release: Release of the vehicle will take place at the earliest 7 working days following receipt of payment. | ABS | Airbags: 6 | Automatic dimming internal mirror | Automatic tailgate | Climatronic | Cruise control | Electric windows front and rear | Fixed panorama roof | Induction charger for Smartphones | Keyless-Go | Lane Change Warning | Lane keeping system | Leather steering wheel | LED headlights | Multi-function steering wheel | On-board computer | Park assistant | Parking aid PDC (Park Distance Control) front/rear | Power steering | Radio, MP3, DAB | Remote central locking | Reverse camera | Satnav with map views | Side mirror electrically foldable | Stability program ESP (Electronic Stability Program) | Telephone: Preparation with Bluetooth | Tinted rear windows | Touchscreen | Tyre Pressure Indicator TPI | Voice control system | Collision warning\n",
      "Congestion assistant\n",
      "--------------------------------------------------------------------------------\n",
      "[9] Label: 0\n",
      "Query: Looking for a 5-door all-terrain petrol vehicle with automatic transmission. The car should have a power output of less than 100 KW and mileage not exceeding 15,000 km.\n",
      "Vehicle Text: Category: All-terrain vehicle, 5 door | Colour: black Metallic | First registration: 08.2023 | Fuel type: Electric vehicle | Location: D-88 | Power output: 85 KW / 116 PS | Read mileage: 11,900 Kilometres | Supplier: Subsidiary/authorised dealer of the brand(s): Mini, BMW | Total number of owners: 1 Owner | Transmission: Automatic | Vehicle origin: Import / Reimport | Vehicle release: Release of the vehicle will take place at the earliest 7 working days following receipt of payment. | ABS | Airbags: 6 | Automatic dimming internal mirror | Automatic tailgate | Climatronic | Cruise control | Electric windows front and rear | Fixed panorama roof | Induction charger for Smartphones | Keyless-Go | Lane Change Warning | Lane keeping system | Leather steering wheel | LED headlights | Multi-function steering wheel | On-board computer | Park assistant | Parking aid PDC (Park Distance Control) front/rear | Power steering | Radio, MP3, DAB | Remote central locking | Reverse camera | Satnav with map views | Side mirror electrically foldable | Stability program ESP (Electronic Stability Program) | Telephone: Preparation with Bluetooth | Tinted rear windows | Touchscreen | Tyre Pressure Indicator TPI | Voice control system | Collision warning\n",
      "Congestion assistant\n",
      "--------------------------------------------------------------------------------\n",
      "[10] Label: 0\n",
      "Query: Searching for an electric vehicle with a minimum of 8 airbags, LED headlights, and a park assistant. The car should have a touchscreen and a power output of more than 120 KW.\n",
      "Vehicle Text: Category: All-terrain vehicle, 5 door | Colour: black Metallic | First registration: 08.2023 | Fuel type: Electric vehicle | Location: D-88 | Power output: 85 KW / 116 PS | Read mileage: 11,900 Kilometres | Supplier: Subsidiary/authorised dealer of the brand(s): Mini, BMW | Total number of owners: 1 Owner | Transmission: Automatic | Vehicle origin: Import / Reimport | Vehicle release: Release of the vehicle will take place at the earliest 7 working days following receipt of payment. | ABS | Airbags: 6 | Automatic dimming internal mirror | Automatic tailgate | Climatronic | Cruise control | Electric windows front and rear | Fixed panorama roof | Induction charger for Smartphones | Keyless-Go | Lane Change Warning | Lane keeping system | Leather steering wheel | LED headlights | Multi-function steering wheel | On-board computer | Park assistant | Parking aid PDC (Park Distance Control) front/rear | Power steering | Radio, MP3, DAB | Remote central locking | Reverse camera | Satnav with map views | Side mirror electrically foldable | Stability program ESP (Electronic Stability Program) | Telephone: Preparation with Bluetooth | Tinted rear windows | Touchscreen | Tyre Pressure Indicator TPI | Voice control system | Collision warning\n",
      "Congestion assistant\n",
      "--------------------------------------------------------------------------------\n",
      "\n",
      "=== Preview from TRAIN Set (Fold 1) (first 10 examples) ===\n",
      "\n",
      "[1] Label: 0\n",
      "Query: Looking for a gasoline-powered, 5-door SUV with an automatic transmission. Does the car come with features like LED headlights, park assistant, and reverse camera?\n",
      "Vehicle Text: Category: All-terrain vehicle, 5 door, All-wheel drive | Colour: black Metallic | Colour name: mythosschwarz | Emission class: EURO 6d | Engine type: Diesel | First registration: 02.2022 | Fuel type: Diesel Mildhybrid | Location: D-59 | Power output: 170 KW / 231 PS | Read mileage: 135,900 Kilometres | Supplier: Subsidiary/authorised dealer of the brand(s): Audi | Total number of owners: 1 Owner | Transmission: Automatic | Vehicle origin: Leasing vehicle | Vehicle release: Release of the vehicle will take place at the earliest 5 working days following receipt of payment. | ABS | Airbags: 6 | Auto Hold | Automatic dimming internal mirror | Automatic tailgate | Climatronic in the back | Cruise control | Electric windows front and rear | Heated external mirror | Hill Descent Control HDC | Keyless-Go | Leather steering wheel | LED headlights | Multi-function steering wheel | On-board computer | Paddle shift steering wheel | Park assistant | Parking aid APS (Acoustic Parking System) front/rear | Power steering | Radio, DAB | Rain sensor | Remote central locking | Reverse camera | Roof rails | Satnav with map views: MMI plus | Side mirror electrically foldable | Stability program ESP (Electronic Stability Program) | Start/stop system | Telephone: Preparation with Bluetooth | Tinted rear windows | Touchscreen | Tyre Pressure Indicator TPI | Voice control system | 3rd series, individual seats foldable (2 seats)\n",
      "All -wheel steering\n",
      "Equipping package: S Line Sport / Plus (entry strips with aluminum insert and lettering, illuminated, loading edge protection (stainless steel), interior: decorative inserts aluminum matt, seat cover / upholstery: alcantara frequency / leather, lumbar supports front, electrated)\n",
      "Chassis (adaptive air suspension)\n",
      "Medium armrest in front comfort equipment\n",
      "Blocking differential\n",
      "--------------------------------------------------------------------------------\n",
      "[2] Label: 1\n",
      "Query: Seeking a car from an authorised dealer of Opel, with less than 5 previous owners. The car should have a power output of more than 180 PS and be registered after 2000. It should come with a leather / wood steering wheel, and radio, CD.\n",
      "Vehicle Text: Category: Saloon, 4 door | Engine type: Otto | First registration: 10.2001 | Fuel type: Petrol | Location: D-56 | Power output: 141 KW / 192 PS | Read mileage: 200,000 Kilometres | Supplier: Subsidiary/authorised dealer of the brand(s): Opel | Total number of owners: 4 Owner / 2 Entry / Entries | Transmission: manual transmission | Vehicle release: Release of the vehicle will take place at the earliest 5 working days following receipt of payment. | ABS | Airbags: 6 | Climatronic | Cruise control | Electric rear blind | Electric steel sunroof | Electric windows front and rear | Leather / wood steering wheel | Multi-function steering wheel | On-board computer | Parking aid PDC (Park Distance Control) front/rear | Power steering | Radio, CD | Rain sensor | Remote central locking | Side mirror electrically foldable | Stability program ESP (Electronic Stability Program) | Demurrage chargesStarting on 20.07.2025 the daily demurrage for this item will be 6,00 EUR net, plus VAT\n",
      "--------------------------------------------------------------------------------\n",
      "[3] Label: 1\n",
      "Query: I need a car with an Audi connect, S-line exterior package, and a Bang & Olufsen sound system. It should also have a digital radio and be equipped with rain sensors. Is it powered by an engine with less than 150 PS?\n",
      "Vehicle Text: Category: Estate, 4 door | Colour: Metallic | Colour name: Gotlandgruen Metallic | Emission class: EURO 6 | Engine type: Otto | First registration: 04.2017 | Fuel type: Petrol | Location: D-35 | Power output: 110 KW / 150 PS | Read mileage: 310,100 Kilometres | Supplier: Trading firm | Total number of owners: 2 Owner | Transmission: 6-gear manual transmission | Vehicle release: Release of the vehicle will take place at the earliest 5 working days following receipt of payment. | ABS | Airbags: 6 | Bi-xenon | Climatronic | Cruise control | Electric boot lid | Electric windows front and rear | Heated external mirror | Leather steering wheel | Multi-function steering wheel | On-board computer | Parking aid APS (Acoustic Parking System) rear | Power steering | Radio, CD, MP3, DAB | Rain sensor | Remote central locking | Roof rails | Satnav with map views: MMI | Side mirror electrically foldable | Sports chassis | Stability program ASR (Anti-Slip Regulation), TCS (Traction Control System) | Start/stop system | Telephone: Preparation with Bluetooth | Trailer coupling swivel-mounted | Tyre Pressure Indicator TPI | Ambient lighting (Lighting Package)\n",
      "Audi connect (Internet-based services)\n",
      "S line exterior package (door sills with aluminum inlay and lettering, Sport Design sill trims)\n",
      "Light and MMI navigation multimedia interface (Bluetooth interface (mobile phone) including seatbelt microphone, 7.0-inch color display)\n",
      "Digital radio reception (DAB)\n",
      "Seat upholstery/upholstery: synthetic leather/leather\n",
      "Bang & Olufsen sound system\n",
      "Rear windows with film\n",
      "--------------------------------------------------------------------------------\n",
      "[4] Label: 0\n",
      "Query: In search of a Diesel powered 4-door sedan with all-wheel drive. It should have an automatic transmission and a reverse camera. The vehicle should have less than 5000 kilometers on it.\n",
      "Vehicle Text: Category: Pickup, 4 door, All-wheel drive | Colour: black | Engine type: Diesel | First registration: 09.2024 | Fuel type: Diesel | Location: D-88 | Power output: 120 KW / 163 PS | Read mileage: 4,100 Kilometres | Supplier: Subsidiary/authorised dealer of the brand(s): Mini, BMW | Total number of owners: 1 Owner | Transmission: Automatic | Vehicle origin: Import / Reimport | Vehicle release: Release of the vehicle will take place at the earliest 7 working days following receipt of payment. | ABS | Airbags: 2 | Climatronic | Electric windows front and rear | Fog light | Multi-function steering wheel | On-board computer | Parking aid PDC (Park Distance Control) rear | Particle filter | Power steering | Radio, MP3 | Remote central locking | Reverse camera | Side mirror electrically adjustable | Stability program ESP (Electronic Stability Program) | Telephone: Preparation with Bluetooth | Touchscreen | Tyre Pressure Indicator TPI | Demurrage chargesStarting on 21.07.2025 the daily demurrage for this item will be 6,00 EUR net, plus VAT\n",
      "--------------------------------------------------------------------------------\n",
      "[5] Label: 0\n",
      "Query: Looking for a vehicle with a power output of less than 70KW, and more than 100,000 kilometres on the clock. It should have features like a voice control system, parking aid APS, and power steering.\n",
      "Vehicle Text: Category: All-terrain vehicle, 5 door | Colour: white | Colour name: Gletscherweiß | First registration: 03.2023 | Fuel type: Electric vehicle | Location: D-97 | Power output: 77 KW / 105 PS | Read mileage: 77,700 Kilometres | Supplier: Deutsche Bahn Connect GmbH | Systemleistung (KW): 220 KW / 299 PS | Total number of owners: 1 Owner | Transmission: Automatic | Vehicle origin: Rental car | Vehicle release: Release of the vehicle will take place at the earliest 5 working days following receipt of payment. | ABS | Airbags: 6 | Automatic dimming internal mirror | Automatic tailgate | Climatronic | Cruise control | DAB | Electric windows front and rear | Lane Change Warning | Leather steering wheel | LED headlights | Multi-function steering wheel | On-board computer | Paddle shift steering wheel | Panorama sunroof | Parking aid APS (Acoustic Parking System) front/rear | Power steering | Rain sensor | Remote central locking | Reverse camera | Roof rails | Satnav with map views | Side mirror electrically adjustable | Sound system | Telephone: Telephone ready | Touchscreen | Tyre Pressure Indicator TPI | Voice control system | Demurrage chargesStarting on 19.07.2025 the daily demurrage for this item will be 6,00 EUR net, plus VAT\n",
      "--------------------------------------------------------------------------------\n",
      "[6] Label: 1\n",
      "Query: Do you have a 4-door saloon with all-wheel drive and automatic transmission? It should have features like LED headlights, climatronic in the back, and a start/stop system. Also, does it have less than 210 KW/PS power output?\n",
      "Vehicle Text: Category: Saloon, 4 door, All-wheel drive | Colour: grey Metallic | Colour name: Manhattangrau Metallic | Emission class: EURO 6d | Engine type: Diesel | First registration: 03.2023 | Fuel type: Mild-Hybrid | Location: D-21 | Power output: 150 KW / 204 PS | Read mileage: 49,400 Kilometres | Supplier: Audi Hamburg GmbH | Total number of owners: 2 Owner | Transmission: Automatic | Vehicle release: Release of the vehicle will take place at the earliest 3 working days following receipt of payment. | ABS | Airbags: 6 | Automatic dimming internal mirror | Automatic tailgate | Climatronic in the back | Electric windows front and rear | Heated external mirror | Induction charger for Smartphones | Lane Change Warning | Leather steering wheel | LED headlights | Multi-function steering wheel | On-board computer | Paddle shift steering wheel | Park assistant | Parking aid APS (Acoustic Parking System) front/rear | Parking heater | Power steering | Radio, DAB | Rain sensor | Remote central locking | Reverse camera | Satnav with map views: MMI Navigation | Side mirror electrically foldable | Stability program ESP (Electronic Stability Program) | Start/stop system | Telephone: Preparation with Bluetooth | Tinted rear windows | Touchscreen | Tyre Pressure Indicator TPI | Acoustic glass door panes on the side\n",
      "Assistance package plus (assistance package city, driving assistance system: 360-degree round protection (Audi Pre Sense 360 ​​°), driving assistance system: inmate protection system (Audi Pre Side Side Assist), driving assistance system: crossroad assistant, driving assistance system: exit assistance system, cross-traffic assistant rear, Driving assistance system: Trace change assistant (Side Assist) incl.\n",
      "--------------------------------------------------------------------------------\n",
      "[7] Label: 0\n",
      "Query: I'm interested in a white coloured car with automatic dimming mirrors and a leather steering wheel. It should be a diesel vehicle with a power output of around 200 KW. The car should have less than 1 previous owner and an on-board computer.\n",
      "Vehicle Text: Category: Saloon, 5 door, All-wheel drive | Colour: grey Pearl effect | Colour name: daytonagrau | Emission class: EURO 6 | First registration: 06.2022 | Fuel type: Electric vehicle | Location: D-21 | Power output: 142 KW / 193 PS | Read mileage: 71,600 Kilometres | Supplier: Subsidiary/authorised dealer of the brand(s): Audi | Total number of owners: 1 Owner | Type of connection: Combined Charging System | Vehicle release: Release of the vehicle will take place at the earliest 15 working days following receipt of payment. | Airbags: 6 | Alarm system | Automatic dimming exterior mirror | Automatic dimming internal mirror | Climatronic | Cruise control | Electric windows front and rear | Heated external mirror | Lane Change Warning | Lane keeping system | Leather steering wheel | LED headlights | Multi-function steering wheel | On-board computer | Paddle shift steering wheel | Panorama sunroof | Park assistant | Parking aid APS (Acoustic Parking System) front/rear | Power steering | Radio, MP3, DAB | Rain sensor | Remote central locking | Reverse camera | Satnav with map views: MMI Plus | Side mirror electrically foldable | Telephone: Preparation with Bluetooth | Tinted rear windows | Touchscreen | Tyre Pressure Indicator TPI | Assistance package Parking with a remote parking control (driving assistant system: parking control, parking aid at the front and rear, acoustically and optically with selective display (APS Plus), camera system Environmental view (TOP view)) Assistance package City (driving assistance system: lane change assistant (Side Assist) with exit warning and cross-traffic assistant, driving assistance system: intersection assistant, driving assistance system: exit warning, driving assistant system: lane change assistant (side assist) including Audi Pre Sense Rear) Assistance package Tour (driving assistance system: traffic sign detection, driving assistance system: lane warring including an\n",
      "--------------------------------------------------------------------------------\n",
      "[8] Label: 0\n",
      "Query: Looking for a red metallic car with a manual transmission and less than 40,000 km driven. It should have a sunroof and a park assistant. Preferably, it should be a petrol model.\n",
      "Vehicle Text: CO2 emissions (in g/km combined): 142 | Category: Estate, 5 door, All-wheel drive | Colour: black Metallic | Colour name: Black Sapphire Metallic | Emission class: EURO 6 | Engine type: Diesel | First registration: 11.2023 | Fuel type: Hybrid | Location: D-06 | Power output: 140 KW / 190 PS | Read mileage: 58,400 Kilometres | Total number of owners: 1 Owner | Transmission: Automatic | Vehicle release: Release of the vehicle will take place at the earliest 5 working days following receipt of payment. | ABS | Alarm system | Autobeam | Climatronic | Cruise control | Fixed panorama roof | Lane keeping system | Leather steering wheel | LED headlights | Multi-function steering wheel | On-board computer | Paddle shift steering wheel | Park assistant | Parking aid PDC (Park Distance Control) front/rear | Radio, DAB | Rain sensor | Roof rails | Servotronic | Side mirror electrically adjustable | Sound system | Stability program Direct traction Control (DTC) | Start/stop system | Sunblinds rear doors | Tinted rear windows | Trailer coupling swivel-mounted | Tyre Pressure Indicator TPI | Serial equipment:\n",
      "Equipment package: Connected Professional\n",
      "Removal of the bracket tailgate\n",
      "Fine lighting at the front\n",
      "Automatic tailgate actuation\n",
      "Model maintenance\n",
      "Parking brake electrically\n",
      "WideScreen display special equipment:\n",
      "Sensatec instrument panel\n",
      "Personalization system (Personal Esim)\n",
      "Seating backride adjustment at the front\n",
      "--------------------------------------------------------------------------------\n",
      "[9] Label: 0\n",
      "Query: Searching for a 4-door sedan with an automatic start/stop system and a detachable trailer coupling. It should also come with an on-board computer and have a diesel engine. The car should have been first registered after 2010.\n",
      "Vehicle Text: Category: Convertible / Roadster, 2 door | Colour: beige Metallic | Colour name: aurumbeige | Emission class: EURO 5 | Engine type: Otto | First registration: 07.2009 | Fuel type: Petrol | Location: D-45 | Power output: 155 KW / 211 PS | Read mileage: 173,900 Kilometres | Supplier: Subsidiary/authorised dealer of the brand(s): Citroën, Mitsubishi | Total number of owners: 6 Owner | Transmission: Automatic | Vehicle release: Release of the vehicle will take place at the earliest 10 working days following receipt of payment. | ABS | Airbags: 4 | Automatic dimming internal mirror | Bi-xenon | Climatronic | Electric convertible top | Electric windows front and rear | Fog light | Heated external mirror | Leather steering wheel | On-board computer | Parking aid APS (Acoustic Parking System) rear | Power steering | Radio, MP3, CD | Rain sensor | Remote central locking | Satnav with map views: MMI | Side mirror electrically foldable | Stability program ESP (Electronic Stability Program) | Start/stop system | Trailer coupling detachable | Tyre Pressure Indicator TPI | Acoustic ceiling\n",
      "Light and rain sensor\n",
      "Driver information system (FIS) with color display\n",
      "Interior: Decorative inserts walnut root high -gloss\n",
      "Light and rain sensor\n",
      "Comfort automatic climate automatic 3-zones (light and rain sensor)\n",
      "Light package\n",
      "Central armrest in front\n",
      "Multi-media interface MMI navigation\n",
      "Seat cover / padding: Leather Milano\n",
      "Sound system DSP / Audi sound system\n",
      "Door armrests Beledert\n",
      "--------------------------------------------------------------------------------\n",
      "[10] Label: 1\n",
      "Query: In need of a car with features such as automatic tailgate, Multi-function steering wheel, Satnav with map views and a reverse camera. Should be a petrol vehicle with a first registration date later than 07.2022\n",
      "Vehicle Text: Category: All-terrain vehicle, 5 door, All-wheel drive | Colour: black Metallic | Colour name: mythosschwarz (LY9T) | Emission class: EURO 6d | Engine type: Otto | First registration: 06.2022 | Fuel type: Petrol | Location: D-82 | Power output: 195 KW / 265 PS | Read mileage: 43,600 Kilometres | Total number of owners: 1 Owner | Transmission: Automatic | Vehicle release: Release of the vehicle will take place at the earliest 3 working days following receipt of payment. | ABS | Airbags: 6 | Automatic dimming exterior mirror | Automatic dimming internal mirror | Automatic tailgate | Climatronic | Cruise control | Electric windows front and rear | Heated external mirror | Leather steering wheel | LED headlights | Multi-function steering wheel | On-board computer | Paddle shift steering wheel | Parking aid APS (Acoustic Parking System) front/rear | Power steering | Radio, MP3, DAB | Rain sensor | Remote central locking | Reverse camera | Roof rails | Satnav with map views: MMI plus | Side mirror electrically foldable | Stability program ESP (Electronic Stability Program) | Start/stop system | Sunblinds rear doors | Telephone: Preparation with Bluetooth | Tinted rear windows | Touchscreen | Tyre Pressure Indicator TPI | Interior package S line\n",
      "New car tire guarantee\n",
      "Traffic light information danger information\n",
      "--------------------------------------------------------------------------------\n",
      "\n",
      "=== Preview from VAL Set (Fold 1) (first 10 examples) ===\n",
      "\n",
      "[1] Label: 1\n",
      "Query: Looking for a 2-door convertible with automatic transmission and a petrol engine with less than 170,000 kilometres on the odometer. It should have a black exterior, leather interior, and come equipped with cruise control, parking aid, and a built-in navigation system.\n",
      "Vehicle Text: Category: Convertible / Roadster, 2 door | Colour: black Pearl effect | Colour name: phantomschwarz | Emission class: EURO 4 | Engine type: Otto | First registration: 03.2010 | Fuel type: Petrol | Location: D-49 | Power output: 147 KW / 200 PS | Read mileage: 148,700 Kilometres | Supplier: Egon Senger GmbH | Total number of owners: 3 Owner | Transmission: Automatic | Vehicle release: Release of the vehicle will take place at the earliest 3 working days following receipt of payment. | ABS | Airbags: 4 | Automatic dimming internal mirror | Bi-xenon | CD-Changer | Climatronic | Cruise control | Electric convertible top | Electric windows front and rear | Fog light | Leather steering wheel | Navigation (ex works): MMI | On-board computer | Paddle shift steering wheel | Parking aid APS (Acoustic Parking System) rear | Power steering | Radio, MP3, CD | Rain sensor | Rear wind blocker | Remote central locking | Side mirror electrically adjustable | Sports chassis | Stability program ESP (Electronic Stability Program) | Acoustic ceiling\n",
      "Interior: Decorative inserts Aluminum Medial Silver\n",
      "Light and rain sensor\n",
      "Comfort automatic climate automatic 2-zones\n",
      "Light package\n",
      "Central armrest in front\n",
      "Multi-media interface MMI navigation plus\n",
      "Seat cover / padding: Leather Feinnappa\n",
      "Xenon headlights plus (low and high beam)\n",
      "--------------------------------------------------------------------------------\n",
      "[2] Label: 1\n",
      "Query: Interested in a convertible roadster from 2010 or later, with less than 160,000 km of mileage. It should come with an automatic climate control system and a navigation system. The engine should output at least 190 PS.\n",
      "Vehicle Text: Category: Convertible / Roadster, 2 door | Colour: black Pearl effect | Colour name: phantomschwarz | Emission class: EURO 4 | Engine type: Otto | First registration: 03.2010 | Fuel type: Petrol | Location: D-49 | Power output: 147 KW / 200 PS | Read mileage: 148,700 Kilometres | Supplier: Egon Senger GmbH | Total number of owners: 3 Owner | Transmission: Automatic | Vehicle release: Release of the vehicle will take place at the earliest 3 working days following receipt of payment. | ABS | Airbags: 4 | Automatic dimming internal mirror | Bi-xenon | CD-Changer | Climatronic | Cruise control | Electric convertible top | Electric windows front and rear | Fog light | Leather steering wheel | Navigation (ex works): MMI | On-board computer | Paddle shift steering wheel | Parking aid APS (Acoustic Parking System) rear | Power steering | Radio, MP3, CD | Rain sensor | Rear wind blocker | Remote central locking | Side mirror electrically adjustable | Sports chassis | Stability program ESP (Electronic Stability Program) | Acoustic ceiling\n",
      "Interior: Decorative inserts Aluminum Medial Silver\n",
      "Light and rain sensor\n",
      "Comfort automatic climate automatic 2-zones\n",
      "Light package\n",
      "Central armrest in front\n",
      "Multi-media interface MMI navigation plus\n",
      "Seat cover / padding: Leather Feinnappa\n",
      "Xenon headlights plus (low and high beam)\n",
      "--------------------------------------------------------------------------------\n",
      "[3] Label: 1\n",
      "Query: Searching for a black convertible with an Otto engine and automatic transmission. It should have a power output of more than 180 PS. Features like rain sensor, fog light, and an onboard computer are necessary.\n",
      "Vehicle Text: Category: Convertible / Roadster, 2 door | Colour: black Pearl effect | Colour name: phantomschwarz | Emission class: EURO 4 | Engine type: Otto | First registration: 03.2010 | Fuel type: Petrol | Location: D-49 | Power output: 147 KW / 200 PS | Read mileage: 148,700 Kilometres | Supplier: Egon Senger GmbH | Total number of owners: 3 Owner | Transmission: Automatic | Vehicle release: Release of the vehicle will take place at the earliest 3 working days following receipt of payment. | ABS | Airbags: 4 | Automatic dimming internal mirror | Bi-xenon | CD-Changer | Climatronic | Cruise control | Electric convertible top | Electric windows front and rear | Fog light | Leather steering wheel | Navigation (ex works): MMI | On-board computer | Paddle shift steering wheel | Parking aid APS (Acoustic Parking System) rear | Power steering | Radio, MP3, CD | Rain sensor | Rear wind blocker | Remote central locking | Side mirror electrically adjustable | Sports chassis | Stability program ESP (Electronic Stability Program) | Acoustic ceiling\n",
      "Interior: Decorative inserts Aluminum Medial Silver\n",
      "Light and rain sensor\n",
      "Comfort automatic climate automatic 2-zones\n",
      "Light package\n",
      "Central armrest in front\n",
      "Multi-media interface MMI navigation plus\n",
      "Seat cover / padding: Leather Feinnappa\n",
      "Xenon headlights plus (low and high beam)\n",
      "--------------------------------------------------------------------------------\n",
      "[4] Label: 1\n",
      "Query: In search of an Audi roadster with 4 airbags, automatic dimming internal mirror, and a power steering. It should have a 2-zone automatic climate control system and a power output of less than 210 PS.\n",
      "Vehicle Text: Category: Convertible / Roadster, 2 door | Colour: black Pearl effect | Colour name: phantomschwarz | Emission class: EURO 4 | Engine type: Otto | First registration: 03.2010 | Fuel type: Petrol | Location: D-49 | Power output: 147 KW / 200 PS | Read mileage: 148,700 Kilometres | Supplier: Egon Senger GmbH | Total number of owners: 3 Owner | Transmission: Automatic | Vehicle release: Release of the vehicle will take place at the earliest 3 working days following receipt of payment. | ABS | Airbags: 4 | Automatic dimming internal mirror | Bi-xenon | CD-Changer | Climatronic | Cruise control | Electric convertible top | Electric windows front and rear | Fog light | Leather steering wheel | Navigation (ex works): MMI | On-board computer | Paddle shift steering wheel | Parking aid APS (Acoustic Parking System) rear | Power steering | Radio, MP3, CD | Rain sensor | Rear wind blocker | Remote central locking | Side mirror electrically adjustable | Sports chassis | Stability program ESP (Electronic Stability Program) | Acoustic ceiling\n",
      "Interior: Decorative inserts Aluminum Medial Silver\n",
      "Light and rain sensor\n",
      "Comfort automatic climate automatic 2-zones\n",
      "Light package\n",
      "Central armrest in front\n",
      "Multi-media interface MMI navigation plus\n",
      "Seat cover / padding: Leather Feinnappa\n",
      "Xenon headlights plus (low and high beam)\n",
      "--------------------------------------------------------------------------------\n",
      "[5] Label: 1\n",
      "Query: Need a phantom black convertible with a petrol engine and an automatic transmission. It should have a power output of more than 190 PS. Also, it should be equipped with features like ESP, parking aid, and an acoustic ceiling.\n",
      "Vehicle Text: Category: Convertible / Roadster, 2 door | Colour: black Pearl effect | Colour name: phantomschwarz | Emission class: EURO 4 | Engine type: Otto | First registration: 03.2010 | Fuel type: Petrol | Location: D-49 | Power output: 147 KW / 200 PS | Read mileage: 148,700 Kilometres | Supplier: Egon Senger GmbH | Total number of owners: 3 Owner | Transmission: Automatic | Vehicle release: Release of the vehicle will take place at the earliest 3 working days following receipt of payment. | ABS | Airbags: 4 | Automatic dimming internal mirror | Bi-xenon | CD-Changer | Climatronic | Cruise control | Electric convertible top | Electric windows front and rear | Fog light | Leather steering wheel | Navigation (ex works): MMI | On-board computer | Paddle shift steering wheel | Parking aid APS (Acoustic Parking System) rear | Power steering | Radio, MP3, CD | Rain sensor | Rear wind blocker | Remote central locking | Side mirror electrically adjustable | Sports chassis | Stability program ESP (Electronic Stability Program) | Acoustic ceiling\n",
      "Interior: Decorative inserts Aluminum Medial Silver\n",
      "Light and rain sensor\n",
      "Comfort automatic climate automatic 2-zones\n",
      "Light package\n",
      "Central armrest in front\n",
      "Multi-media interface MMI navigation plus\n",
      "Seat cover / padding: Leather Feinnappa\n",
      "Xenon headlights plus (low and high beam)\n",
      "--------------------------------------------------------------------------------\n",
      "[6] Label: 0\n",
      "Query: Looking for a white SUV with a diesel engine, manual transmission, and more than 200,000 kilometres on the odometer. It should come with a sunroof, tow bar, and a built-in navigation system.\n",
      "Vehicle Text: Category: Convertible / Roadster, 2 door | Colour: black Pearl effect | Colour name: phantomschwarz | Emission class: EURO 4 | Engine type: Otto | First registration: 03.2010 | Fuel type: Petrol | Location: D-49 | Power output: 147 KW / 200 PS | Read mileage: 148,700 Kilometres | Supplier: Egon Senger GmbH | Total number of owners: 3 Owner | Transmission: Automatic | Vehicle release: Release of the vehicle will take place at the earliest 3 working days following receipt of payment. | ABS | Airbags: 4 | Automatic dimming internal mirror | Bi-xenon | CD-Changer | Climatronic | Cruise control | Electric convertible top | Electric windows front and rear | Fog light | Leather steering wheel | Navigation (ex works): MMI | On-board computer | Paddle shift steering wheel | Parking aid APS (Acoustic Parking System) rear | Power steering | Radio, MP3, CD | Rain sensor | Rear wind blocker | Remote central locking | Side mirror electrically adjustable | Sports chassis | Stability program ESP (Electronic Stability Program) | Acoustic ceiling\n",
      "Interior: Decorative inserts Aluminum Medial Silver\n",
      "Light and rain sensor\n",
      "Comfort automatic climate automatic 2-zones\n",
      "Light package\n",
      "Central armrest in front\n",
      "Multi-media interface MMI navigation plus\n",
      "Seat cover / padding: Leather Feinnappa\n",
      "Xenon headlights plus (low and high beam)\n",
      "--------------------------------------------------------------------------------\n",
      "[7] Label: 0\n",
      "Query: Interested in a 5-door hatchback from 2015 or later, with less than 60,000 km of mileage. It should come with a manual climate control system and a rear-view camera. The engine should output at least 150 PS.\n",
      "Vehicle Text: Category: Convertible / Roadster, 2 door | Colour: black Pearl effect | Colour name: phantomschwarz | Emission class: EURO 4 | Engine type: Otto | First registration: 03.2010 | Fuel type: Petrol | Location: D-49 | Power output: 147 KW / 200 PS | Read mileage: 148,700 Kilometres | Supplier: Egon Senger GmbH | Total number of owners: 3 Owner | Transmission: Automatic | Vehicle release: Release of the vehicle will take place at the earliest 3 working days following receipt of payment. | ABS | Airbags: 4 | Automatic dimming internal mirror | Bi-xenon | CD-Changer | Climatronic | Cruise control | Electric convertible top | Electric windows front and rear | Fog light | Leather steering wheel | Navigation (ex works): MMI | On-board computer | Paddle shift steering wheel | Parking aid APS (Acoustic Parking System) rear | Power steering | Radio, MP3, CD | Rain sensor | Rear wind blocker | Remote central locking | Side mirror electrically adjustable | Sports chassis | Stability program ESP (Electronic Stability Program) | Acoustic ceiling\n",
      "Interior: Decorative inserts Aluminum Medial Silver\n",
      "Light and rain sensor\n",
      "Comfort automatic climate automatic 2-zones\n",
      "Light package\n",
      "Central armrest in front\n",
      "Multi-media interface MMI navigation plus\n",
      "Seat cover / padding: Leather Feinnappa\n",
      "Xenon headlights plus (low and high beam)\n",
      "--------------------------------------------------------------------------------\n",
      "[8] Label: 0\n",
      "Query: Searching for a silver sedan with a Diesel engine and manual transmission. It should have a power output of more than 220 PS. Features like blind-spot detection, lane departure warning, and a heads-up display are necessary.\n",
      "Vehicle Text: Category: Convertible / Roadster, 2 door | Colour: black Pearl effect | Colour name: phantomschwarz | Emission class: EURO 4 | Engine type: Otto | First registration: 03.2010 | Fuel type: Petrol | Location: D-49 | Power output: 147 KW / 200 PS | Read mileage: 148,700 Kilometres | Supplier: Egon Senger GmbH | Total number of owners: 3 Owner | Transmission: Automatic | Vehicle release: Release of the vehicle will take place at the earliest 3 working days following receipt of payment. | ABS | Airbags: 4 | Automatic dimming internal mirror | Bi-xenon | CD-Changer | Climatronic | Cruise control | Electric convertible top | Electric windows front and rear | Fog light | Leather steering wheel | Navigation (ex works): MMI | On-board computer | Paddle shift steering wheel | Parking aid APS (Acoustic Parking System) rear | Power steering | Radio, MP3, CD | Rain sensor | Rear wind blocker | Remote central locking | Side mirror electrically adjustable | Sports chassis | Stability program ESP (Electronic Stability Program) | Acoustic ceiling\n",
      "Interior: Decorative inserts Aluminum Medial Silver\n",
      "Light and rain sensor\n",
      "Comfort automatic climate automatic 2-zones\n",
      "Light package\n",
      "Central armrest in front\n",
      "Multi-media interface MMI navigation plus\n",
      "Seat cover / padding: Leather Feinnappa\n",
      "Xenon headlights plus (low and high beam)\n",
      "--------------------------------------------------------------------------------\n",
      "[9] Label: 0\n",
      "Query: In search of a blue coupe with 6 airbags, heated seats, and a manual transmission. It should have a 3-zone automatic climate control system and a power output of less than 200 PS.\n",
      "Vehicle Text: Category: Convertible / Roadster, 2 door | Colour: black Pearl effect | Colour name: phantomschwarz | Emission class: EURO 4 | Engine type: Otto | First registration: 03.2010 | Fuel type: Petrol | Location: D-49 | Power output: 147 KW / 200 PS | Read mileage: 148,700 Kilometres | Supplier: Egon Senger GmbH | Total number of owners: 3 Owner | Transmission: Automatic | Vehicle release: Release of the vehicle will take place at the earliest 3 working days following receipt of payment. | ABS | Airbags: 4 | Automatic dimming internal mirror | Bi-xenon | CD-Changer | Climatronic | Cruise control | Electric convertible top | Electric windows front and rear | Fog light | Leather steering wheel | Navigation (ex works): MMI | On-board computer | Paddle shift steering wheel | Parking aid APS (Acoustic Parking System) rear | Power steering | Radio, MP3, CD | Rain sensor | Rear wind blocker | Remote central locking | Side mirror electrically adjustable | Sports chassis | Stability program ESP (Electronic Stability Program) | Acoustic ceiling\n",
      "Interior: Decorative inserts Aluminum Medial Silver\n",
      "Light and rain sensor\n",
      "Comfort automatic climate automatic 2-zones\n",
      "Light package\n",
      "Central armrest in front\n",
      "Multi-media interface MMI navigation plus\n",
      "Seat cover / padding: Leather Feinnappa\n",
      "Xenon headlights plus (low and high beam)\n",
      "--------------------------------------------------------------------------------\n",
      "[10] Label: 0\n",
      "Query: Need a red minivan with a hybrid engine and a manual transmission. It should have a power output of more than 250 PS. Also, it should be equipped with features like adaptive cruise control, parking aid, and a panoramic sunroof.\n",
      "Vehicle Text: Category: Convertible / Roadster, 2 door | Colour: black Pearl effect | Colour name: phantomschwarz | Emission class: EURO 4 | Engine type: Otto | First registration: 03.2010 | Fuel type: Petrol | Location: D-49 | Power output: 147 KW / 200 PS | Read mileage: 148,700 Kilometres | Supplier: Egon Senger GmbH | Total number of owners: 3 Owner | Transmission: Automatic | Vehicle release: Release of the vehicle will take place at the earliest 3 working days following receipt of payment. | ABS | Airbags: 4 | Automatic dimming internal mirror | Bi-xenon | CD-Changer | Climatronic | Cruise control | Electric convertible top | Electric windows front and rear | Fog light | Leather steering wheel | Navigation (ex works): MMI | On-board computer | Paddle shift steering wheel | Parking aid APS (Acoustic Parking System) rear | Power steering | Radio, MP3, CD | Rain sensor | Rear wind blocker | Remote central locking | Side mirror electrically adjustable | Sports chassis | Stability program ESP (Electronic Stability Program) | Acoustic ceiling\n",
      "Interior: Decorative inserts Aluminum Medial Silver\n",
      "Light and rain sensor\n",
      "Comfort automatic climate automatic 2-zones\n",
      "Light package\n",
      "Central armrest in front\n",
      "Multi-media interface MMI navigation plus\n",
      "Seat cover / padding: Leather Feinnappa\n",
      "Xenon headlights plus (low and high beam)\n",
      "--------------------------------------------------------------------------------\n",
      "\n",
      "=== Preview from TRAIN Set (Fold 2) (first 10 examples) ===\n",
      "\n",
      "[1] Label: 1\n",
      "Query: Seeking a vehicle with automatic transmission, navigation and climatronic. It should be an electric all-wheel drive with a power output of more than 250 KW. Also, is the mileage less than 50,000 kilometres?\n",
      "Vehicle Text: CO2 emissions (in g/km combined): 0 | Category: All-terrain vehicle, 4 door, All-wheel drive | Colour name: Mythosschwarz Metallic | First registration: 02.2023 | Fuel type: Electric vehicle | Location: D-49 | Power output: 300 KW / 408 PS | Read mileage: 34,800 Kilometres | Supplier: Leasing company | Total number of owners: Unknown | Transmission: Automatic | Vehicle release: Release of the vehicle will take place at the earliest 10 working days following receipt of payment. | Climatronic | Cruise control | Navigation (ex works) | Reverse camera | SeatsNumber of seats 5Driver's seatFront seat passengerRear leftRear rightSeat heating\n",
      "--------------------------------------------------------------------------------\n",
      "[2] Label: 0\n",
      "Query: Looking for a car with 8 airbags, automatic dimming exterior and interior mirrors, and LED headlights. Is it a Saloon with less than 4 previous owners and more than 180 horsepower?\n",
      "Vehicle Text: Category: Saloon, 3 door | Colour: black Metallic | Colour name: Black Sapphire | Emission class: EURO 6 | Engine type: Diesel | First registration: 01.2016 | Fuel type: Diesel | Location: D-35 | Power output: 140 KW / 190 PS | Read mileage: 120,100 Kilometres | Supplier: Trading firm | Total number of owners: 4 Owner | Transmission: Automatic | Vehicle release: Release of the vehicle will take place at the earliest 5 working days following receipt of payment. | ABS | Airbags: 6 | Autobeam | Automatic dimming exterior mirror | Automatic dimming internal mirror | Climatronic | Cruise control | Electric windows front | Fog light | Interior trim: Fabric, Leather | Keyless-Go | Leather steering wheel | LED headlights | Multi-function steering wheel | On-board computer | Parking aid PDC (Park Distance Control) front/rear | Particle filter | Power steering | Radio, CD | Rain sensor | Remote central locking | Satnav with map views: Business | Side mirror electrically foldable | Sports chassis | Stability program ESP (Electronic Stability Program) | Start/stop system | Telephone: Preparation with Bluetooth | Touchscreen | Tyre Pressure Indicator TPI | Equipment package: ConnectedDrive Services (Service system: ConnectedDrive Services, Service system: Remote Services, Service system: Concierge Services)\n",
      "Business package (Business audio navigation system, Bluetooth hands-free system with extended smartphone connectivity, lumbar support on the front left and right seats, electrically adjustable)\n",
      "Through-loading facility (rear center armrest)\n",
      "Driver assistance system: High beam assist\n",
      "Driver assistance system: Speed limit indicator\n",
      "Interior: Finely brushed aluminum interior trim with accent strip\n",
      "Instrument cluster (extended features)\n",
      "Comfort access (opening and closing system)\n",
      "Park Distance Control (PDC) front and rear\n",
      "Servotronic\n",
      "--------------------------------------------------------------------------------\n",
      "[3] Label: 1\n",
      "Query: In need of a petrol car with manual transmission, power output of around 120 KW, first registered around 5 years ago. Desirable features include rain sensor, electric windows front and rear, and remote central locking.\n",
      "Vehicle Text: Category: Saloon, 4 door | Colour: silver | Emission class: EURO 6 | Engine type: Otto | First registration: 03.2015 | Fuel type: Petrol | Location: D-53 | Power output: 92 KW / 125 PS | Read mileage: 107,300 Kilometres | Supplier: Subsidiary/authorised dealer of the brand(s): Audi, VW | Total number of owners: 2 Owner / 2 Entry / Entries | Transmission: manual transmission | Vehicle origin: Rental car | Vehicle release: Release of the vehicle will take place at the earliest 5 working days following receipt of payment. | ABS | Airbags: 6 | Climatronic | Cruise control | Electric glass sunroof | Electric windows front and rear | Fog light | Heated external mirror | Leather steering wheel | Multi-function steering wheel | On-board computer | Parking aid PDC (Park Distance Control) front/rear | Power steering | Radio, CD | Rain sensor | Remote central locking | Roof rails | Satnav with map views | Side mirror electrically adjustable | Stability program ESP (Electronic Stability Program) | Start/stop system | Trailer coupling detachable | Demurrage chargesStarting on 20.07.2025 the daily demurrage for this item will be 6,00 EUR net, plus VAT\n",
      "--------------------------------------------------------------------------------\n",
      "[4] Label: 0\n",
      "Query: I am in search of a Diesel engine type car with an emission class of EURO 6. It should be a 5-door Hatchback, white in color, with remote central locking and a sunroof. I prefer a power output of around 120 KW and an automatic transmission. The car should have less than 80,000 kilometres.\n",
      "Vehicle Text: Category: Saloon, 3 door | Colour: black | Colour name: brillantschwarz | Emission class: EURO 5 | Engine type: Otto | First registration: 03.2011 | Fuel type: Petrol | Location: D-82 | Power output: 63 KW / 86 PS | Read mileage: 183,400 Kilometres | Supplier: Subsidiary/authorised dealer of the brand(s): Audi | Total number of owners: 3 Owner | Transmission: 5-gear manual transmission | Vehicle release: Release of the vehicle will take place at the earliest 3 working days following receipt of payment. | ABS | Airbags: 6 | Climatronic | Electric windows front | Leather steering wheel | Power steering | Radio, CD chorus (Radio/CD-Player) | Rain sensor | Remote central locking | Side mirror electrically adjustable | Stability program ESP (Electronic Stability Program) | Start/stop system | Comfort-Drive-Paket\n",
      "--------------------------------------------------------------------------------\n",
      "[5] Label: 0\n",
      "Query: I need a green SUV with automatic tailgate and autobeam. It should have a mileage of over 30,000 kilometres and a power output around 200 PS.\n",
      "Vehicle Text: Category: Saloon, 4 door, All-wheel drive | Colour: black Metallic | Colour name: blacksapphire | Emission class: EURO 6 | Engine type: Otto | First registration: 05.2022 | Fuel type: Benzin Plugin Hybrid | Location: D-45 | Power output: 210 KW / 286 PS | Read mileage: 24,000 Kilometres | Supplier: Subsidiary/authorised dealer of the brand(s): Land Rover, Mini, BMW, Opel | Total number of owners: 1 Owner | Transmission: Automatic | Vehicle release: Release of the vehicle will take place at the earliest 3 working days following receipt of payment. | ABS | Airbags: 6 | Alarm system | Auto Hold | Autobeam | Automatic dimming internal mirror | Automatic tailgate | Climatronic | Cruise control | Electric windows front and rear | Head-up display | Lane Change Warning | Leather steering wheel | LED headlights | Multi-function steering wheel | On-board computer | Parking aid PDC (Park Distance Control) front/rear | Power steering | Radio, MP3, DAB | Rain sensor | Remote central locking | Reverse camera | Satnav with map views: Professional Live Cockpit | Side mirror electrically foldable | Stability program DSC (Dynamic Stability Control) | Start/stop system | Telephone: Preparation with Bluetooth | Tinted rear windows | Tyre Pressure Indicator TPI | Active seat ventilation at the front Business package Driving assistance system: BMW gesture control Driving assistance system: Driving Assistant Professional (driving assistance system: lane change assistant, driving assistance system: false driving warning, driving assistance system: Speed-Limit display, driving assistance system: front collision warning, driving assistant system: rear assistance prevention (prevention rear collision), driving assistant system: cross-traffic assistant, Driving assistance system: traffic light detection, driving assistance system: lane change warning system) Automatic tailgate actuation Hi-fi loudspeaker system Induction charging bowl for\n",
      "--------------------------------------------------------------------------------\n",
      "[6] Label: 0\n",
      "Query: Looking for an electric vehicle in black colour with automatic transmission. Does it have less than 20,000 kilometres?\n",
      "Vehicle Text: CO2 emissions (in g/km combined): 0 | Category: All-terrain vehicle, 4 door, All-wheel drive | Colour name: Manhattangrau Metallic | First registration: 03.2023 | Fuel type: Electric vehicle | Location: D-61 | Power output: 300 KW / 408 PS | Read mileage: 21,800 Kilometres | Supplier: Leasing company | Total number of owners: Unknown | Transmission: Automatic | Vehicle release: Release of the vehicle will take place at the earliest 10 working days following receipt of payment. | Climatronic | Cruise control | Navigation (ex works) | SeatsNumber of seats 5Driver's seatFront seat passengerRear leftRear rightSeat heating\n",
      "--------------------------------------------------------------------------------\n",
      "[7] Label: 0\n",
      "Query: Need a car with a petrol engine, without ABS or an alarm system. The vehicle should be a convertible and should have had first registration before 2018.\n",
      "Vehicle Text: Category: Saloon, 5 door | Colour: grey Metallic | Colour name: Mineralgrau Metallic | Engine type: Diesel | First registration: 04.2019 | Fuel type: Diesel | Location: D-47 | Power output: 140 KW / 190 PS | Read mileage: 62,100 Kilometres | Supplier: Subsidiary/authorised dealer of the brand(s): BMW | Total number of owners: 2 Owner | Transmission: Automatic | Vehicle release: Release of the vehicle will take place at the earliest 10 working days following receipt of payment. | ABS | Alarm system | Autobeam | Automatic dimming internal mirror | Climatronic | Cruise control | Electric windows front and rear | Fog light | Head-up display | Induction charger for Smartphones | Leather steering wheel | LED headlights | Navigation (ex works) | On-board computer | Park assistant | Particle filter | Radio | Rain sensor | Remote central locking | Reverse camera | Servotronic | Side mirror electrically adjustable | Sound system | Sports chassis | Stability program DSC (Dynamic Stability Control) | Start/stop system | Telephone: Telephone ready | Tyre Pressure Indicator TPI | Concierge services\n",
      "Exterior circumference in car color\n",
      "Instrument combination. M.erweitert. Sewing\n",
      "Leather Dakota Black/contrasting\n",
      "Telephone: WLAN hotspot\n",
      "Lazing: sun protection glazing\n",
      "--------------------------------------------------------------------------------\n",
      "[8] Label: 1\n",
      "Query: Looking for a Saloon, 4 door vehicle, preferably in blue colour, with an automatic transmission and a fuel type of petrol. It should have a power output of more than 100 KW and less than 120 KM driven.\n",
      "Vehicle Text: Category: Saloon, 4 door | Colour: blue | Colour name: turboblau (LV5C) | Emission class: EURO 6d | Engine type: Otto | First registration: 06.2023 | Fuel type: Petrol | Location: D-82 | Maximum permissible gross vehicle weight (kg): 1.880 | Power output: 110 KW / 150 PS | Read mileage: 75,700 Kilometres | Supplier: Subsidiary/authorised dealer of the brand(s): Audi, VW | Total number of owners: 1 Owner | Transmission: Automatic | Vehicle origin: Driving school car | Vehicle release: Release of the vehicle will take place at the earliest 3 working days following receipt of payment. | ABS | Airbags: 6 | Auto Hold | Climatronic | Cruise control | Electric windows front and rear | Heated external mirror | Leather steering wheel | LED headlights | Multi-function steering wheel | On-board computer | Paddle shift steering wheel | Park assistant | Parking aid APS (Acoustic Parking System) front/rear | Power steering | Radio, MP3, DAB | Rain sensor | Remote central locking | Reverse camera | Side mirror electrically adjustable | Sports chassis | Stability program ESP (Electronic Stability Program) | Start/stop system | Telephone: Preparation with Bluetooth | Touchscreen | Trailer coupling detachable | Tyre Pressure Indicator TPI | New car tire guarantee\n",
      "Driving school version\n",
      "Traffic light information of adaptive driving assistant\n",
      "--------------------------------------------------------------------------------\n",
      "[9] Label: 0\n",
      "Query: Is the car a convertible with a 6-gear automatic transmission? Also, it should have leather seats and a built-in GPS system.\n",
      "Vehicle Text: Category: Saloon, 4 door | Colour: grey Metallic | Colour name: titan | Engine type: Otto | First registration: 05.1992 | Fuel type: Petrol | Location: D-14 | Power output: 66 KW / 90 PS | Read mileage: 101,400 Kilometres | Supplier: Subsidiary/authorised dealer of the brand(s): Renault | Total number of owners: Unknown | Transmission: 5-gear manual transmission | Vehicle release: Release of the vehicle will take place at the earliest 5 working days following receipt of payment. | No remote central locking | Power steering | Radio, Cassette Audi Beta | Side mirror manually adjustable | * Height-adjustable driver's seat\n",
      "* Gas-filled hood strut\n",
      "* Instrument cluster with tachometer\n",
      "* Heated windshield washer nozzles\n",
      "* Manual steel sunroof\n",
      "--------------------------------------------------------------------------------\n",
      "[10] Label: 0\n",
      "Query: Interested in a silver all-terrain vehicle with a petrol engine. Does it come equipped with a parking aid APS, reverse camera, and touchscreen?\n",
      "Vehicle Text: Category: All-terrain vehicle, 5 door, All-wheel drive | Colour: black | Colour name: tiefschwarz | Emission class: EURO 6d | Engine type: Diesel | First registration: 01.2021 | Fuel type: Diesel Mildhybrid | Location: D-21 | Power output: 210 KW / 286 PS | Read mileage: 123,100 Kilometres | Supplier: Audi Hamburg GmbH | Total number of owners: 1 Owner | Transmission: Automatic | Vehicle release: Release of the vehicle will take place at the earliest 3 working days following receipt of payment. | ABS | Airbags: 5 | Alarm system | Auto Hold | Automatic dimming internal mirror | Automatic tailgate | Climatronic in the back | Cruise control | Electric windows front and rear | Heated external mirror | Hill Descent Control HDC | Leather steering wheel | LED headlights | Multi-function steering wheel | On-board computer | Paddle shift steering wheel | Parking aid APS (Acoustic Parking System) front/rear | Parking heater with remote control | Particle filter | Power steering | Radio, DAB | Rain sensor | Remote central locking | Reverse camera | Roof rails | Satnav with map views: MMI Plus mit MMI Touch | Side mirror electrically foldable | Sound system | Stability program ESP (Electronic Stability Program) | Start/stop system | Telephone: Preparation with Bluetooth | Tinted rear windows | Touchscreen | Trailer coupling electrically adjustable | Tyre Pressure Indicator TPI | Acoustic glass door panes on the side All -wheel steering Assistance package Tour (driving assistance system: alternative assistant, driving assistance system: turning assistant left, driving assistance system: adaptive driving assistant) Audi smartphone interface Bluetooth hands-free system with speech recognition (Audi Phone Box) Driving assistance system: Parking steering cashist Chassis (adaptive air suspension) Climate comfort / acoustic glass front disc, heatable Individual contour seats in front (lumbar supports in front, pneumatically\n",
      "--------------------------------------------------------------------------------\n",
      "\n",
      "=== Preview from VAL Set (Fold 2) (first 10 examples) ===\n",
      "\n",
      "[1] Label: 1\n",
      "Query: Looking for a petrol-fueled, All-terrain vehicle with automatic transmission. The car should have a seat heating feature and a reverse camera. It should be able to seat 5 people comfortably. Does the car have less than 50,000 Kilometres on its odometer?\n",
      "Vehicle Text: CO2 emissions (in g/km combined): 0 | Category: All-terrain vehicle, 4 door | Colour name: Mythosschwarz Metallic | First registration: 10.2022 | Fuel type: Petrol | Location: D-06 | Power output: 110 KW / 149 PS | Read mileage: 30,400 Kilometres | Supplier: Leasing company | Total number of owners: Unknown | Transmission: Automatic | Vehicle release: Release of the vehicle will take place at the earliest 10 working days following receipt of payment. | Climatronic | Navigation (ex works) | Reverse camera | SeatsNumber of seats 5Driver's seatFront seat passengerRear leftRear rightSeat heating\n",
      "--------------------------------------------------------------------------------\n",
      "[2] Label: 1\n",
      "Query: Interested in a 4-door SUV, prefer Mythosschwarz Metallic colour. It should be equipped with a navigation system. Is the power output more than 100 KW?\n",
      "Vehicle Text: CO2 emissions (in g/km combined): 0 | Category: All-terrain vehicle, 4 door | Colour name: Mythosschwarz Metallic | First registration: 10.2022 | Fuel type: Petrol | Location: D-06 | Power output: 110 KW / 149 PS | Read mileage: 30,400 Kilometres | Supplier: Leasing company | Total number of owners: Unknown | Transmission: Automatic | Vehicle release: Release of the vehicle will take place at the earliest 10 working days following receipt of payment. | Climatronic | Navigation (ex works) | Reverse camera | SeatsNumber of seats 5Driver's seatFront seat passengerRear leftRear rightSeat heating\n",
      "--------------------------------------------------------------------------------\n",
      "[3] Label: 0\n",
      "Query: Searching for a leasing company supplied vehicle with a first registration date later than 01.2022. The car should have Climatronic and seat heating. Is the power output more than 120 KW?\n",
      "Vehicle Text: CO2 emissions (in g/km combined): 0 | Category: All-terrain vehicle, 4 door | Colour name: Mythosschwarz Metallic | First registration: 10.2022 | Fuel type: Petrol | Location: D-06 | Power output: 110 KW / 149 PS | Read mileage: 30,400 Kilometres | Supplier: Leasing company | Total number of owners: Unknown | Transmission: Automatic | Vehicle release: Release of the vehicle will take place at the earliest 10 working days following receipt of payment. | Climatronic | Navigation (ex works) | Reverse camera | SeatsNumber of seats 5Driver's seatFront seat passengerRear leftRear rightSeat heating\n",
      "--------------------------------------------------------------------------------\n",
      "[4] Label: 1\n",
      "Query: In need of a 4-door All-terrain vehicle, with the colour name of Mythosschwarz Metallic and an automatic transmission. Does the vehicle have a reverse camera and less than 25,000 Kilometres on the odometer?\n",
      "Vehicle Text: CO2 emissions (in g/km combined): 0 | Category: All-terrain vehicle, 4 door | Colour name: Mythosschwarz Metallic | First registration: 10.2022 | Fuel type: Petrol | Location: D-06 | Power output: 110 KW / 149 PS | Read mileage: 30,400 Kilometres | Supplier: Leasing company | Total number of owners: Unknown | Transmission: Automatic | Vehicle release: Release of the vehicle will take place at the earliest 10 working days following receipt of payment. | Climatronic | Navigation (ex works) | Reverse camera | SeatsNumber of seats 5Driver's seatFront seat passengerRear leftRear rightSeat heating\n",
      "--------------------------------------------------------------------------------\n",
      "[5] Label: 1\n",
      "Query: Looking for a petrol car with a navigation system and automatic transmission. The vehicle should be from a leasing company and have a power output of less than 150 PS. Is the car's first registration earlier than 12.2022?\n",
      "Vehicle Text: CO2 emissions (in g/km combined): 0 | Category: All-terrain vehicle, 4 door | Colour name: Mythosschwarz Metallic | First registration: 10.2022 | Fuel type: Petrol | Location: D-06 | Power output: 110 KW / 149 PS | Read mileage: 30,400 Kilometres | Supplier: Leasing company | Total number of owners: Unknown | Transmission: Automatic | Vehicle release: Release of the vehicle will take place at the earliest 10 working days following receipt of payment. | Climatronic | Navigation (ex works) | Reverse camera | SeatsNumber of seats 5Driver's seatFront seat passengerRear leftRear rightSeat heating\n",
      "--------------------------------------------------------------------------------\n",
      "[6] Label: 0\n",
      "Query: Seeking an All-terrain vehicle with a powerful engine of more than 200 PS. It should have a reverse camera and a navigation system. Is the car's CO2 emissions lower than 50 g/km?\n",
      "Vehicle Text: CO2 emissions (in g/km combined): 0 | Category: All-terrain vehicle, 4 door | Colour name: Mythosschwarz Metallic | First registration: 10.2022 | Fuel type: Petrol | Location: D-06 | Power output: 110 KW / 149 PS | Read mileage: 30,400 Kilometres | Supplier: Leasing company | Total number of owners: Unknown | Transmission: Automatic | Vehicle release: Release of the vehicle will take place at the earliest 10 working days following receipt of payment. | Climatronic | Navigation (ex works) | Reverse camera | SeatsNumber of seats 5Driver's seatFront seat passengerRear leftRear rightSeat heating\n",
      "--------------------------------------------------------------------------------\n",
      "[7] Label: 0\n",
      "Query: Searching for an SUV in Mythosschwarz Metallic colour with seat heating. It should be a petrol car with automatic transmission. Does the car have more than 35,000 Kilometres on its odometer?\n",
      "Vehicle Text: CO2 emissions (in g/km combined): 0 | Category: All-terrain vehicle, 4 door | Colour name: Mythosschwarz Metallic | First registration: 10.2022 | Fuel type: Petrol | Location: D-06 | Power output: 110 KW / 149 PS | Read mileage: 30,400 Kilometres | Supplier: Leasing company | Total number of owners: Unknown | Transmission: Automatic | Vehicle release: Release of the vehicle will take place at the earliest 10 working days following receipt of payment. | Climatronic | Navigation (ex works) | Reverse camera | SeatsNumber of seats 5Driver's seatFront seat passengerRear leftRear rightSeat heating\n",
      "--------------------------------------------------------------------------------\n",
      "[8] Label: 0\n",
      "Query: I'm looking for a petrol vehicle with a power output of less than 180 PS. It should be equipped with Climatronic and a navigation system. Is the first registration date later than 01.2023?\n",
      "Vehicle Text: CO2 emissions (in g/km combined): 0 | Category: All-terrain vehicle, 4 door | Colour name: Mythosschwarz Metallic | First registration: 10.2022 | Fuel type: Petrol | Location: D-06 | Power output: 110 KW / 149 PS | Read mileage: 30,400 Kilometres | Supplier: Leasing company | Total number of owners: Unknown | Transmission: Automatic | Vehicle release: Release of the vehicle will take place at the earliest 10 working days following receipt of payment. | Climatronic | Navigation (ex works) | Reverse camera | SeatsNumber of seats 5Driver's seatFront seat passengerRear leftRear rightSeat heating\n",
      "--------------------------------------------------------------------------------\n",
      "[9] Label: 1\n",
      "Query: Interested in a car with a reverse camera and seat heating, preferably in Mythosschwarz Metallic colour. The vehicle should have an automatic transmission and a power output of less than 160 PS. Does the car have less than 40,000 Kilometres on its odometer?\n",
      "Vehicle Text: CO2 emissions (in g/km combined): 0 | Category: All-terrain vehicle, 4 door | Colour name: Mythosschwarz Metallic | First registration: 10.2022 | Fuel type: Petrol | Location: D-06 | Power output: 110 KW / 149 PS | Read mileage: 30,400 Kilometres | Supplier: Leasing company | Total number of owners: Unknown | Transmission: Automatic | Vehicle release: Release of the vehicle will take place at the earliest 10 working days following receipt of payment. | Climatronic | Navigation (ex works) | Reverse camera | SeatsNumber of seats 5Driver's seatFront seat passengerRear leftRear rightSeat heating\n",
      "--------------------------------------------------------------------------------\n",
      "[10] Label: 0\n",
      "Query: Looking for a vehicle with a navigation system and seat heating. It should be a diesel car with a power output of more than 150 PS. Is the car's first registration earlier than 09.2022?\n",
      "Vehicle Text: CO2 emissions (in g/km combined): 0 | Category: All-terrain vehicle, 4 door | Colour name: Mythosschwarz Metallic | First registration: 10.2022 | Fuel type: Petrol | Location: D-06 | Power output: 110 KW / 149 PS | Read mileage: 30,400 Kilometres | Supplier: Leasing company | Total number of owners: Unknown | Transmission: Automatic | Vehicle release: Release of the vehicle will take place at the earliest 10 working days following receipt of payment. | Climatronic | Navigation (ex works) | Reverse camera | SeatsNumber of seats 5Driver's seatFront seat passengerRear leftRear rightSeat heating\n",
      "--------------------------------------------------------------------------------\n",
      "\n",
      "=== Preview from TRAIN Set (Fold 3) (first 10 examples) ===\n",
      "\n",
      "[1] Label: 1\n",
      "Query: Interested in a black Metallic car with a Diesel engine and an Emission class of EURO 6. The car should have less than 130,000 kilometres and should be equipped with a Rain sensor and a Parking aid APS (Acoustic Parking System)\n",
      "Vehicle Text: Category: Compact, 4 door | Colour: black Metallic | Colour name: mythosschwarz | Emission class: EURO 6 | Engine type: Diesel | First registration: 11.2014 | Fuel type: Diesel | Location: D-16 | Power output: 110 KW / 150 PS | Read mileage: 128,500 Kilometres | Supplier: Wholesaler | Total number of owners: 5 Owner | Transmission: Automatic | Vehicle release: Release of the vehicle will take place at the earliest 5 working days following receipt of payment. | ABS | AC | Airbags: 6 | Alarm system | Cruise control | Electric windows front and rear | Fog light | Leather steering wheel | Multi-function steering wheel | On-board computer | Parking aid APS (Acoustic Parking System) rear | Particle filter | Power steering | Radio, CD, MP3 | Rain sensor | Remote central locking | Roof rails | Satnav with map views: MMI | Side mirror electrically adjustable | Stability program ESP (Electronic Stability Program) | Start/stop system | Telephone: Telephone ready | Tyre Pressure Indicator TPI | Xenon | Lumbar supports in front, electr. adjustable\n",
      "Light and rain sensor\n",
      "Navigation package (Connectivity package, Audi Music Interface, Universal interface Bluetooth)\n",
      "-Lights plus adaptive light (integrated surface of the surface)\n",
      "--------------------------------------------------------------------------------\n",
      "[2] Label: 1\n",
      "Query: Interested in a 5 door coupé with ABS and Climatronic, also it must have power steering and a start/stop system. It should also be equipped with a radio, CD, MP3, DVD, DAB. Registration year should be later than 2017.\n",
      "Vehicle Text: Category: Sports car / Coupé, 5 door | Colour: grey Metallic | Colour name: manhattengrau (LX7L) | Emission class: EURO 6 | Engine type: Otto | First registration: 08.2018 | Fuel type: Petrol | Location: D-82 | Power output: 140 KW / 190 PS | Read mileage: 273,400 Kilometres | Total number of owners: Unknown | Transmission: Automatic | Vehicle origin: Car pool vehicle | Vehicle release: Release of the vehicle will take place at the earliest 3 working days following receipt of payment. | ABS | Airbags: 6 | Autobeam | Automatic tailgate | Climatronic | Cruise control | Electric windows front and rear | Heated external mirror | Induction charger for Smartphones | Leather steering wheel | LED headlights | Multi-function steering wheel | On-board computer | Paddle shift steering wheel | Park assistant | Parking aid APS (Acoustic Parking System) front/rear | Power steering | Radio, CD, MP3, DVD, DAB | Rain sensor | Remote central locking | Reverse camera | Satnav with map views: MMI plus | Side mirror electrically foldable | Sports chassis | Stability program ESP (Electronic Stability Program) | Start/stop system | Telephone: Preparation with Bluetooth | Tyre Pressure Indicator TPI | Equipment package: S Line Selection\n",
      "Driving assistance system: Receive traffic signs ..\n",
      "Fund seat (3 seats)\n",
      "--------------------------------------------------------------------------------\n",
      "[3] Label: 0\n",
      "Query: I'm looking for a green metallic sedan car with a manual transmission and a diesel engine. The car should have more than 100,000 kilometres and the first registration should be before 01.2022. The power output should be less than 90 KW.\n",
      "Vehicle Text: CO2 emissions (in g/km combined): 142 | Category: Estate, 5 door | Colour: blue Metallic | Colour name: Phytonicblau Metallic | Emission class: EURO 6 | Engine type: Otto | First registration: 02.2024 | Fuel type: Petrol | Location: D-06 | Power output: 100 KW / 136 PS | Read mileage: 62,800 Kilometres | Total number of owners: 1 Owner | Transmission: Automatic | Vehicle release: Release of the vehicle will take place at the earliest 5 working days following receipt of payment. | ABS | Autobeam | Climatronic | LED headlights | No remote central locking | Radio, DAB | Servotronic | Sound system | Stability program DSC (Dynamic Stability Control) | Start/stop system | Trailer coupling swivel-mounted | Tyre Pressure Indicator TPI | Serial equipment:\n",
      "Trailer stabilization program (ASL)\n",
      "Equipment package: Connected Professional\n",
      "Driving assistance system: Performance Control\n",
      "Automatic tailgate actuation\n",
      "Country AV Germany\n",
      "Series chassis\n",
      "Service system: Apple CarPlay Information (preparation)\n",
      "WideScreen display special equipment:\n",
      "Seats mechanically adjustable at the back\n",
      "--------------------------------------------------------------------------------\n",
      "[4] Label: 1\n",
      "Query: Looking for an Audi with a power output of over 280 PS, and a registration date not older than 2018. It should be a 4-door saloon with all-wheel drive and automatic transmission. The car should also have a parking aid APS system and a reverse camera.\n",
      "Vehicle Text: Category: Saloon, 4 door, All-wheel drive | Colour: black Metallic | Colour name: mythosschwarz | Emission class: EURO 6 | Engine type: Diesel | First registration: 07.2018 | Fuel type: Diesel Mildhybrid | Location: D-52 | Power output: 210 KW / 286 PS | Read mileage: 92,300 Kilometres | Supplier: Audi Zentrum Aachen Jacobs Automobile GmbH | Total number of owners: 4 Owner | Transmission: Automatic | Vehicle release: Release of the vehicle will take place at the earliest 5 working days following receipt of payment. | ABS | Airbags: 8 | Alarm system | Auto Hold | Autobeam | Automatic dimming exterior mirror | Automatic dimming internal mirror | Automatic tailgate | CD, Radio, MP3, DAB | Climatronic in the back | Cruise control | Electric windows front and rear | Head-up display | Heated external mirror | Induction charger for Smartphones | Keyless-Go | Lane Change Warning | Leather steering wheel | LED headlights | Level control | Multi-function steering wheel | On-board computer | Paddle shift steering wheel | Parking aid APS (Acoustic Parking System) front/rear | Power steering | Rain sensor | Remote central locking | Reverse camera | Satnav with map views: MMI Plus | Servo locking system | Side mirror electrically foldable | Sound system | Sports chassis | Stability program ESP (Electronic Stability Program) | Start/stop system | Sunblinds rear doors | Telephone: Preparation with Bluetooth | Tinted rear windows | Touchscreen | Tyre Pressure Indicator TPI | Voice control system | Adaptive windshield wiper, heated\n",
      "Acoustic glass door panes on the side\n",
      "Assistance package City (driving assistance system: intersection assistant, driving assistance system: exit warning, driving assistance system: cross-traffic assistant Heck, driving assistant system: lane change assistant (side assist) incl.\n",
      "--------------------------------------------------------------------------------\n",
      "[5] Label: 1\n",
      "Query: Looking for a car with a start/stop system, a sports chassis, and a telephone preparation with Bluetooth. The car should have less than 70,000 kilometres and be first registered in 2022.\n",
      "Vehicle Text: Category: Saloon, 5 door, All-wheel drive | Colour: blue Pearl effect | Colour name: RAVENNABLAU MET (N5K) | Emission class: EURO 6d | Engine type: Otto | First registration: 05.2022 | Fuel type: Benzin Plugin Hybrid | Location: D-06 | Power output: 195 KW / 265 PS | Read mileage: 64,800 Kilometres | Supplier: Subsidiary/authorised dealer of the brand(s): Audi | Total number of owners: 1 Owner / 1 Entry / Entries | Transmission: Automatic | Vehicle release: Release of the vehicle will take place at the earliest 4 working days following receipt of payment. | ABS | Airbags: 6 | Auto Hold | Autobeam | Automatic dimming exterior mirror | Automatic dimming internal mirror | Automatic tailgate | CD, MP3, Radio, DAB | Climatronic in the back | Cruise control | Electric windows front and rear | Heated external mirror | Induction charger for Smartphones | Keyless-Go | Lane Change Warning | Lane keeping system | Leather steering wheel | LED headlights | Multi-function steering wheel | Navigation (ex works): Multi-Media-Interface MMI Navigation Plus mit MMI Touch | On-board computer | Paddle shift steering wheel | Panorama sunroof | Park assistant | Parking aid APS (Acoustic Parking System) front/rear | Power steering | Rain sensor | Remote central locking | Reverse camera | Side mirror electrically foldable | Sports chassis | Stability program ESP (Electronic Stability Program) | Start/stop system | Steering wheel heating | Telephone: Preparation with Bluetooth | Tinted rear windows | Touchscreen | Tyre Pressure Indicator TPI | Voice control system | Assistance package plus (assistance package city, driving assistance system: 360-degree round protection (Audi Pre Sense 360 ​​°), driving assistance system: inmate protection system (Audi Pre Side Side Assist), driving assistance system: crossroad assistant, driving assistance system: exit assistance system, cross-traffic\n",
      "--------------------------------------------------------------------------------\n",
      "[6] Label: 0\n",
      "Query: Looking for a diesel-fueled, all-terrain vehicle with automatic transmission and a power output of less than 120 PS. The car should have cruise control, navigation and a reverse camera.\n",
      "Vehicle Text: CO2 emissions (in g/km combined): 0 | Category: All-terrain vehicle, 4 door | Colour name: Manhattangrau Metallic | First registration: 03.2023 | Fuel type: Petrol | Location: D-61 | Power output: 81 KW / 110 PS | Read mileage: 50,300 Kilometres | Supplier: Leasing company | Total number of owners: Unknown | Transmission: manual transmission | Vehicle release: Release of the vehicle will take place at the earliest 10 working days following receipt of payment. | Climatronic | Cruise control | Navigation (ex works) | Reverse camera | SeatsNumber of seats 5Driver's seatFront seat passengerRear leftRear rightSeat heating\n",
      "--------------------------------------------------------------------------------\n",
      "[7] Label: 0\n",
      "Query: Looking for a car with a diesel engine and a power output of about 140 KW. It should have an on-board computer, a parking aid, and a heated windscreen. The car should be a 5-door estate and have a mileage of more than 200,000 km.\n",
      "Vehicle Text: Category: Estate, 5 door | Colour: black Metallic | Colour name: blacksapphire | Engine type: Otto | First registration: 01.2006 | Fuel type: Petrol | Location: D-06 | Power output: 160 KW / 218 PS | Read mileage: 150,400 Kilometres | Supplier: Subsidiary/authorised dealer of the brand(s): VW | Total number of owners: 3 Owner / 2 Entry / Entries | Transmission: Automatic | Vehicle release: Release of the vehicle will take place at the earliest 4 working days following receipt of payment. | ABS | Airbags: 6 | Automatic dimming internal mirror | CD, Radio | Climatronic | Cruise control | Electric windows front and rear | Fog light | Heated windscreen | Leather steering wheel | Multi-function steering wheel | On-board computer | Parking aid ex works front/rear | Power steering | Radio navigation (ex works): Business | Rain sensor | Remote central locking | Roof rails | Side mirror electrically foldable | Stability program Direct traction Control (DTC) | Tinted rear windows | Xenon | Audio navigation system Business (Audio system BMW Professional (radio/CD player))\n",
      "Center armrest adjustable at the front\n",
      "Park distance control (PDC) at the front and back\n",
      "Seat cover / padding: fabric / leather\n",
      "-\n",
      "--------------------------------------------------------------------------------\n",
      "[8] Label: 1\n",
      "Query: Interested in a car with a power output of less than 100 KW. It should be a petrol-fuelled vehicle registered earlier than 2005. A car with 6 airbags for safety and climatronic feature for comfort would be ideal.\n",
      "Vehicle Text: Category: Saloon, 4 door | Colour: blue | Colour name: Brillantblau | Emission class: EURO 4 | Engine type: Otto | First registration: 04.2001 | Fuel type: Petrol | Location: D-74 | Power output: 96 KW / 131 PS | Read mileage: 298,900 Kilometres | Supplier: Subsidiary/authorised dealer of the brand(s): Audi, Skoda, VW | Total number of owners: 2 Owner | Transmission: 5-gear manual transmission | Vehicle release: Release of the vehicle will take place at the earliest 5 working days following receipt of payment. | ABS | Airbags: 6 | Climatronic | Electric windows front | Fog light | Parking aid nachgerustet  front/rear | Power steering | Radio, Cassette | Remote central locking | Side mirror electrically adjustable | Stability program ESP (Electronic Stability Program) | Audiosystem chorus (Radio/Cassette)\n",
      "--------------------------------------------------------------------------------\n",
      "[9] Label: 0\n",
      "Query: Searching for a petrol car with a sunblinds rear doors and automatic dimming internal mirror. It should also have a stability program and a start/stop system. Has it been registered after 2022?\n",
      "Vehicle Text: Category: Estate, 5 door, All-wheel drive | Colour: black Metallic | Colour name: mythosschwarz | Emission class: EURO 6 | Engine type: Diesel | First registration: 09.2022 | Fuel type: Hybrid | Location: D-52 | Power output: 150 KW / 204 PS | Read mileage: 125,600 Kilometres | Supplier: Audi Zentrum Aachen Jacobs Automobile GmbH | Total number of owners: 1 Owner | Transmission: Automatic | Vehicle release: Release of the vehicle will take place at the earliest 10 working days following receipt of payment. | ABS | Airbags: 6 | Autobeam | Automatic dimming exterior mirror | Automatic dimming internal mirror | Automatic tailgate | CD, MP3, Radio, DAB | Climatronic in the back | Cruise control | Electric windows front and rear | Heated external mirror | Keyless-Go | Lane Change Warning | Leather steering wheel | LED headlights | Multi-function steering wheel | On-board computer | Paddle shift steering wheel | Parking aid APS (Acoustic Parking System) front/rear | Particle filter | Power steering | Rain sensor | Remote central locking | Reverse camera | Roof rails | Satnav with map views: MMI Plus | Side mirror electrically foldable | Sports chassis | Stability program ESP (Electronic Stability Program) | Start/stop system | Sunblinds rear doors | Telephone: Preparation with Bluetooth | Tinted rear windows | Touchscreen | Tyre Pressure Indicator TPI | Voice control system | Parking assistance package City with assistance package (assistant package city, driving assistance system: lane change assistant (side assist), parking aid at the front and rear, acoustic and optically with selective display (APS Plus), driving assistance system (Audi Pre Sense Basic) including Audi Pre Sense Rear, driving assistance system: Exit warning, driving assistance system: cross-traffic assistant Heck, assistant package parking, driving assistance system: parking control system, camera system Environmental view (TOP\n",
      "--------------------------------------------------------------------------------\n",
      "[10] Label: 0\n",
      "Query: I'm interested in a vehicle running on petrol with a power output of more than 220 KW. It should not have a reverse camera but should have a sunroof and leather seats. The car should have a white colour and should be registered in early 2023.\n",
      "Vehicle Text: CO2 emissions (in g/km combined): 0 | Category: All-terrain vehicle, 4 door, All-wheel drive | Colour name: Navarrablau Metallic | First registration: 05.2023 | Fuel type: Diesel | Location: D-89 | Power output: 150 KW / 204 PS | Read mileage: 24,700 Kilometres | Supplier: Leasing company | Total number of owners: Unknown | Transmission: Automatic | Vehicle release: Release of the vehicle will take place at the earliest 10 working days following receipt of payment. | Climatronic | Cruise control | Navigation (ex works) | Reverse camera | Telephone: Ready for hands-free equipment | ExtrasBusiness package\n",
      "--------------------------------------------------------------------------------\n",
      "\n",
      "=== Preview from VAL Set (Fold 3) (first 10 examples) ===\n",
      "\n",
      "[1] Label: 1\n",
      "Query: Looking for a high-end Estate car with automatic transmission and diesel engine, is your car having less than 75,000 kilometers mileage?\n",
      "Vehicle Text: Category: Estate, 4 door | Colour: blue Metallic | Colour name: navarrablau | Emission class: EURO 6d-Temp | Engine type: Diesel | First registration: 01.2020 | Fuel type: Diesel | Location: D-16 | Power output: 140 KW / 190 PS | Read mileage: 69,100 Kilometres | Supplier: Subsidiary/authorised dealer of the brand(s) | Total number of owners: 2 Owner | Transmission: Automatic | Vehicle origin: Leasing vehicle | Vehicle release: Release of the vehicle will take place at the earliest 5 working days following receipt of payment. | ABS | Airbags: 6 | Autobeam | Automatic dimming exterior mirror | Automatic dimming internal mirror | Automatic tailgate | Climatronic | Cruise control | Electric windows front and rear | Heated external mirror | Induction charger for Smartphones | Interior trim: Wood | Lane keeping system | Leather steering wheel | LED headlights | Multi-function steering wheel | On-board computer | Paddle shift steering wheel | Parking aid APS (Acoustic Parking System) front/rear | Particle filter | Power steering | Radio, MP3, DAB | Rain sensor | Remote central locking | Roof rails | Satnav with map views: MMI Navigation Plus | Side mirror electrically foldable | Stability program ESP (Electronic Stability Program) | Start/stop system | Sunblinds rear doors | Telephone: Preparation with Bluetooth | Touchscreen | Trailer coupling swivel-mounted | Tyre Pressure Indicator TPI | Assistant package Tour (driving assistance system: Hearnightlist, driving assistant system: traffic sign detection, driving assistance system: City emergency brake function (Audi Pre Sense City), driving assistance system: traffic jam assistance system: alternative assistant, driving assistance system: turning assistant left, driving assistance system: Business package (driving assistance system: high-beam assistant, Bluetooth hands-free system with speech recognition (Audi Phone Box), multi-media interface\n",
      "--------------------------------------------------------------------------------\n",
      "[2] Label: 1\n",
      "Query: In search of a leasing vehicle with high-tech features such as LED headlights, touchscreen, and Satnav with map views. Is it a model registered after 2018, with a power output less than 160 KW?\n",
      "Vehicle Text: Category: Estate, 4 door | Colour: blue Metallic | Colour name: navarrablau | Emission class: EURO 6d-Temp | Engine type: Diesel | First registration: 01.2020 | Fuel type: Diesel | Location: D-16 | Power output: 140 KW / 190 PS | Read mileage: 69,100 Kilometres | Supplier: Subsidiary/authorised dealer of the brand(s) | Total number of owners: 2 Owner | Transmission: Automatic | Vehicle origin: Leasing vehicle | Vehicle release: Release of the vehicle will take place at the earliest 5 working days following receipt of payment. | ABS | Airbags: 6 | Autobeam | Automatic dimming exterior mirror | Automatic dimming internal mirror | Automatic tailgate | Climatronic | Cruise control | Electric windows front and rear | Heated external mirror | Induction charger for Smartphones | Interior trim: Wood | Lane keeping system | Leather steering wheel | LED headlights | Multi-function steering wheel | On-board computer | Paddle shift steering wheel | Parking aid APS (Acoustic Parking System) front/rear | Particle filter | Power steering | Radio, MP3, DAB | Rain sensor | Remote central locking | Roof rails | Satnav with map views: MMI Navigation Plus | Side mirror electrically foldable | Stability program ESP (Electronic Stability Program) | Start/stop system | Sunblinds rear doors | Telephone: Preparation with Bluetooth | Touchscreen | Trailer coupling swivel-mounted | Tyre Pressure Indicator TPI | Assistant package Tour (driving assistance system: Hearnightlist, driving assistant system: traffic sign detection, driving assistance system: City emergency brake function (Audi Pre Sense City), driving assistance system: traffic jam assistance system: alternative assistant, driving assistance system: turning assistant left, driving assistance system: Business package (driving assistance system: high-beam assistant, Bluetooth hands-free system with speech recognition (Audi Phone Box), multi-media interface\n",
      "--------------------------------------------------------------------------------\n",
      "[3] Label: 1\n",
      "Query: Searching for a car with efficient fuel type preferably Diesel, equipped with safety features like ABS, Airbags, ESP. Does the car have more than 1 previous owner?\n",
      "Vehicle Text: Category: Estate, 4 door | Colour: blue Metallic | Colour name: navarrablau | Emission class: EURO 6d-Temp | Engine type: Diesel | First registration: 01.2020 | Fuel type: Diesel | Location: D-16 | Power output: 140 KW / 190 PS | Read mileage: 69,100 Kilometres | Supplier: Subsidiary/authorised dealer of the brand(s) | Total number of owners: 2 Owner | Transmission: Automatic | Vehicle origin: Leasing vehicle | Vehicle release: Release of the vehicle will take place at the earliest 5 working days following receipt of payment. | ABS | Airbags: 6 | Autobeam | Automatic dimming exterior mirror | Automatic dimming internal mirror | Automatic tailgate | Climatronic | Cruise control | Electric windows front and rear | Heated external mirror | Induction charger for Smartphones | Interior trim: Wood | Lane keeping system | Leather steering wheel | LED headlights | Multi-function steering wheel | On-board computer | Paddle shift steering wheel | Parking aid APS (Acoustic Parking System) front/rear | Particle filter | Power steering | Radio, MP3, DAB | Rain sensor | Remote central locking | Roof rails | Satnav with map views: MMI Navigation Plus | Side mirror electrically foldable | Stability program ESP (Electronic Stability Program) | Start/stop system | Sunblinds rear doors | Telephone: Preparation with Bluetooth | Touchscreen | Trailer coupling swivel-mounted | Tyre Pressure Indicator TPI | Assistant package Tour (driving assistance system: Hearnightlist, driving assistant system: traffic sign detection, driving assistance system: City emergency brake function (Audi Pre Sense City), driving assistance system: traffic jam assistance system: alternative assistant, driving assistance system: turning assistant left, driving assistance system: Business package (driving assistance system: high-beam assistant, Bluetooth hands-free system with speech recognition (Audi Phone Box), multi-media interface\n",
      "--------------------------------------------------------------------------------\n",
      "[4] Label: 1\n",
      "Query: Is your car a blue Metallic 4-door Estate equipped with advanced features like induction charger for Smartphones, automatic tailgate, and parking aid APS? Does it have a power output of more than 180 PS?\n",
      "Vehicle Text: Category: Estate, 4 door | Colour: blue Metallic | Colour name: navarrablau | Emission class: EURO 6d-Temp | Engine type: Diesel | First registration: 01.2020 | Fuel type: Diesel | Location: D-16 | Power output: 140 KW / 190 PS | Read mileage: 69,100 Kilometres | Supplier: Subsidiary/authorised dealer of the brand(s) | Total number of owners: 2 Owner | Transmission: Automatic | Vehicle origin: Leasing vehicle | Vehicle release: Release of the vehicle will take place at the earliest 5 working days following receipt of payment. | ABS | Airbags: 6 | Autobeam | Automatic dimming exterior mirror | Automatic dimming internal mirror | Automatic tailgate | Climatronic | Cruise control | Electric windows front and rear | Heated external mirror | Induction charger for Smartphones | Interior trim: Wood | Lane keeping system | Leather steering wheel | LED headlights | Multi-function steering wheel | On-board computer | Paddle shift steering wheel | Parking aid APS (Acoustic Parking System) front/rear | Particle filter | Power steering | Radio, MP3, DAB | Rain sensor | Remote central locking | Roof rails | Satnav with map views: MMI Navigation Plus | Side mirror electrically foldable | Stability program ESP (Electronic Stability Program) | Start/stop system | Sunblinds rear doors | Telephone: Preparation with Bluetooth | Touchscreen | Trailer coupling swivel-mounted | Tyre Pressure Indicator TPI | Assistant package Tour (driving assistance system: Hearnightlist, driving assistant system: traffic sign detection, driving assistance system: City emergency brake function (Audi Pre Sense City), driving assistance system: traffic jam assistance system: alternative assistant, driving assistance system: turning assistant left, driving assistance system: Business package (driving assistance system: high-beam assistant, Bluetooth hands-free system with speech recognition (Audi Phone Box), multi-media interface\n",
      "--------------------------------------------------------------------------------\n",
      "[5] Label: 1\n",
      "Query: Looking for a car with luxurious interior trim, preferably Wood, and equipped with Climatronic, Autobeam, and automatic dimming mirrors. Is it a car registered before 2021?\n",
      "Vehicle Text: Category: Estate, 4 door | Colour: blue Metallic | Colour name: navarrablau | Emission class: EURO 6d-Temp | Engine type: Diesel | First registration: 01.2020 | Fuel type: Diesel | Location: D-16 | Power output: 140 KW / 190 PS | Read mileage: 69,100 Kilometres | Supplier: Subsidiary/authorised dealer of the brand(s) | Total number of owners: 2 Owner | Transmission: Automatic | Vehicle origin: Leasing vehicle | Vehicle release: Release of the vehicle will take place at the earliest 5 working days following receipt of payment. | ABS | Airbags: 6 | Autobeam | Automatic dimming exterior mirror | Automatic dimming internal mirror | Automatic tailgate | Climatronic | Cruise control | Electric windows front and rear | Heated external mirror | Induction charger for Smartphones | Interior trim: Wood | Lane keeping system | Leather steering wheel | LED headlights | Multi-function steering wheel | On-board computer | Paddle shift steering wheel | Parking aid APS (Acoustic Parking System) front/rear | Particle filter | Power steering | Radio, MP3, DAB | Rain sensor | Remote central locking | Roof rails | Satnav with map views: MMI Navigation Plus | Side mirror electrically foldable | Stability program ESP (Electronic Stability Program) | Start/stop system | Sunblinds rear doors | Telephone: Preparation with Bluetooth | Touchscreen | Trailer coupling swivel-mounted | Tyre Pressure Indicator TPI | Assistant package Tour (driving assistance system: Hearnightlist, driving assistant system: traffic sign detection, driving assistance system: City emergency brake function (Audi Pre Sense City), driving assistance system: traffic jam assistance system: alternative assistant, driving assistance system: turning assistant left, driving assistance system: Business package (driving assistance system: high-beam assistant, Bluetooth hands-free system with speech recognition (Audi Phone Box), multi-media interface\n",
      "--------------------------------------------------------------------------------\n",
      "[6] Label: 0\n",
      "Query: I am interested in a red sedan with manual transmission and a petrol engine. Does it come with a sunroof and less than 50,000 kilometers mileage?\n",
      "Vehicle Text: Category: Estate, 4 door | Colour: blue Metallic | Colour name: navarrablau | Emission class: EURO 6d-Temp | Engine type: Diesel | First registration: 01.2020 | Fuel type: Diesel | Location: D-16 | Power output: 140 KW / 190 PS | Read mileage: 69,100 Kilometres | Supplier: Subsidiary/authorised dealer of the brand(s) | Total number of owners: 2 Owner | Transmission: Automatic | Vehicle origin: Leasing vehicle | Vehicle release: Release of the vehicle will take place at the earliest 5 working days following receipt of payment. | ABS | Airbags: 6 | Autobeam | Automatic dimming exterior mirror | Automatic dimming internal mirror | Automatic tailgate | Climatronic | Cruise control | Electric windows front and rear | Heated external mirror | Induction charger for Smartphones | Interior trim: Wood | Lane keeping system | Leather steering wheel | LED headlights | Multi-function steering wheel | On-board computer | Paddle shift steering wheel | Parking aid APS (Acoustic Parking System) front/rear | Particle filter | Power steering | Radio, MP3, DAB | Rain sensor | Remote central locking | Roof rails | Satnav with map views: MMI Navigation Plus | Side mirror electrically foldable | Stability program ESP (Electronic Stability Program) | Start/stop system | Sunblinds rear doors | Telephone: Preparation with Bluetooth | Touchscreen | Trailer coupling swivel-mounted | Tyre Pressure Indicator TPI | Assistant package Tour (driving assistance system: Hearnightlist, driving assistant system: traffic sign detection, driving assistance system: City emergency brake function (Audi Pre Sense City), driving assistance system: traffic jam assistance system: alternative assistant, driving assistance system: turning assistant left, driving assistance system: Business package (driving assistance system: high-beam assistant, Bluetooth hands-free system with speech recognition (Audi Phone Box), multi-media interface\n",
      "--------------------------------------------------------------------------------\n",
      "[7] Label: 0\n",
      "Query: Looking for an SUV with a power output of more than 200 KW, equipped with advanced features like a rearview camera, heated seats, and a panoramic sunroof. Is it a model registered after 2019?\n",
      "Vehicle Text: Category: Estate, 4 door | Colour: blue Metallic | Colour name: navarrablau | Emission class: EURO 6d-Temp | Engine type: Diesel | First registration: 01.2020 | Fuel type: Diesel | Location: D-16 | Power output: 140 KW / 190 PS | Read mileage: 69,100 Kilometres | Supplier: Subsidiary/authorised dealer of the brand(s) | Total number of owners: 2 Owner | Transmission: Automatic | Vehicle origin: Leasing vehicle | Vehicle release: Release of the vehicle will take place at the earliest 5 working days following receipt of payment. | ABS | Airbags: 6 | Autobeam | Automatic dimming exterior mirror | Automatic dimming internal mirror | Automatic tailgate | Climatronic | Cruise control | Electric windows front and rear | Heated external mirror | Induction charger for Smartphones | Interior trim: Wood | Lane keeping system | Leather steering wheel | LED headlights | Multi-function steering wheel | On-board computer | Paddle shift steering wheel | Parking aid APS (Acoustic Parking System) front/rear | Particle filter | Power steering | Radio, MP3, DAB | Rain sensor | Remote central locking | Roof rails | Satnav with map views: MMI Navigation Plus | Side mirror electrically foldable | Stability program ESP (Electronic Stability Program) | Start/stop system | Sunblinds rear doors | Telephone: Preparation with Bluetooth | Touchscreen | Trailer coupling swivel-mounted | Tyre Pressure Indicator TPI | Assistant package Tour (driving assistance system: Hearnightlist, driving assistant system: traffic sign detection, driving assistance system: City emergency brake function (Audi Pre Sense City), driving assistance system: traffic jam assistance system: alternative assistant, driving assistance system: turning assistant left, driving assistance system: Business package (driving assistance system: high-beam assistant, Bluetooth hands-free system with speech recognition (Audi Phone Box), multi-media interface\n",
      "--------------------------------------------------------------------------------\n",
      "[8] Label: 0\n",
      "Query: In search of a hatchback with a hybrid engine, equipped with a keyless entry system and automatic parking. Does it have less than 1 previous owner and a power output less than 150 KW?\n",
      "Vehicle Text: Category: Estate, 4 door | Colour: blue Metallic | Colour name: navarrablau | Emission class: EURO 6d-Temp | Engine type: Diesel | First registration: 01.2020 | Fuel type: Diesel | Location: D-16 | Power output: 140 KW / 190 PS | Read mileage: 69,100 Kilometres | Supplier: Subsidiary/authorised dealer of the brand(s) | Total number of owners: 2 Owner | Transmission: Automatic | Vehicle origin: Leasing vehicle | Vehicle release: Release of the vehicle will take place at the earliest 5 working days following receipt of payment. | ABS | Airbags: 6 | Autobeam | Automatic dimming exterior mirror | Automatic dimming internal mirror | Automatic tailgate | Climatronic | Cruise control | Electric windows front and rear | Heated external mirror | Induction charger for Smartphones | Interior trim: Wood | Lane keeping system | Leather steering wheel | LED headlights | Multi-function steering wheel | On-board computer | Paddle shift steering wheel | Parking aid APS (Acoustic Parking System) front/rear | Particle filter | Power steering | Radio, MP3, DAB | Rain sensor | Remote central locking | Roof rails | Satnav with map views: MMI Navigation Plus | Side mirror electrically foldable | Stability program ESP (Electronic Stability Program) | Start/stop system | Sunblinds rear doors | Telephone: Preparation with Bluetooth | Touchscreen | Trailer coupling swivel-mounted | Tyre Pressure Indicator TPI | Assistant package Tour (driving assistance system: Hearnightlist, driving assistant system: traffic sign detection, driving assistance system: City emergency brake function (Audi Pre Sense City), driving assistance system: traffic jam assistance system: alternative assistant, driving assistance system: turning assistant left, driving assistance system: Business package (driving assistance system: high-beam assistant, Bluetooth hands-free system with speech recognition (Audi Phone Box), multi-media interface\n",
      "--------------------------------------------------------------------------------\n",
      "[9] Label: 0\n",
      "Query: Is your car a green Metallic coupe equipped with features like a Bose sound system, wireless charging, and a digital instrument cluster? Does it have a mileage of more than 80,000 kilometers?\n",
      "Vehicle Text: Category: Estate, 4 door | Colour: blue Metallic | Colour name: navarrablau | Emission class: EURO 6d-Temp | Engine type: Diesel | First registration: 01.2020 | Fuel type: Diesel | Location: D-16 | Power output: 140 KW / 190 PS | Read mileage: 69,100 Kilometres | Supplier: Subsidiary/authorised dealer of the brand(s) | Total number of owners: 2 Owner | Transmission: Automatic | Vehicle origin: Leasing vehicle | Vehicle release: Release of the vehicle will take place at the earliest 5 working days following receipt of payment. | ABS | Airbags: 6 | Autobeam | Automatic dimming exterior mirror | Automatic dimming internal mirror | Automatic tailgate | Climatronic | Cruise control | Electric windows front and rear | Heated external mirror | Induction charger for Smartphones | Interior trim: Wood | Lane keeping system | Leather steering wheel | LED headlights | Multi-function steering wheel | On-board computer | Paddle shift steering wheel | Parking aid APS (Acoustic Parking System) front/rear | Particle filter | Power steering | Radio, MP3, DAB | Rain sensor | Remote central locking | Roof rails | Satnav with map views: MMI Navigation Plus | Side mirror electrically foldable | Stability program ESP (Electronic Stability Program) | Start/stop system | Sunblinds rear doors | Telephone: Preparation with Bluetooth | Touchscreen | Trailer coupling swivel-mounted | Tyre Pressure Indicator TPI | Assistant package Tour (driving assistance system: Hearnightlist, driving assistant system: traffic sign detection, driving assistance system: City emergency brake function (Audi Pre Sense City), driving assistance system: traffic jam assistance system: alternative assistant, driving assistance system: turning assistant left, driving assistance system: Business package (driving assistance system: high-beam assistant, Bluetooth hands-free system with speech recognition (Audi Phone Box), multi-media interface\n",
      "--------------------------------------------------------------------------------\n",
      "[10] Label: 0\n",
      "Query: Looking for a car with sporty interior trim, preferably Carbon Fiber, and equipped with a sports suspension, Brembo brakes, and a manual transmission. Is it a car registered before 2018?\n",
      "Vehicle Text: Category: Estate, 4 door | Colour: blue Metallic | Colour name: navarrablau | Emission class: EURO 6d-Temp | Engine type: Diesel | First registration: 01.2020 | Fuel type: Diesel | Location: D-16 | Power output: 140 KW / 190 PS | Read mileage: 69,100 Kilometres | Supplier: Subsidiary/authorised dealer of the brand(s) | Total number of owners: 2 Owner | Transmission: Automatic | Vehicle origin: Leasing vehicle | Vehicle release: Release of the vehicle will take place at the earliest 5 working days following receipt of payment. | ABS | Airbags: 6 | Autobeam | Automatic dimming exterior mirror | Automatic dimming internal mirror | Automatic tailgate | Climatronic | Cruise control | Electric windows front and rear | Heated external mirror | Induction charger for Smartphones | Interior trim: Wood | Lane keeping system | Leather steering wheel | LED headlights | Multi-function steering wheel | On-board computer | Paddle shift steering wheel | Parking aid APS (Acoustic Parking System) front/rear | Particle filter | Power steering | Radio, MP3, DAB | Rain sensor | Remote central locking | Roof rails | Satnav with map views: MMI Navigation Plus | Side mirror electrically foldable | Stability program ESP (Electronic Stability Program) | Start/stop system | Sunblinds rear doors | Telephone: Preparation with Bluetooth | Touchscreen | Trailer coupling swivel-mounted | Tyre Pressure Indicator TPI | Assistant package Tour (driving assistance system: Hearnightlist, driving assistant system: traffic sign detection, driving assistance system: City emergency brake function (Audi Pre Sense City), driving assistance system: traffic jam assistance system: alternative assistant, driving assistance system: turning assistant left, driving assistance system: Business package (driving assistance system: high-beam assistant, Bluetooth hands-free system with speech recognition (Audi Phone Box), multi-media interface\n",
      "--------------------------------------------------------------------------------\n",
      "\n",
      "=== Preview from TRAIN Set (Fold 4) (first 10 examples) ===\n",
      "\n",
      "[1] Label: 1\n",
      "Query: Looking for a black all-terrain vehicle with 5 doors and all-wheel drive, having automatic transmission and a power output of less than 220 KW. Must have Audi's Tour Assistance package and be equipped with a touchscreen, paddle shift steering wheel, and LED headlights.\n",
      "Vehicle Text: Category: All-terrain vehicle, 5 door, All-wheel drive | Colour: black | Colour name: Brillantschwarz | Emission class: EURO 6 | Engine type: Otto | First registration: 09.2024 | Fuel type: Benzin Mildhybrid | Location: D-64 | Power output: 150 KW / 204 PS | Read mileage: 3,100 Kilometres | Total number of owners: 2 Owner | Transmission: Automatic | Vehicle release: Release of the vehicle will take place at the earliest 5 working days following receipt of payment. | ABS | Airbags: 6 | Autobeam | Automatic dimming exterior mirror | Automatic dimming internal mirror | Climatronic | Cruise control | Electric boot lid | Electric windows front and rear | Heated external mirror | Lane keeping system | Leather steering wheel | LED headlights | MP3 | Multi-function steering wheel | On-board computer | Paddle shift steering wheel | Parking aid APS (Acoustic Parking System) front/rear | Power steering | Rain sensor | Remote central locking | Reverse camera | Satnav with map views: Multi-Media-Interface MMI Navigation Plus mit MMI Touch | Side mirror electrically foldable | Sports chassis | Start/stop system | Steering wheel heating | Sunblinds rear doors | Telephone: Preparation with Bluetooth | Tinted rear windows | Touchscreen | Trailer coupling swivel-mounted | Tyre Pressure Indicator TPI | Tour Assistance Package (Driver Assistance System: High Beam Assist, Driver Assistance System: Adaptive including Audi pre sense front, Driver Assistance System: Traffic Jam Assist, Driver Assistance System: Left Turn Assist, Driver Assistance System: Lane Keeping Assist (Active Lane Assist), Driver Assistance System: Traffic Sign Recognition) Audi connect (Internet-based services) Business Package (Driver Assistance System: High Beam Assist, Bluetooth hands-free system with voice recognition (Audi Phone Box), digital instrument cluster (virtual\n",
      "--------------------------------------------------------------------------------\n",
      "[2] Label: 0\n",
      "Query: Looking for a 5-door all-terrain vehicle with a petrol engine, equipped with LED headlights, climatronic, and a reverse camera.\n",
      "Vehicle Text: Category: All-terrain vehicle, 5 door | Colour: black | Engine type: Diesel | First registration: 04.2022 | Fuel type: Diesel | Location: D-56 | Power output: 110 KW / 150 PS | Read mileage: 130,700 Kilometres | Supplier: Wholesaler | Total number of owners: 1 Owner | Transmission: 6-gear manual transmission | Vehicle origin: Driving school car | Automatic dimming internal mirror | Climatronic | Cruise control | Electric windows front and rear | Leather steering wheel | LED headlights | Multi-function steering wheel | On-board computer | Parking aid PDC (Park Distance Control) front/rear | Power steering | Remote central locking | Reverse camera | Satnav with map views | Side mirror electrically foldable | Touchscreen | Demurrage chargesStarting on 20.07.2025 the daily demurrage for this item will be 6,00 EUR net, plus VAT\n",
      "--------------------------------------------------------------------------------\n",
      "[3] Label: 1\n",
      "Query: Seeking a diesel car with ABS, cruise control and a park assistant. Should it have less than 3 previous owners and be a 5-door estate? It should also have a power steering and a remote central locking system\n",
      "Vehicle Text: Category: Estate, 5 door, All-wheel drive | Colour: black Metallic | Colour name: black sapphire | Engine type: Diesel | First registration: 03.2018 | Fuel type: Diesel | Location: D-48 | Power output: 294 KW / 400 PS | Read mileage: 104,700 Kilometres | Supplier: Procar Automobile Münsterland GmbH | Total number of owners: 3 Owner | Transmission: Automatic | Vehicle release: Release of the vehicle will take place at the earliest 5 working days following receipt of payment. | ABS | Airbags: 7 | Alarm system | Auto Hold | Autobeam | Automatic dimming internal mirror | Automatic tailgate | Climatronic in the back | Cruise control | Electric windows front and rear | Fog light | Head-up display | Lane Change Warning | Lane keeping system | Leather steering wheel | LED headlights | Multi-function steering wheel | On-board computer | Paddle shift steering wheel | Panorama sunroof | Park assistant | Parking aid PDC (Park Distance Control) front/rear | Parking heater with remote control | Particle filter | Power steering | Radio, MP3, DAB | Rain sensor | Remote central locking | Reverse camera | Roof rails | Satnav with map views: Professional | Side mirror electrically foldable | Sound system | Sports chassis | Stability program Direct traction Control (DTC) | Start/stop system | Steering wheel heating | Telephone: Preparation with Bluetooth | Tinted rear windows | Tyre Pressure Indicator TPI | Voice control system | Adaptive chassis M Professional Active seat ventilation at the front Business package (parking assistant package, driving assistant system: park assistant, roof railing high-gloss shadow line, seat heating at the front + back) Entertainment package (DAB-Tuner (radio reception digital), Sound system Harman-Kardon, service system: online entertainment, service system: Apple CarPlay Information (preparation)) Driving assistance system: Driving assistant plus (driving assistance system: lane change assistant, driving assistance system: false driving warning, driving\n",
      "--------------------------------------------------------------------------------\n",
      "[4] Label: 0\n",
      "Query: Searching for a vehicle with a diesel engine and a power output of less than 180 PS. Does it have cruise control, a rain sensor, and electric windows at both front and rear? It should have a first registration date later than 01.2022.\n",
      "Vehicle Text: Category: All-terrain vehicle, 5 door | Colour: grey Metallic | Colour name: nanograu | Emission class: EURO 6d | Engine type: Otto | First registration: 04.2021 | Fuel type: Petrol | Location: D-28 | Power output: 110 KW / 150 PS | Read mileage: 53,200 Kilometres | Total number of owners: 1 Owner | Transmission: 6-gear manual transmission | Vehicle release: Release of the vehicle will take place at the earliest 5 working days following receipt of payment. | ABS | Airbags: 6 | Climatronic | Cruise control | Electric windows front and rear | Heated external mirror | Leather steering wheel | LED headlights | MP3, Radio, DAB | Multi-function steering wheel | On-board computer | Parking aid APS (Acoustic Parking System) rear | Particle filter | Power steering | Rain sensor | Remote central locking | Roof rails | Satnav with map views: MMI Plus | Side mirror electrically adjustable | Stability program ESP (Electronic Stability Program) | Start/stop system | Telephone: Preparation with Bluetooth | Touchscreen | Trailer coupling swivel-mounted | Tyre Defect Indicator TDI | Voice control system | Demurrage chargesStarting on 22.07.2025 the daily demurrage for this item will be 6,00 EUR net, plus VAT\n",
      "--------------------------------------------------------------------------------\n",
      "[5] Label: 1\n",
      "Query: I'm looking for a white, 4-door estate car with automatic transmission and all-wheel drive. It should have a diesel mild hybrid engine. Does it also have a power output of more than 200 KW?\n",
      "Vehicle Text: Category: Estate, 4 door, All-wheel drive | Colour: white | Engine type: Diesel | First registration: 11.2021 | Fuel type: Diesel Mildhybrid | Location: D-56 | Power output: 210 KW / 286 PS | Read mileage: 153,100 Kilometres | Supplier: Subsidiary/authorised dealer of the brand(s): Mini, BMW | Total number of owners: 1 Owner / 1 Entry / Entries | Transmission: Automatic | ABS | Airbags: 6 | Auto Hold | Automatic dimming internal mirror | Automatic tailgate | Climatronic | Cruise control | Electric windows front and rear | Head-up display | Leather steering wheel | LED headlights | Multi-function steering wheel | On-board computer | Paddle shift steering wheel | Panorama sunroof | Parking aid PDC (Park Distance Control) front/rear | Power steering | Radio | Rain sensor | Remote central locking | Reverse camera | Roof rails | Satnav with map views | Side mirror electrically foldable | Stability program ESP (Electronic Stability Program) | Start/stop system | Touchscreen | Trailer coupling electrically adjustable | Tyre Pressure Indicator TPI | Demurrage chargesStarting on 20.07.2025 the daily demurrage for this item will be 6,00 EUR net, plus VAT\n",
      "--------------------------------------------------------------------------------\n",
      "[6] Label: 1\n",
      "Query: I am in need of a car with an engine type Otto and fuel type as Benzin Plugin Hybrid. Does it have parking aid PDC and a reverse camera? Also, it should have a registration date later than 04.2022.\n",
      "Vehicle Text: Category: Saloon, 4 door, All-wheel drive | Colour: black Metallic | Colour name: blacksapphire | Emission class: EURO 6 | Engine type: Otto | First registration: 05.2022 | Fuel type: Benzin Plugin Hybrid | Location: D-45 | Power output: 210 KW / 286 PS | Read mileage: 24,000 Kilometres | Supplier: Subsidiary/authorised dealer of the brand(s): Land Rover, Mini, BMW, Opel | Total number of owners: 1 Owner | Transmission: Automatic | Vehicle release: Release of the vehicle will take place at the earliest 3 working days following receipt of payment. | ABS | Airbags: 6 | Alarm system | Auto Hold | Autobeam | Automatic dimming internal mirror | Automatic tailgate | Climatronic | Cruise control | Electric windows front and rear | Head-up display | Lane Change Warning | Leather steering wheel | LED headlights | Multi-function steering wheel | On-board computer | Parking aid PDC (Park Distance Control) front/rear | Power steering | Radio, MP3, DAB | Rain sensor | Remote central locking | Reverse camera | Satnav with map views: Professional Live Cockpit | Side mirror electrically foldable | Stability program DSC (Dynamic Stability Control) | Start/stop system | Telephone: Preparation with Bluetooth | Tinted rear windows | Tyre Pressure Indicator TPI | Active seat ventilation at the front Business package Driving assistance system: BMW gesture control Driving assistance system: Driving Assistant Professional (driving assistance system: lane change assistant, driving assistance system: false driving warning, driving assistance system: Speed-Limit display, driving assistance system: front collision warning, driving assistant system: rear assistance prevention (prevention rear collision), driving assistant system: cross-traffic assistant, Driving assistance system: traffic light detection, driving assistance system: lane change warning system) Automatic tailgate actuation Hi-fi loudspeaker system Induction charging bowl for\n",
      "--------------------------------------------------------------------------------\n",
      "[7] Label: 0\n",
      "Query: I'm interested in a car with a Diesel engine, preferably with a power output of more than 150 PS. It should also have features like ABS, Cruise control, and Automatic tailgate, and it should be in a grey Metallic color.\n",
      "Vehicle Text: Category: Estate, 5 door | Colour: black Metallic | Colour name: mythosschwarz | Emission class: EURO 6d | Engine type: Otto | First registration: 12.2022 | Fuel type: Benzin Mildhybrid | Location: D-59 | Power output: 110 KW / 150 PS | Read mileage: 24,000 Kilometres | Supplier: Ulrich Senger GmbH | Total number of owners: 1 Owner | Transmission: Automatic | Vehicle release: Release of the vehicle will take place at the earliest 10 working days following receipt of payment. | ABS | Airbags: 6 | Autobeam | Automatic dimming internal mirror | Automatic tailgate | Climatronic | Cruise control | Electric windows front and rear | Heated external mirror | Keyless-Go | Lane keeping system | Leather steering wheel | LED headlights | Multi-function steering wheel | On-board computer | Paddle shift steering wheel | Parking aid APS (Acoustic Parking System) front/rear | Power steering | Radio, MP3, DAB | Rain sensor | Remote central locking | Reverse camera | Roof rails | Satnav with map views: MMI plus | Side mirror electrically foldable | Stability program ESP (Electronic Stability Program) | Start/stop system | Sunblinds rear doors | Telephone: Preparation with Bluetooth | Tinted rear windows | Touchscreen | Tyre Pressure Indicator TPI | Voice control system | Assistant package Tour (driving assistance system: Hearnightlist, driving assistance system: traffic sign detection, driving assistance system: City emergency brake function (Audi Pre Sense City), driving assistant system: traffic jam assistance system: alternative assistance, driving assistance system: turning assistant left, driving assistance system: autom.\n",
      "--------------------------------------------------------------------------------\n",
      "[8] Label: 0\n",
      "Query: Looking for a diesel car with a manual transmission and black colour, preferably with tinted rear windows and a heated steering wheel. Does it have a power output of more than 160 KW and a tyre pressure indicator?\n",
      "Vehicle Text: Category: Estate, 5 door | Colour: white | Colour name: alpinweiss Iii | Emission class: EURO 6 | Engine type: Diesel | First registration: 08.2015 | Fuel type: Diesel | Location: D-72 | Power output: 140 KW / 190 PS | Read mileage: 188,400 Kilometres | Supplier: Subsidiary/authorised dealer of the brand(s): BMW | Total number of owners: 4 Owner | Transmission: Automatic | Vehicle release: Release of the vehicle will take place at the earliest 7 working days following receipt of payment. | ABS | Airbags: 6 | Auto Hold | Automatic dimming internal mirror | Automatic tailgate | Bi-xenon | Climatronic | Cruise control | Electric windows front and rear | Heated external mirror | Leather steering wheel | Level control | Multi-function steering wheel | On-board computer | Parking aid PDC (Park Distance Control) front/rear | Particle filter | Power steering | Radio, CD, MP3 | Rain sensor | Remote central locking | Satnav with map views: Business | Side mirror electrically adjustable | Stability program ESP (Electronic Stability Program) | Start/stop system | Sunblinds rear doors | Telephone: Telephone ready | Tinted rear windows | Tyre Pressure Indicator TPI | Voice control system | Audio navigation system Business (Audio system BMW Professional (Radio / DVD drive MP3-capable))\n",
      "Interior: Edelholz Fineline\n",
      "Park distance control (PDC) at the front and back\n",
      "Seat cover / padding: leather dakota\n",
      "Sun protection glazing (darkened at the back, BMW individual)\n",
      "--------------------------------------------------------------------------------\n",
      "[9] Label: 0\n",
      "Query: Looking for a car with manual transmission, CO2 emissions more than 200 g/km combined, and equipped with a trailer coupling fixed-mounted. It should be a 3-door model with less than 20,000 km mileage.\n",
      "Vehicle Text: CO2 emissions (in g/km combined): 142 | Category: Estate, 5 door, All-wheel drive | Colour: black Metallic | Colour name: Black Sapphire Metallic | Emission class: EURO 6 | Engine type: Diesel | First registration: 11.2023 | Fuel type: Hybrid | Location: D-06 | Power output: 140 KW / 190 PS | Read mileage: 58,400 Kilometres | Total number of owners: 1 Owner | Transmission: Automatic | Vehicle release: Release of the vehicle will take place at the earliest 5 working days following receipt of payment. | ABS | Alarm system | Autobeam | Climatronic | Cruise control | Fixed panorama roof | Lane keeping system | Leather steering wheel | LED headlights | Multi-function steering wheel | On-board computer | Paddle shift steering wheel | Park assistant | Parking aid PDC (Park Distance Control) front/rear | Radio, DAB | Rain sensor | Roof rails | Servotronic | Side mirror electrically adjustable | Sound system | Stability program Direct traction Control (DTC) | Start/stop system | Sunblinds rear doors | Tinted rear windows | Trailer coupling swivel-mounted | Tyre Pressure Indicator TPI | Serial equipment:\n",
      "Equipment package: Connected Professional\n",
      "Removal of the bracket tailgate\n",
      "Fine lighting at the front\n",
      "Automatic tailgate actuation\n",
      "Model maintenance\n",
      "Parking brake electrically\n",
      "WideScreen display special equipment:\n",
      "Sensatec instrument panel\n",
      "Personalization system (Personal Esim)\n",
      "Seating backride adjustment at the front\n",
      "--------------------------------------------------------------------------------\n",
      "[10] Label: 0\n",
      "Query: Interested in a 2 door Convertible / Roadster with a first registration date before '01.2016'. The car should have a power output of more than 90 KW and ABS system.\n",
      "Vehicle Text: Category: Convertible / Roadster, 2 door | Colour: grey | First registration: 02.2016 | Fuel type: Petrol | Location: D-97 | Power output: 92 KW / 125 PS | Read mileage: 178,300 Kilometres | Supplier: Subsidiary/authorised dealer of the brand(s): Audi, Mercedes-Benz, VW | Total number of owners: 2 Owner | Vehicle release: Release of the vehicle will take place at the earliest 5 working days following receipt of payment. | ABS | Automatic dimming internal mirror | Cruise control | Electric windows front and rear | Heated external mirror | On-board computer | Power steering | Radio, MP3 | Rain sensor | Remote central locking | Satnav with map views | Side mirror electrically adjustable | Stability program ESP (Electronic Stability Program) | Start/stop system | Xenon | Demurrage chargesStarting on 20.07.2025 the daily demurrage for this item will be 10,00 EUR net, plus VAT\n",
      "--------------------------------------------------------------------------------\n",
      "\n",
      "=== Preview from VAL Set (Fold 4) (first 10 examples) ===\n",
      "\n",
      "[1] Label: 1\n",
      "Query: Looking for a red Sports car / Coupé with all-wheel drive and an Otto engine. It should have automatic transmission and be a EURO 5 emission class. Is the car first registered around 2011?\n",
      "Vehicle Text: CO2 emissions (in g/km combined): 252 | Category: Sports car / Coupé, 2 door, All-wheel drive | Colour: red | Emission class: EURO 5 | Engine type: Otto | First registration: 05.2011 | Fuel type: Petrol | Location: D-06 | Power output: 331 KW / 450 PS | Read mileage: 97,000 Kilometres | Total number of owners: 5 Owner / 1 Entry / Entries | Transmission: Automatic | Vehicle release: Release of the vehicle will take place at the earliest 4 working days following receipt of payment. | ABS | Airbags: 6 | Automatic dimming internal mirror | Bi-xenon | Climatronic | Cruise control | Electric windows front | Leather steering wheel | Multi-function steering wheel | On-board computer | Paddle shift steering wheel | Parking aid APS (Acoustic Parking System) front/rear | Power steering | Radio, CD, MP3 Concert | Rain sensor | Remote central locking | Satnav with map views: MMI Plus | Side mirror electrically foldable | Sports chassis | Stability program ESP (Electronic Stability Program) | Telephone: Telephone ready | Tyre Pressure Indicator TPI | Demurrage chargesStarting on 22.07.2025 the daily demurrage for this item will be 6,00 EUR net, plus VAT\n",
      "--------------------------------------------------------------------------------\n",
      "[2] Label: 1\n",
      "Query: Searching for a petrol-run, 2 door sports car with around 420-450 PS. Does it have automatic transmission and an extensive on-board computer system?\n",
      "Vehicle Text: CO2 emissions (in g/km combined): 252 | Category: Sports car / Coupé, 2 door, All-wheel drive | Colour: red | Emission class: EURO 5 | Engine type: Otto | First registration: 05.2011 | Fuel type: Petrol | Location: D-06 | Power output: 331 KW / 450 PS | Read mileage: 97,000 Kilometres | Total number of owners: 5 Owner / 1 Entry / Entries | Transmission: Automatic | Vehicle release: Release of the vehicle will take place at the earliest 4 working days following receipt of payment. | ABS | Airbags: 6 | Automatic dimming internal mirror | Bi-xenon | Climatronic | Cruise control | Electric windows front | Leather steering wheel | Multi-function steering wheel | On-board computer | Paddle shift steering wheel | Parking aid APS (Acoustic Parking System) front/rear | Power steering | Radio, CD, MP3 Concert | Rain sensor | Remote central locking | Satnav with map views: MMI Plus | Side mirror electrically foldable | Sports chassis | Stability program ESP (Electronic Stability Program) | Telephone: Telephone ready | Tyre Pressure Indicator TPI | Demurrage chargesStarting on 22.07.2025 the daily demurrage for this item will be 6,00 EUR net, plus VAT\n",
      "--------------------------------------------------------------------------------\n",
      "[3] Label: 1\n",
      "Query: Is there a car available with acoustic parking system, paddle shift steering wheel, and a multi-function steering wheel? The car must be red and have an engine power output of more than 330 KW.\n",
      "Vehicle Text: CO2 emissions (in g/km combined): 252 | Category: Sports car / Coupé, 2 door, All-wheel drive | Colour: red | Emission class: EURO 5 | Engine type: Otto | First registration: 05.2011 | Fuel type: Petrol | Location: D-06 | Power output: 331 KW / 450 PS | Read mileage: 97,000 Kilometres | Total number of owners: 5 Owner / 1 Entry / Entries | Transmission: Automatic | Vehicle release: Release of the vehicle will take place at the earliest 4 working days following receipt of payment. | ABS | Airbags: 6 | Automatic dimming internal mirror | Bi-xenon | Climatronic | Cruise control | Electric windows front | Leather steering wheel | Multi-function steering wheel | On-board computer | Paddle shift steering wheel | Parking aid APS (Acoustic Parking System) front/rear | Power steering | Radio, CD, MP3 Concert | Rain sensor | Remote central locking | Satnav with map views: MMI Plus | Side mirror electrically foldable | Sports chassis | Stability program ESP (Electronic Stability Program) | Telephone: Telephone ready | Tyre Pressure Indicator TPI | Demurrage chargesStarting on 22.07.2025 the daily demurrage for this item will be 6,00 EUR net, plus VAT\n",
      "--------------------------------------------------------------------------------\n",
      "[4] Label: 1\n",
      "Query: I am interested in a car with a leather steering wheel, cruise control, climatronic, and rain sensor features. It should be a sports car with all-wheel drive and less than 100,000 kilometres mileage.\n",
      "Vehicle Text: CO2 emissions (in g/km combined): 252 | Category: Sports car / Coupé, 2 door, All-wheel drive | Colour: red | Emission class: EURO 5 | Engine type: Otto | First registration: 05.2011 | Fuel type: Petrol | Location: D-06 | Power output: 331 KW / 450 PS | Read mileage: 97,000 Kilometres | Total number of owners: 5 Owner / 1 Entry / Entries | Transmission: Automatic | Vehicle release: Release of the vehicle will take place at the earliest 4 working days following receipt of payment. | ABS | Airbags: 6 | Automatic dimming internal mirror | Bi-xenon | Climatronic | Cruise control | Electric windows front | Leather steering wheel | Multi-function steering wheel | On-board computer | Paddle shift steering wheel | Parking aid APS (Acoustic Parking System) front/rear | Power steering | Radio, CD, MP3 Concert | Rain sensor | Remote central locking | Satnav with map views: MMI Plus | Side mirror electrically foldable | Sports chassis | Stability program ESP (Electronic Stability Program) | Telephone: Telephone ready | Tyre Pressure Indicator TPI | Demurrage chargesStarting on 22.07.2025 the daily demurrage for this item will be 6,00 EUR net, plus VAT\n",
      "--------------------------------------------------------------------------------\n",
      "[5] Label: 1\n",
      "Query: In search of a sports car with bi-xenon, remote central locking, and tyre pressure indicator. It should be petrol fuel type and have less than 5 previous owners.\n",
      "Vehicle Text: CO2 emissions (in g/km combined): 252 | Category: Sports car / Coupé, 2 door, All-wheel drive | Colour: red | Emission class: EURO 5 | Engine type: Otto | First registration: 05.2011 | Fuel type: Petrol | Location: D-06 | Power output: 331 KW / 450 PS | Read mileage: 97,000 Kilometres | Total number of owners: 5 Owner / 1 Entry / Entries | Transmission: Automatic | Vehicle release: Release of the vehicle will take place at the earliest 4 working days following receipt of payment. | ABS | Airbags: 6 | Automatic dimming internal mirror | Bi-xenon | Climatronic | Cruise control | Electric windows front | Leather steering wheel | Multi-function steering wheel | On-board computer | Paddle shift steering wheel | Parking aid APS (Acoustic Parking System) front/rear | Power steering | Radio, CD, MP3 Concert | Rain sensor | Remote central locking | Satnav with map views: MMI Plus | Side mirror electrically foldable | Sports chassis | Stability program ESP (Electronic Stability Program) | Telephone: Telephone ready | Tyre Pressure Indicator TPI | Demurrage chargesStarting on 22.07.2025 the daily demurrage for this item will be 6,00 EUR net, plus VAT\n",
      "--------------------------------------------------------------------------------\n",
      "[6] Label: 0\n",
      "Query: Looking for a blue sports car with a diesel engine. Does it have automatic transmission and a power output of more than 350 KW?\n",
      "Vehicle Text: CO2 emissions (in g/km combined): 252 | Category: Sports car / Coupé, 2 door, All-wheel drive | Colour: red | Emission class: EURO 5 | Engine type: Otto | First registration: 05.2011 | Fuel type: Petrol | Location: D-06 | Power output: 331 KW / 450 PS | Read mileage: 97,000 Kilometres | Total number of owners: 5 Owner / 1 Entry / Entries | Transmission: Automatic | Vehicle release: Release of the vehicle will take place at the earliest 4 working days following receipt of payment. | ABS | Airbags: 6 | Automatic dimming internal mirror | Bi-xenon | Climatronic | Cruise control | Electric windows front | Leather steering wheel | Multi-function steering wheel | On-board computer | Paddle shift steering wheel | Parking aid APS (Acoustic Parking System) front/rear | Power steering | Radio, CD, MP3 Concert | Rain sensor | Remote central locking | Satnav with map views: MMI Plus | Side mirror electrically foldable | Sports chassis | Stability program ESP (Electronic Stability Program) | Telephone: Telephone ready | Tyre Pressure Indicator TPI | Demurrage chargesStarting on 22.07.2025 the daily demurrage for this item will be 6,00 EUR net, plus VAT\n",
      "--------------------------------------------------------------------------------\n",
      "[7] Label: 0\n",
      "Query: Interested in a vehicle with more than 120,000 kilometres on the odometer and an engine power output of less than 300 KW. It should be a sports car with all-wheel drive.\n",
      "Vehicle Text: CO2 emissions (in g/km combined): 252 | Category: Sports car / Coupé, 2 door, All-wheel drive | Colour: red | Emission class: EURO 5 | Engine type: Otto | First registration: 05.2011 | Fuel type: Petrol | Location: D-06 | Power output: 331 KW / 450 PS | Read mileage: 97,000 Kilometres | Total number of owners: 5 Owner / 1 Entry / Entries | Transmission: Automatic | Vehicle release: Release of the vehicle will take place at the earliest 4 working days following receipt of payment. | ABS | Airbags: 6 | Automatic dimming internal mirror | Bi-xenon | Climatronic | Cruise control | Electric windows front | Leather steering wheel | Multi-function steering wheel | On-board computer | Paddle shift steering wheel | Parking aid APS (Acoustic Parking System) front/rear | Power steering | Radio, CD, MP3 Concert | Rain sensor | Remote central locking | Satnav with map views: MMI Plus | Side mirror electrically foldable | Sports chassis | Stability program ESP (Electronic Stability Program) | Telephone: Telephone ready | Tyre Pressure Indicator TPI | Demurrage chargesStarting on 22.07.2025 the daily demurrage for this item will be 6,00 EUR net, plus VAT\n",
      "--------------------------------------------------------------------------------\n",
      "[8] Label: 0\n",
      "Query: Is there a car available with a manual transmission, a satnav with map views, and less than 3 previous owners? It should be a sports car with a diesel engine.\n",
      "Vehicle Text: CO2 emissions (in g/km combined): 252 | Category: Sports car / Coupé, 2 door, All-wheel drive | Colour: red | Emission class: EURO 5 | Engine type: Otto | First registration: 05.2011 | Fuel type: Petrol | Location: D-06 | Power output: 331 KW / 450 PS | Read mileage: 97,000 Kilometres | Total number of owners: 5 Owner / 1 Entry / Entries | Transmission: Automatic | Vehicle release: Release of the vehicle will take place at the earliest 4 working days following receipt of payment. | ABS | Airbags: 6 | Automatic dimming internal mirror | Bi-xenon | Climatronic | Cruise control | Electric windows front | Leather steering wheel | Multi-function steering wheel | On-board computer | Paddle shift steering wheel | Parking aid APS (Acoustic Parking System) front/rear | Power steering | Radio, CD, MP3 Concert | Rain sensor | Remote central locking | Satnav with map views: MMI Plus | Side mirror electrically foldable | Sports chassis | Stability program ESP (Electronic Stability Program) | Telephone: Telephone ready | Tyre Pressure Indicator TPI | Demurrage chargesStarting on 22.07.2025 the daily demurrage for this item will be 6,00 EUR net, plus VAT\n",
      "--------------------------------------------------------------------------------\n",
      "[9] Label: 0\n",
      "Query: Searching for a car with a sunroof, heated seats and automatic transmission. Should be a sports car with all-wheel drive and less than 40,000 kilometres of mileage.\n",
      "Vehicle Text: CO2 emissions (in g/km combined): 252 | Category: Sports car / Coupé, 2 door, All-wheel drive | Colour: red | Emission class: EURO 5 | Engine type: Otto | First registration: 05.2011 | Fuel type: Petrol | Location: D-06 | Power output: 331 KW / 450 PS | Read mileage: 97,000 Kilometres | Total number of owners: 5 Owner / 1 Entry / Entries | Transmission: Automatic | Vehicle release: Release of the vehicle will take place at the earliest 4 working days following receipt of payment. | ABS | Airbags: 6 | Automatic dimming internal mirror | Bi-xenon | Climatronic | Cruise control | Electric windows front | Leather steering wheel | Multi-function steering wheel | On-board computer | Paddle shift steering wheel | Parking aid APS (Acoustic Parking System) front/rear | Power steering | Radio, CD, MP3 Concert | Rain sensor | Remote central locking | Satnav with map views: MMI Plus | Side mirror electrically foldable | Sports chassis | Stability program ESP (Electronic Stability Program) | Telephone: Telephone ready | Tyre Pressure Indicator TPI | Demurrage chargesStarting on 22.07.2025 the daily demurrage for this item will be 6,00 EUR net, plus VAT\n",
      "--------------------------------------------------------------------------------\n",
      "[10] Label: 0\n",
      "Query: Do you have a car with electric seats, a power output of less than 300 KW, and more than 5 previous owners? It should be a sports car and have automatic transmission.\n",
      "Vehicle Text: CO2 emissions (in g/km combined): 252 | Category: Sports car / Coupé, 2 door, All-wheel drive | Colour: red | Emission class: EURO 5 | Engine type: Otto | First registration: 05.2011 | Fuel type: Petrol | Location: D-06 | Power output: 331 KW / 450 PS | Read mileage: 97,000 Kilometres | Total number of owners: 5 Owner / 1 Entry / Entries | Transmission: Automatic | Vehicle release: Release of the vehicle will take place at the earliest 4 working days following receipt of payment. | ABS | Airbags: 6 | Automatic dimming internal mirror | Bi-xenon | Climatronic | Cruise control | Electric windows front | Leather steering wheel | Multi-function steering wheel | On-board computer | Paddle shift steering wheel | Parking aid APS (Acoustic Parking System) front/rear | Power steering | Radio, CD, MP3 Concert | Rain sensor | Remote central locking | Satnav with map views: MMI Plus | Side mirror electrically foldable | Sports chassis | Stability program ESP (Electronic Stability Program) | Telephone: Telephone ready | Tyre Pressure Indicator TPI | Demurrage chargesStarting on 22.07.2025 the daily demurrage for this item will be 6,00 EUR net, plus VAT\n",
      "--------------------------------------------------------------------------------\n",
      "\n",
      "=== Preview from TRAIN Set (Fold 5) (first 10 examples) ===\n",
      "\n",
      "[1] Label: 1\n",
      "Query: On the hunt for an all-wheel-drive vehicle with an Alcantara steering wheel, a power output of less than 450 KW, and an automatic tailgate. The car should also have an Audi Connect theft location system and electric windows front and rear.\n",
      "Vehicle Text: Category: All-terrain vehicle, 5 door, All-wheel drive | Colour: black Metallic | Colour name: mythosschwarz | Emission class: EURO 6d | Engine type: Otto | First registration: 05.2022 | Fuel type: Mild-Hybrid | Location: D-21 | Power output: 441 KW / 600 PS | Read mileage: 96,500 Kilometres | Supplier: Subsidiary/authorised dealer of the brand(s): Audi, Seat, Skoda, VW | Total number of owners: 1 Owner | Transmission: Automatic | Vehicle release: Release of the vehicle will take place at the earliest 3 working days following receipt of payment. | ABS | Airbags: 6 | Alarm system | Auto Hold | Automatic tailgate | Climatronic | Cruise control | Electric windows front and rear | Head-up display | Lane Change Warning | LED headlights | Multi-function steering wheel | On-board computer | Paddle shift steering wheel | Panorama sunroof | Parking aid APS (Acoustic Parking System) front/rear | Parking heater with remote control | Power steering | Radio, MP3, DAB | Rain sensor | Remote central locking | Reverse camera | Satnav with map views: MMI plus | Servo locking system | Side mirror electrically foldable | Sound system | Sports chassis | Stability program ESP (Electronic Stability Program) | Start/stop system | Steering wheel heating | Touchscreen | Trailer coupling electrically adjustable | Tyre Pressure Indicator TPI | Alcantara steering wheel\n",
      "All -wheel steering\n",
      "Dynamic package plus\n",
      "Raising the top speed to 305 km/h\n",
      "RS sports exhaust system\n",
      "Optics package carbon / black glossy Audi Exclusive\n",
      "Audi Connect theft location system\n",
      "Matrix LED headlights\n",
      "--------------------------------------------------------------------------------\n",
      "[2] Label: 1\n",
      "Query: I am in search of an Otto engine type car with an emission class of EURO 5. It should be a 3-door Saloon, black in color, with remote central locking and a rain sensor. I prefer a power output of around 70 KW and a 5-gear manual transmission. The car should have less than 190,000 kilometres.\n",
      "Vehicle Text: Category: Saloon, 3 door | Colour: black | Colour name: brillantschwarz | Emission class: EURO 5 | Engine type: Otto | First registration: 03.2011 | Fuel type: Petrol | Location: D-82 | Power output: 63 KW / 86 PS | Read mileage: 183,400 Kilometres | Supplier: Subsidiary/authorised dealer of the brand(s): Audi | Total number of owners: 3 Owner | Transmission: 5-gear manual transmission | Vehicle release: Release of the vehicle will take place at the earliest 3 working days following receipt of payment. | ABS | Airbags: 6 | Climatronic | Electric windows front | Leather steering wheel | Power steering | Radio, CD chorus (Radio/CD-Player) | Rain sensor | Remote central locking | Side mirror electrically adjustable | Stability program ESP (Electronic Stability Program) | Start/stop system | Comfort-Drive-Paket\n",
      "--------------------------------------------------------------------------------\n",
      "[3] Label: 1\n",
      "Query: Looking for a blue metallic saloon car, with an automatic transmission and a petrol engine. It should have a power output of more than 250 PS and less than 150,000 kilometres on the odometer. Does it have features like LED headlights, Climatronic, and a professional Satnav system?\n",
      "Vehicle Text: Category: Saloon, 4 door | Colour: blue Metallic | Colour name: portimaoblau | Emission class: EURO 6 | Engine type: Otto | First registration: 09.2019 | Fuel type: Petrol | Location: D-45 | Power output: 190 KW / 258 PS | Read mileage: 124,300 Kilometres | Supplier: Subsidiary/authorised dealer of the brand(s): Land Rover, Mini, BMW, Opel | Total number of owners: 2 Owner | Transmission: Automatic | Vehicle release: Release of the vehicle will take place at the earliest 3 working days following receipt of payment. | ABS | Airbags: 6 | Alarm system | Autobeam | Automatic dimming internal mirror | Climatronic | Cruise control | DAB, MP3, Radio | Electric windows front and rear | Fog light | Head-up display | Lane Change Warning | Lane keeping system | Leather steering wheel | LED headlights | Multi-function steering wheel | On-board computer | Parking aid PDC (Park Distance Control) front/rear | Power steering | Rain sensor | Remote central locking | Reverse camera | Satnav with map views: Professional | Side mirror electrically foldable | Stability program DSC (Dynamic Stability Control) | Start/stop system | Telephone: Preparation with Bluetooth | Tinted rear windows | Tyre Defect Indicator TDI | Tyre Pressure Indicator TPI | Adaptive Suspension M-Technic (Variable Sport Steering) Exterior: Shadow Line High-Gloss (extended features) Brake System: M Sport Brakes (painted brake calipers) Business Package Professional (Equipment Package: Connected Professional, Lumbar Support for Front Left and Right Seats, Electrically Adjustable) DAB Tuner (Digital Radio Reception) Driving Assistance System: BMW Gesture Control Rear Spoiler (M-Technic) Induction Charging Cradle for Smartphone (Wireless Charging) Innovation Package (Driving Assistance System: High Beam Assistant, Comfort Access (opening and\n",
      "--------------------------------------------------------------------------------\n",
      "[4] Label: 0\n",
      "Query: Desiring a car with climatronic and cruise control, featuring a fabric and multi-function steering wheel. Is it from multiple owners and does it have a power output more than 180 KW?\n",
      "Vehicle Text: Category: Estate, 5 door | Colour: silver Metallic | Colour name: Florettsilber Metallic | Engine type: Diesel | First registration: 05.2022 | Fuel type: Diesel | Location: D-49 | Power output: 120 KW / 163 PS | Read mileage: 61,100 Kilometres | Supplier: Deutsche Bahn Connect GmbH | Total number of owners: 1 Owner | Transmission: Automatic | Vehicle origin: Rental car | Vehicle release: Release of the vehicle will take place at the earliest 5 working days following receipt of payment. | ABS | Airbags: 6 | Automatic dimming exterior mirror | Automatic dimming internal mirror | Automatic tailgate | Climatronic | Cruise control | Electric windows front and rear | Heated external mirror | Induction charger for Smartphones | Keyless-Go | Lane Change Warning | Lane keeping system | Leather steering wheel | Multi-function steering wheel | On-board computer | Paddle shift steering wheel | Parking aid APS (Acoustic Parking System) front/rear | Particle filter | Power steering | Radio, DAB | Rain sensor | Remote central locking | Reverse camera | Roof rails | Satnav with map views | Side mirror electrically foldable | Start/stop system | Steering wheel heating | Telephone: Preparation with Bluetooth | Touchscreen | Voice control system | Demurrage chargesStarting on 19.07.2025 the daily demurrage for this item will be 6,00 EUR net, plus VAT\n",
      "--------------------------------------------------------------------------------\n",
      "[5] Label: 1\n",
      "Query: Searching for a diesel car with all-wheel drive, registered in 2019 or later. Does it have advanced features like Adaptive Forward Lighting, Keyless-Go, and a multi-function steering wheel? A Parking aid APS system would also be desirable.\n",
      "Vehicle Text: Category: All-terrain vehicle, 5 door, All-wheel drive | Colour: white | Colour name: ibisweiß | Emission class: EURO 6d-Temp | Engine type: Diesel | First registration: 01.2019 | Fuel type: Diesel | Location: D-59 | Power output: 140 KW / 190 PS | Read mileage: 126,500 Kilometres | Supplier: Ulrich Senger GmbH | Total number of owners: 2 Owner | Transmission: Automatic | Vehicle release: Release of the vehicle will take place at the earliest 10 working days following receipt of payment. | ABS | Adaptive Forward Lighting (AFL) | Airbags: 6 | Autobeam | Automatic tailgate | Climatronic | Cruise control | Electric windows front and rear | Heated windscreen | Hill Descent Control HDC | Keyless-Go | Lane keeping system | Leather steering wheel | LED headlights | Multi-function steering wheel | On-board computer | Paddle shift steering wheel | Parking aid APS (Acoustic Parking System) front/rear | Particle filter | Power steering | Radio, CD, MP3 | Rain sensor | Remote central locking | Reverse camera | Roof rails | Satnav with map views: MMI Navigation Plus | Side mirror electrically foldable | Stability program ESP (Electronic Stability Program) | Start/stop system | Telephone: Preparation with Bluetooth | Trailer coupling swivel-mounted | Tyre Pressure Indicator TPI | Voice control system | Tour Assistance Package (Driver Assistance System: High Beam Assist, Driver Assistance System: Traffic Sign Recognition, Driver Assistance System: City Emergency Braking (Audi pre sense City), Driver Assistance System: Lane Departure Warning including Emergency Assist with camera-based traffic sign recognition) Equipment Package: S line Selection (S line exterior package, illuminated door sills with aluminum inlay and lettering, Sport Design sill trims, S line roof spoiler, cornering and all-weather lights) Equipment Package:\n",
      "--------------------------------------------------------------------------------\n",
      "[6] Label: 1\n",
      "Query: Interested in a car with a radio/cassette audio system, electrically adjustable side mirrors and ABS. Must have a power output of more or less 90 KW and less than 115,000 kilometers on it.\n",
      "Vehicle Text: Category: Other, 4 door | Colour: silver Metallic | Colour name: lichtsilber | Emission class: EURO 4 | Engine type: Otto | First registration: 05.2002 | Fuel type: Petrol | Location: D-45 | Power output: 96 KW / 131 PS | Read mileage: 115,300 Kilometres | Supplier: Subsidiary/authorised dealer of the brand(s): VW | Total number of owners: 1 Owner | Transmission: 5-gear manual transmission | Vehicle release: Release of the vehicle will take place at the earliest 3 working days following receipt of payment. | ABS | Airbags: 2 | Climatronic | Electric windows front | Fog light | Leather steering wheel | Parking aid APS (Acoustic Parking System) rear | Power steering | Radio, Cassette Chorus | Remote central locking | Side mirror electrically adjustable | Stability program ESP (Electronic Stability Program) | Chorus audio system (radio/cassette)\n",
      "Front center armrest\n",
      "Rear seat backrest split/folding\n",
      "--------------------------------------------------------------------------------\n",
      "[7] Label: 0\n",
      "Query: Interested in a car with no previous owners, registered before 2021. It should be a hybrid with an automatic transmission. Must have a head-up display, radio DAB, and a rain sensor.\n",
      "Vehicle Text: Category: Saloon, 4 door, All-wheel drive | Emission class: EURO 6d | Engine type: Otto | First registration: 01.2021 | Fuel type: Petrol | Location: D-57 | Power output: 245 KW / 333 PS | Read mileage: 116,700 Kilometres | Supplier: Subsidiary/authorised dealer of the brand(s): Mini, BMW | Total number of owners: 2 Owner | Transmission: Automatic | Vehicle release: Release of the vehicle will take place at the earliest 5 working days following receipt of payment. | ABS | Airbags: 6 | Alarm system | Autobeam | Automatic dimming internal mirror | Automatic tailgate | Climatronic | Cruise control | Electric windows front and rear | Head-up display | Induction charger for Smartphones | Lane Change Warning | Lane keeping system | Leather steering wheel | LED headlights | Multi-function steering wheel | On-board computer | Paddle shift steering wheel | Parking aid ex works front/rear | Power steering | Radio, DAB | Rain sensor | Remote central locking | Reverse camera | Satnav with map views | Side mirror electrically foldable | Soft Close Automatic | Sound system | Stability program ESP (Electronic Stability Program) | Start/stop system | Telephone: Preparation with Bluetooth | Touchscreen | Tyre Pressure Indicator TPI | Demurrage chargesStarting on 20.07.2025 the daily demurrage for this item will be 6,00 EUR net, plus VAT\n",
      "--------------------------------------------------------------------------------\n",
      "[8] Label: 0\n",
      "Query: Looking for a car with a power output of more than 270 PS and has more than 15000 kilometres on it. It should be equipped with a sunblind for the rear doors, tyre pressure indicator, but no induction charger for smartphones.\n",
      "Vehicle Text: Category: All-terrain vehicle, 5 door, All-wheel drive | Colour: grey Metallic | Emission class: EURO 6 | Engine type: Otto | First registration: 02.2025 | Fuel type: Benzin Plugin Hybrid | Location: D-82 | Power output: 195 KW / 265 PS | Read mileage: 9,900 Kilometres | Supplier: Subsidiary/authorised dealer of the brand(s): Audi, Skoda, VW | Total number of owners: 1 Owner | Transmission: manual transmission | Vehicle origin: Demonstration car | Vehicle release: Release of the vehicle will take place at the earliest 7 working days following receipt of payment. | ABS | Adaptive Forward Lighting (AFL) | Anti-glare full beam | Autobeam | Automatic dimming internal mirror | Climatronic in the back | Cruise control | DAB | Electric boot lid | Head-up display | Induction charger for Smartphones | Keyless-Go | Lane Change Warning | Lane keeping system | Leather steering wheel | LED headlights | Level control | Multi-function steering wheel | Navigation (ex works) | On-board computer | Paddle shift steering wheel | Parking aid ex works front/rear | Reverse camera | Roof rails | Servotronic | Side mirror electrically adjustable | Sound system | Sports chassis | Stability program ASC (Automatic Stability Control) | Steering wheel heating | Sunblinds rear doors | Telephone: Ready for hands-free equipment | Tinted rear windows | Touchscreen | Trailer coupling swivel-mounted | Tyre Pressure Indicator TPI | Voice control system | Highlights:\n",
      "adaptive air suspension; Panorama glass roof; Bang & Olufsen Premium sound system with 3D sound; Head-up display assistance systems:\n",
      "Assistant package City; Assistant package Tour; With a multifunctional camera; Camera -based traffic sign recognition; Holding assistant; Audi Active Lane Assist; Audi Pre Sense Rear; Trace change warning; Adaptive speed assistant; Audi Pre Sense City;\n",
      "--------------------------------------------------------------------------------\n",
      "[9] Label: 1\n",
      "Query: Interested in a black all-terrain vehicle, registered after 2007, with an automatic transmission, and less than 200,000 kilometres on the clock. Should be equipped with a parking aid APS and a tyre pressure indicator.\n",
      "Vehicle Text: Category: All-terrain vehicle, 5 door, All-wheel drive | Colour: black | Colour name: tiefschwarz (L041) | Emission class: EURO 4 | Engine type: Diesel | First registration: 12.2007 | Fuel type: Diesel | Location: D-82 | Power output: 240 KW / 326 PS | Read mileage: 193,600 Kilometres | Total number of owners: 2 Owner | Transmission: Automatic | Vehicle release: Release of the vehicle will take place at the earliest 3 working days following receipt of payment. | ABS | Airbags: 6 | Autobeam | Bi-xenon | CD-Changer | Climatronic | Cruise control | Electric boot lid | Electric windows front and rear | Fog light | Heated external mirror | Leather steering wheel | On-board computer | Parking aid APS (Acoustic Parking System) front/rear | Particle filter | Power steering | Radio, CD, DVD | Rain sensor | Remote central locking | Reverse camera | Roof rails | Satnav with map views: MMI | Side mirror electrically foldable | Sound system | Stability program ESP (Electronic Stability Program) | Telephone: Telephone ready | Tinted rear windows | Trailer coupling detachable | Tyre Pressure Indicator TPI | Driving assistance system: Adaptive speed ..\n",
      "Rest seats (2nd row) movable (plus)\n",
      "--------------------------------------------------------------------------------\n",
      "[10] Label: 1\n",
      "Query: In search of a saloon, 4-door car with all-wheel drive, manual transmission, powered by an Otto engine. The car must not exceed 150,000 kilometres. Desirable features include climatronic, parking aid PDC front/rear, and a start/stop system.\n",
      "Vehicle Text: Category: Saloon, 4 door, All-wheel drive | Emission class: EURO 6 | Engine type: Otto | First registration: 04.2018 | Fuel type: Petrol | Location: D-57 | Power output: 135 KW / 184 PS | Read mileage: 166,000 Kilometres | Supplier: Subsidiary/authorised dealer of the brand(s): Mini, BMW | Total number of owners: 1 Owner / 1 Entry / Entries | Transmission: manual transmission | Vehicle release: Release of the vehicle will take place at the earliest 5 working days following receipt of payment. | ABS | Airbags: 6 | Climatronic | Cruise control | LED headlights | On-board computer | Parking aid PDC (Park Distance Control) front/rear | Radio, CD | Remote central locking | Satnav with map views | Stability program ESP (Electronic Stability Program) | Start/stop system | Demurrage chargesStarting on 20.07.2025 the daily demurrage for this item will be 6,00 EUR net, plus VAT\n",
      "--------------------------------------------------------------------------------\n",
      "\n",
      "=== Preview from VAL Set (Fold 5) (first 10 examples) ===\n",
      "\n",
      "[1] Label: 1\n",
      "Query: Looking for a black saloon, 5 door car with manual transmission, petrol fuel type and EURO 6 emission class. It should have a power output of more than 90 KW and less than 140 PS, and should have been first registered after 2015. It should also come with Climatronic, cruise control, and a start/stop system.\n",
      "Vehicle Text: Category: Saloon, 5 door | Colour: black | Colour name: Schwarz Ii | Emission class: EURO 6 | First registration: 02.2017 | Fuel type: Petrol | Location: D-57 | Power output: 100 KW / 136 PS | Read mileage: 190,700 Kilometres | Supplier: Subsidiary/authorised dealer of the brand(s): Mini, BMW | Total number of owners: 2 Owner | Transmission: manual transmission | Vehicle release: Release of the vehicle will take place at the earliest 5 working days following receipt of payment. | ABS | Airbags: 6 | Climatronic | Cruise control | Electric windows front and rear | Fog light | Leather steering wheel | Multi-function steering wheel | On-board computer | Parking aid ex works rear | Power steering | Radio, CD | Rain sensor | Remote central locking | Satnav with map views: Business | Side mirror electrically adjustable | Stability program ASC (Automatic Stability Control) | Start/stop system | Telephone: Preparation with Bluetooth | Demurrage chargesStarting on 20.07.2025 the daily demurrage for this item will be 6,00 EUR net, plus VAT\n",
      "--------------------------------------------------------------------------------\n",
      "[2] Label: 1\n",
      "Query: Searching for a 5 door car with electric windows both front and rear, 6 airbags, and a multi-function steering wheel. It should have a power output of less than 110 KW and should be equipped with a rain sensor, fog light, and stability program. It should be a petrol car with less than 200,000 km mileage.\n",
      "Vehicle Text: Category: Saloon, 5 door | Colour: black | Colour name: Schwarz Ii | Emission class: EURO 6 | First registration: 02.2017 | Fuel type: Petrol | Location: D-57 | Power output: 100 KW / 136 PS | Read mileage: 190,700 Kilometres | Supplier: Subsidiary/authorised dealer of the brand(s): Mini, BMW | Total number of owners: 2 Owner | Transmission: manual transmission | Vehicle release: Release of the vehicle will take place at the earliest 5 working days following receipt of payment. | ABS | Airbags: 6 | Climatronic | Cruise control | Electric windows front and rear | Fog light | Leather steering wheel | Multi-function steering wheel | On-board computer | Parking aid ex works rear | Power steering | Radio, CD | Rain sensor | Remote central locking | Satnav with map views: Business | Side mirror electrically adjustable | Stability program ASC (Automatic Stability Control) | Start/stop system | Telephone: Preparation with Bluetooth | Demurrage chargesStarting on 20.07.2025 the daily demurrage for this item will be 6,00 EUR net, plus VAT\n",
      "--------------------------------------------------------------------------------\n",
      "[3] Label: 1\n",
      "Query: Interested in a car with first registration after 2016, a power output of more than 130 PS, and less than 2 previous owners. The car should have ABS, remote central locking, and on-board computer. It should also be equipped with a radio and CD player.\n",
      "Vehicle Text: Category: Saloon, 5 door | Colour: black | Colour name: Schwarz Ii | Emission class: EURO 6 | First registration: 02.2017 | Fuel type: Petrol | Location: D-57 | Power output: 100 KW / 136 PS | Read mileage: 190,700 Kilometres | Supplier: Subsidiary/authorised dealer of the brand(s): Mini, BMW | Total number of owners: 2 Owner | Transmission: manual transmission | Vehicle release: Release of the vehicle will take place at the earliest 5 working days following receipt of payment. | ABS | Airbags: 6 | Climatronic | Cruise control | Electric windows front and rear | Fog light | Leather steering wheel | Multi-function steering wheel | On-board computer | Parking aid ex works rear | Power steering | Radio, CD | Rain sensor | Remote central locking | Satnav with map views: Business | Side mirror electrically adjustable | Stability program ASC (Automatic Stability Control) | Start/stop system | Telephone: Preparation with Bluetooth | Demurrage chargesStarting on 20.07.2025 the daily demurrage for this item will be 6,00 EUR net, plus VAT\n",
      "--------------------------------------------------------------------------------\n",
      "[4] Label: 1\n",
      "Query: Looking for a saloon car with manual transmission, 5 doors and power output of 100 to 150 KW. The car should have ABS, rain sensor, and a start/stop system. It should also have a telephone preparation with Bluetooth.\n",
      "Vehicle Text: Category: Saloon, 5 door | Colour: black | Colour name: Schwarz Ii | Emission class: EURO 6 | First registration: 02.2017 | Fuel type: Petrol | Location: D-57 | Power output: 100 KW / 136 PS | Read mileage: 190,700 Kilometres | Supplier: Subsidiary/authorised dealer of the brand(s): Mini, BMW | Total number of owners: 2 Owner | Transmission: manual transmission | Vehicle release: Release of the vehicle will take place at the earliest 5 working days following receipt of payment. | ABS | Airbags: 6 | Climatronic | Cruise control | Electric windows front and rear | Fog light | Leather steering wheel | Multi-function steering wheel | On-board computer | Parking aid ex works rear | Power steering | Radio, CD | Rain sensor | Remote central locking | Satnav with map views: Business | Side mirror electrically adjustable | Stability program ASC (Automatic Stability Control) | Start/stop system | Telephone: Preparation with Bluetooth | Demurrage chargesStarting on 20.07.2025 the daily demurrage for this item will be 6,00 EUR net, plus VAT\n",
      "--------------------------------------------------------------------------------\n",
      "[5] Label: 1\n",
      "Query: Searching for a petrol car with less than 195,000 km mileage, power output of less than 150 PS, and manual transmission. The car should be equipped with parking aid, 6 airbags, and an electrically adjustable side mirror.\n",
      "Vehicle Text: Category: Saloon, 5 door | Colour: black | Colour name: Schwarz Ii | Emission class: EURO 6 | First registration: 02.2017 | Fuel type: Petrol | Location: D-57 | Power output: 100 KW / 136 PS | Read mileage: 190,700 Kilometres | Supplier: Subsidiary/authorised dealer of the brand(s): Mini, BMW | Total number of owners: 2 Owner | Transmission: manual transmission | Vehicle release: Release of the vehicle will take place at the earliest 5 working days following receipt of payment. | ABS | Airbags: 6 | Climatronic | Cruise control | Electric windows front and rear | Fog light | Leather steering wheel | Multi-function steering wheel | On-board computer | Parking aid ex works rear | Power steering | Radio, CD | Rain sensor | Remote central locking | Satnav with map views: Business | Side mirror electrically adjustable | Stability program ASC (Automatic Stability Control) | Start/stop system | Telephone: Preparation with Bluetooth | Demurrage chargesStarting on 20.07.2025 the daily demurrage for this item will be 6,00 EUR net, plus VAT\n",
      "--------------------------------------------------------------------------------\n",
      "[6] Label: 0\n",
      "Query: Interested in a saloon car with automatic transmission, petrol fuel type and with more than 150 KW power output. It should be first registered before 2016 and should have more than 200,000 km mileage.\n",
      "Vehicle Text: Category: Saloon, 5 door | Colour: black | Colour name: Schwarz Ii | Emission class: EURO 6 | First registration: 02.2017 | Fuel type: Petrol | Location: D-57 | Power output: 100 KW / 136 PS | Read mileage: 190,700 Kilometres | Supplier: Subsidiary/authorised dealer of the brand(s): Mini, BMW | Total number of owners: 2 Owner | Transmission: manual transmission | Vehicle release: Release of the vehicle will take place at the earliest 5 working days following receipt of payment. | ABS | Airbags: 6 | Climatronic | Cruise control | Electric windows front and rear | Fog light | Leather steering wheel | Multi-function steering wheel | On-board computer | Parking aid ex works rear | Power steering | Radio, CD | Rain sensor | Remote central locking | Satnav with map views: Business | Side mirror electrically adjustable | Stability program ASC (Automatic Stability Control) | Start/stop system | Telephone: Preparation with Bluetooth | Demurrage chargesStarting on 20.07.2025 the daily demurrage for this item will be 6,00 EUR net, plus VAT\n",
      "--------------------------------------------------------------------------------\n",
      "[7] Label: 0\n",
      "Query: Looking for a red SUV with automatic transmission, power output of more than 150 KW and first registration after 2018. The car should also come with a sunroof, heated seats, and a rear-view camera.\n",
      "Vehicle Text: Category: Saloon, 5 door | Colour: black | Colour name: Schwarz Ii | Emission class: EURO 6 | First registration: 02.2017 | Fuel type: Petrol | Location: D-57 | Power output: 100 KW / 136 PS | Read mileage: 190,700 Kilometres | Supplier: Subsidiary/authorised dealer of the brand(s): Mini, BMW | Total number of owners: 2 Owner | Transmission: manual transmission | Vehicle release: Release of the vehicle will take place at the earliest 5 working days following receipt of payment. | ABS | Airbags: 6 | Climatronic | Cruise control | Electric windows front and rear | Fog light | Leather steering wheel | Multi-function steering wheel | On-board computer | Parking aid ex works rear | Power steering | Radio, CD | Rain sensor | Remote central locking | Satnav with map views: Business | Side mirror electrically adjustable | Stability program ASC (Automatic Stability Control) | Start/stop system | Telephone: Preparation with Bluetooth | Demurrage chargesStarting on 20.07.2025 the daily demurrage for this item will be 6,00 EUR net, plus VAT\n",
      "--------------------------------------------------------------------------------\n",
      "[8] Label: 0\n",
      "Query: Searching for a diesel car with less than 100,000 km mileage, power output of more than 200 PS, and automatic transmission. The car should be equipped with a tow bar, roof rack, and a panoramic sunroof.\n",
      "Vehicle Text: Category: Saloon, 5 door | Colour: black | Colour name: Schwarz Ii | Emission class: EURO 6 | First registration: 02.2017 | Fuel type: Petrol | Location: D-57 | Power output: 100 KW / 136 PS | Read mileage: 190,700 Kilometres | Supplier: Subsidiary/authorised dealer of the brand(s): Mini, BMW | Total number of owners: 2 Owner | Transmission: manual transmission | Vehicle release: Release of the vehicle will take place at the earliest 5 working days following receipt of payment. | ABS | Airbags: 6 | Climatronic | Cruise control | Electric windows front and rear | Fog light | Leather steering wheel | Multi-function steering wheel | On-board computer | Parking aid ex works rear | Power steering | Radio, CD | Rain sensor | Remote central locking | Satnav with map views: Business | Side mirror electrically adjustable | Stability program ASC (Automatic Stability Control) | Start/stop system | Telephone: Preparation with Bluetooth | Demurrage chargesStarting on 20.07.2025 the daily demurrage for this item will be 6,00 EUR net, plus VAT\n",
      "--------------------------------------------------------------------------------\n",
      "[9] Label: 0\n",
      "Query: Looking for a car with first registration before 2015, a power output of less than 90 PS, and more than 3 previous owners. The car should have a cloth interior, no ABS, and no on-board computer. It should also lack a radio and CD player.\n",
      "Vehicle Text: Category: Saloon, 5 door | Colour: black | Colour name: Schwarz Ii | Emission class: EURO 6 | First registration: 02.2017 | Fuel type: Petrol | Location: D-57 | Power output: 100 KW / 136 PS | Read mileage: 190,700 Kilometres | Supplier: Subsidiary/authorised dealer of the brand(s): Mini, BMW | Total number of owners: 2 Owner | Transmission: manual transmission | Vehicle release: Release of the vehicle will take place at the earliest 5 working days following receipt of payment. | ABS | Airbags: 6 | Climatronic | Cruise control | Electric windows front and rear | Fog light | Leather steering wheel | Multi-function steering wheel | On-board computer | Parking aid ex works rear | Power steering | Radio, CD | Rain sensor | Remote central locking | Satnav with map views: Business | Side mirror electrically adjustable | Stability program ASC (Automatic Stability Control) | Start/stop system | Telephone: Preparation with Bluetooth | Demurrage chargesStarting on 20.07.2025 the daily demurrage for this item will be 6,00 EUR net, plus VAT\n",
      "--------------------------------------------------------------------------------\n",
      "[10] Label: 0\n",
      "Query: Interested in a petrol car with more than 250,000 km mileage, power output of more than 200 PS, and automatic transmission. The car should be equipped with a sunroof, leather seats, and a rear-view camera.\n",
      "Vehicle Text: Category: Saloon, 5 door | Colour: black | Colour name: Schwarz Ii | Emission class: EURO 6 | First registration: 02.2017 | Fuel type: Petrol | Location: D-57 | Power output: 100 KW / 136 PS | Read mileage: 190,700 Kilometres | Supplier: Subsidiary/authorised dealer of the brand(s): Mini, BMW | Total number of owners: 2 Owner | Transmission: manual transmission | Vehicle release: Release of the vehicle will take place at the earliest 5 working days following receipt of payment. | ABS | Airbags: 6 | Climatronic | Cruise control | Electric windows front and rear | Fog light | Leather steering wheel | Multi-function steering wheel | On-board computer | Parking aid ex works rear | Power steering | Radio, CD | Rain sensor | Remote central locking | Satnav with map views: Business | Side mirror electrically adjustable | Stability program ASC (Automatic Stability Control) | Start/stop system | Telephone: Preparation with Bluetooth | Demurrage chargesStarting on 20.07.2025 the daily demurrage for this item will be 6,00 EUR net, plus VAT\n",
      "--------------------------------------------------------------------------------\n"
     ]
    }
   ],
   "source": [
    "def preview_cross_encoder_inputs():\n",
    "    # Preview function\n",
    "    def print_preview(pairs, set_name, fold_idx=None):\n",
    "        header = f\"\\n=== Preview from {set_name.upper()} Set\"\n",
    "        if fold_idx is not None:\n",
    "            header += f\" (Fold {fold_idx + 1})\"\n",
    "        header += \" (first 10 examples) ===\\n\"\n",
    "        print(header)\n",
    "        for i, (query, vehicle_text, label) in enumerate(pairs[:10]):\n",
    "            print(f\"[{i+1}] Label: {label}\")\n",
    "            print(f\"Query: {query}\")\n",
    "            print(f\"Vehicle Text: {vehicle_text}\")\n",
    "            print(\"-\" * 80)\n",
    "\n",
    "    # Print test set preview\n",
    "    print_preview(test_pairs, \"test\")\n",
    "\n",
    "    # Print preview for each fold\n",
    "    for fold_idx, (train_pairs, val_pairs) in enumerate(folds):\n",
    "        print_preview(train_pairs, \"train\", fold_idx=fold_idx)\n",
    "        print_preview(val_pairs, \"val\", fold_idx=fold_idx)\n",
    "\n",
    "preview_cross_encoder_inputs()"
   ]
  },
  {
   "cell_type": "markdown",
   "id": "d4d93f00",
   "metadata": {},
   "source": [
    "#### Start Training"
   ]
  },
  {
   "cell_type": "code",
   "execution_count": 9,
   "id": "71189e6a",
   "metadata": {},
   "outputs": [
    {
     "name": "stderr",
     "output_type": "stream",
     "text": [
      "INFO:__main__:Loading model: microsoft/deberta-v3-base\n",
      "/storage/venv_h100/lib/python3.11/site-packages/huggingface_hub/file_download.py:943: FutureWarning: `resume_download` is deprecated and will be removed in version 1.0.0. Downloads always resume when possible. If you want to force a new download, use `force_download=True`.\n",
      "  warnings.warn(\n",
      "/storage/venv_h100/lib/python3.11/site-packages/transformers/convert_slow_tokenizer.py:560: UserWarning: The sentencepiece tokenizer that you are converting to a fast tokenizer uses the byte fallback option which is not implemented in the fast tokenizers. In practice this means that the fast version of the tokenizer can produce unknown tokens whereas the sentencepiece version would have converted these unknown tokens into a sequence of byte tokens matching the original piece of text.\n",
      "  warnings.warn(\n",
      "Some weights of DebertaV2ForSequenceClassification were not initialized from the model checkpoint at microsoft/deberta-v3-base and are newly initialized: ['classifier.bias', 'classifier.weight', 'pooler.dense.bias', 'pooler.dense.weight']\n",
      "You should probably TRAIN this model on a down-stream task to be able to use it for predictions and inference.\n",
      "INFO:__main__:Model and tokenizer loaded successfully\n",
      "INFO:__main__:\n",
      "====== Fold 1 / 5 ======\n",
      "INFO:__main__:Train size: 3760 | Validation size: 950\n",
      "/storage/venv_h100/lib/python3.11/site-packages/transformers/training_args.py:1474: FutureWarning: `evaluation_strategy` is deprecated and will be removed in version 4.46 of 🤗 Transformers. Use `eval_strategy` instead\n",
      "  warnings.warn(\n"
     ]
    },
    {
     "data": {
      "text/html": [
       "Finishing previous runs because reinit is set to True."
      ],
      "text/plain": [
       "<IPython.core.display.HTML object>"
      ]
     },
     "metadata": {},
     "output_type": "display_data"
    },
    {
     "data": {
      "text/html": [],
      "text/plain": [
       "<IPython.core.display.HTML object>"
      ]
     },
     "metadata": {},
     "output_type": "display_data"
    },
    {
     "data": {
      "text/html": [
       " View run <strong style=\"color:#cdcd00\">5-fold-cv-deberta-30f10c-main</strong> at: <a href='https://wandb.ai/pinkfloat-berliner-hochschule-f-r-technik/vehicle-cross-encoder/runs/diizdyxw' target=\"_blank\">https://wandb.ai/pinkfloat-berliner-hochschule-f-r-technik/vehicle-cross-encoder/runs/diizdyxw</a><br> View project at: <a href='https://wandb.ai/pinkfloat-berliner-hochschule-f-r-technik/vehicle-cross-encoder' target=\"_blank\">https://wandb.ai/pinkfloat-berliner-hochschule-f-r-technik/vehicle-cross-encoder</a><br>Synced 5 W&B file(s), 0 media file(s), 0 artifact file(s) and 0 other file(s)"
      ],
      "text/plain": [
       "<IPython.core.display.HTML object>"
      ]
     },
     "metadata": {},
     "output_type": "display_data"
    },
    {
     "data": {
      "text/html": [
       "Find logs at: <code>./wandb/run-20250715_205409-diizdyxw/logs</code>"
      ],
      "text/plain": [
       "<IPython.core.display.HTML object>"
      ]
     },
     "metadata": {},
     "output_type": "display_data"
    },
    {
     "data": {
      "text/html": [
       "Tracking run with wandb version 0.21.0"
      ],
      "text/plain": [
       "<IPython.core.display.HTML object>"
      ]
     },
     "metadata": {},
     "output_type": "display_data"
    },
    {
     "data": {
      "text/html": [
       "Run data is saved locally in <code>/storage/courses/ds_workflow/car-web-scraping/src/04_training_pipeline/wandb/run-20250715_205420-8pm77eo3</code>"
      ],
      "text/plain": [
       "<IPython.core.display.HTML object>"
      ]
     },
     "metadata": {},
     "output_type": "display_data"
    },
    {
     "data": {
      "text/html": [
       "Syncing run <strong><a href='https://wandb.ai/pinkfloat-berliner-hochschule-f-r-technik/vehicle-cross-encoder/runs/8pm77eo3' target=\"_blank\">5-fold-cv-deberta-30f10c-fold-1</a></strong> to <a href='https://wandb.ai/pinkfloat-berliner-hochschule-f-r-technik/vehicle-cross-encoder' target=\"_blank\">Weights & Biases</a> (<a href='https://wandb.me/developer-guide' target=\"_blank\">docs</a>)<br>"
      ],
      "text/plain": [
       "<IPython.core.display.HTML object>"
      ]
     },
     "metadata": {},
     "output_type": "display_data"
    },
    {
     "data": {
      "text/html": [
       " View project at <a href='https://wandb.ai/pinkfloat-berliner-hochschule-f-r-technik/vehicle-cross-encoder' target=\"_blank\">https://wandb.ai/pinkfloat-berliner-hochschule-f-r-technik/vehicle-cross-encoder</a>"
      ],
      "text/plain": [
       "<IPython.core.display.HTML object>"
      ]
     },
     "metadata": {},
     "output_type": "display_data"
    },
    {
     "data": {
      "text/html": [
       " View run at <a href='https://wandb.ai/pinkfloat-berliner-hochschule-f-r-technik/vehicle-cross-encoder/runs/8pm77eo3' target=\"_blank\">https://wandb.ai/pinkfloat-berliner-hochschule-f-r-technik/vehicle-cross-encoder/runs/8pm77eo3</a>"
      ],
      "text/plain": [
       "<IPython.core.display.HTML object>"
      ]
     },
     "metadata": {},
     "output_type": "display_data"
    },
    {
     "name": "stderr",
     "output_type": "stream",
     "text": [
      "INFO:__main__:Starting training...\n"
     ]
    },
    {
     "data": {
      "text/html": [
       "\n",
       "    <div>\n",
       "      \n",
       "      <progress value='705' max='705' style='width:300px; height:20px; vertical-align: middle;'></progress>\n",
       "      [705/705 03:48, Epoch 3/3]\n",
       "    </div>\n",
       "    <table border=\"1\" class=\"dataframe\">\n",
       "  <thead>\n",
       " <tr style=\"text-align: left;\">\n",
       "      <th>Step</th>\n",
       "      <th>Training Loss</th>\n",
       "      <th>Validation Loss</th>\n",
       "      <th>Accuracy</th>\n",
       "      <th>F1</th>\n",
       "      <th>Precision</th>\n",
       "      <th>Recall</th>\n",
       "    </tr>\n",
       "  </thead>\n",
       "  <tbody>\n",
       "    <tr>\n",
       "      <td>500</td>\n",
       "      <td>0.194200</td>\n",
       "      <td>0.146074</td>\n",
       "      <td>0.951579</td>\n",
       "      <td>0.951782</td>\n",
       "      <td>0.947808</td>\n",
       "      <td>0.955789</td>\n",
       "    </tr>\n",
       "  </tbody>\n",
       "</table><p>"
      ],
      "text/plain": [
       "<IPython.core.display.HTML object>"
      ]
     },
     "metadata": {},
     "output_type": "display_data"
    },
    {
     "name": "stderr",
     "output_type": "stream",
     "text": [
      "INFO:__main__:Evaluating on held-out test set...\n"
     ]
    },
    {
     "data": {
      "text/html": [
       "\n",
       "    <div>\n",
       "      \n",
       "      <progress value='52' max='52' style='width:300px; height:20px; vertical-align: middle;'></progress>\n",
       "      [52/52 00:05]\n",
       "    </div>\n",
       "    "
      ],
      "text/plain": [
       "<IPython.core.display.HTML object>"
      ]
     },
     "metadata": {},
     "output_type": "display_data"
    },
    {
     "name": "stderr",
     "output_type": "stream",
     "text": [
      "INFO:__main__:Fold 1 test results: {'eval_loss': 0.20783278346061707, 'eval_accuracy': 0.9280487804878049, 'eval_f1': 0.9286577992744861, 'eval_precision': 0.9186602870813397, 'eval_recall': 0.9388753056234719, 'eval_runtime': 6.0405, 'eval_samples_per_second': 135.75, 'eval_steps_per_second': 8.609, 'epoch': 3.0}\n"
     ]
    },
    {
     "data": {
      "text/html": [],
      "text/plain": [
       "<IPython.core.display.HTML object>"
      ]
     },
     "metadata": {},
     "output_type": "display_data"
    },
    {
     "data": {
      "text/html": [
       "<br>    <style><br>        .wandb-row {<br>            display: flex;<br>            flex-direction: row;<br>            flex-wrap: wrap;<br>            justify-content: flex-start;<br>            width: 100%;<br>        }<br>        .wandb-col {<br>            display: flex;<br>            flex-direction: column;<br>            flex-basis: 100%;<br>            flex: 1;<br>            padding: 10px;<br>        }<br>    </style><br><div class=\"wandb-row\"><div class=\"wandb-col\"><h3>Run history:</h3><br/><table class=\"wandb\"><tr><td>eval/accuracy</td><td>█▁</td></tr><tr><td>eval/f1</td><td>█▁</td></tr><tr><td>eval/loss</td><td>▁█</td></tr><tr><td>eval/precision</td><td>█▁</td></tr><tr><td>eval/recall</td><td>█▁</td></tr><tr><td>eval/runtime</td><td>█▁</td></tr><tr><td>eval/samples_per_second</td><td>▁█</td></tr><tr><td>eval/steps_per_second</td><td>▁█</td></tr><tr><td>train/epoch</td><td>▁▂▃▄▆▆▇███</td></tr><tr><td>train/global_step</td><td>▁▂▃▄▆▆▇███</td></tr><tr><td>train/grad_norm</td><td>▂▅█▃▄▁▅</td></tr><tr><td>train/learning_rate</td><td>█▇▆▅▃▂▁</td></tr><tr><td>train/loss</td><td>█▄▂▂▂▁▁</td></tr></table><br/></div><div class=\"wandb-col\"><h3>Run summary:</h3><br/><table class=\"wandb\"><tr><td>eval/accuracy</td><td>0.92805</td></tr><tr><td>eval/f1</td><td>0.92866</td></tr><tr><td>eval/loss</td><td>0.20783</td></tr><tr><td>eval/precision</td><td>0.91866</td></tr><tr><td>eval/recall</td><td>0.93888</td></tr><tr><td>eval/runtime</td><td>6.0405</td></tr><tr><td>eval/samples_per_second</td><td>135.75</td></tr><tr><td>eval/steps_per_second</td><td>8.609</td></tr><tr><td>total_flos</td><td>2967945930178560.0</td></tr><tr><td>train/epoch</td><td>3</td></tr><tr><td>train/global_step</td><td>705</td></tr><tr><td>train/grad_norm</td><td>3.5999</td></tr><tr><td>train/learning_rate</td><td>0.0</td></tr><tr><td>train/loss</td><td>0.1385</td></tr><tr><td>train_loss</td><td>0.27578</td></tr><tr><td>train_runtime</td><td>232.3273</td></tr><tr><td>train_samples_per_second</td><td>48.552</td></tr><tr><td>train_steps_per_second</td><td>3.035</td></tr></table><br/></div></div>"
      ],
      "text/plain": [
       "<IPython.core.display.HTML object>"
      ]
     },
     "metadata": {},
     "output_type": "display_data"
    },
    {
     "data": {
      "text/html": [
       " View run <strong style=\"color:#cdcd00\">5-fold-cv-deberta-30f10c-fold-1</strong> at: <a href='https://wandb.ai/pinkfloat-berliner-hochschule-f-r-technik/vehicle-cross-encoder/runs/8pm77eo3' target=\"_blank\">https://wandb.ai/pinkfloat-berliner-hochschule-f-r-technik/vehicle-cross-encoder/runs/8pm77eo3</a><br> View project at: <a href='https://wandb.ai/pinkfloat-berliner-hochschule-f-r-technik/vehicle-cross-encoder' target=\"_blank\">https://wandb.ai/pinkfloat-berliner-hochschule-f-r-technik/vehicle-cross-encoder</a><br>Synced 5 W&B file(s), 0 media file(s), 0 artifact file(s) and 0 other file(s)"
      ],
      "text/plain": [
       "<IPython.core.display.HTML object>"
      ]
     },
     "metadata": {},
     "output_type": "display_data"
    },
    {
     "data": {
      "text/html": [
       "Find logs at: <code>./wandb/run-20250715_205420-8pm77eo3/logs</code>"
      ],
      "text/plain": [
       "<IPython.core.display.HTML object>"
      ]
     },
     "metadata": {},
     "output_type": "display_data"
    },
    {
     "name": "stderr",
     "output_type": "stream",
     "text": [
      "INFO:__main__:\n",
      "====== Fold 2 / 5 ======\n",
      "INFO:__main__:Train size: 3770 | Validation size: 940\n",
      "/storage/venv_h100/lib/python3.11/site-packages/transformers/training_args.py:1474: FutureWarning: `evaluation_strategy` is deprecated and will be removed in version 4.46 of 🤗 Transformers. Use `eval_strategy` instead\n",
      "  warnings.warn(\n"
     ]
    },
    {
     "data": {
      "text/html": [
       "Tracking run with wandb version 0.21.0"
      ],
      "text/plain": [
       "<IPython.core.display.HTML object>"
      ]
     },
     "metadata": {},
     "output_type": "display_data"
    },
    {
     "data": {
      "text/html": [
       "Run data is saved locally in <code>/storage/courses/ds_workflow/car-web-scraping/src/04_training_pipeline/wandb/run-20250715_205824-kyssts52</code>"
      ],
      "text/plain": [
       "<IPython.core.display.HTML object>"
      ]
     },
     "metadata": {},
     "output_type": "display_data"
    },
    {
     "data": {
      "text/html": [
       "Syncing run <strong><a href='https://wandb.ai/pinkfloat-berliner-hochschule-f-r-technik/vehicle-cross-encoder/runs/kyssts52' target=\"_blank\">5-fold-cv-deberta-30f10c-fold-2</a></strong> to <a href='https://wandb.ai/pinkfloat-berliner-hochschule-f-r-technik/vehicle-cross-encoder' target=\"_blank\">Weights & Biases</a> (<a href='https://wandb.me/developer-guide' target=\"_blank\">docs</a>)<br>"
      ],
      "text/plain": [
       "<IPython.core.display.HTML object>"
      ]
     },
     "metadata": {},
     "output_type": "display_data"
    },
    {
     "data": {
      "text/html": [
       " View project at <a href='https://wandb.ai/pinkfloat-berliner-hochschule-f-r-technik/vehicle-cross-encoder' target=\"_blank\">https://wandb.ai/pinkfloat-berliner-hochschule-f-r-technik/vehicle-cross-encoder</a>"
      ],
      "text/plain": [
       "<IPython.core.display.HTML object>"
      ]
     },
     "metadata": {},
     "output_type": "display_data"
    },
    {
     "data": {
      "text/html": [
       " View run at <a href='https://wandb.ai/pinkfloat-berliner-hochschule-f-r-technik/vehicle-cross-encoder/runs/kyssts52' target=\"_blank\">https://wandb.ai/pinkfloat-berliner-hochschule-f-r-technik/vehicle-cross-encoder/runs/kyssts52</a>"
      ],
      "text/plain": [
       "<IPython.core.display.HTML object>"
      ]
     },
     "metadata": {},
     "output_type": "display_data"
    },
    {
     "name": "stderr",
     "output_type": "stream",
     "text": [
      "INFO:__main__:Starting training...\n"
     ]
    },
    {
     "data": {
      "text/html": [
       "\n",
       "    <div>\n",
       "      \n",
       "      <progress value='708' max='708' style='width:300px; height:20px; vertical-align: middle;'></progress>\n",
       "      [708/708 03:48, Epoch 3/3]\n",
       "    </div>\n",
       "    <table border=\"1\" class=\"dataframe\">\n",
       "  <thead>\n",
       " <tr style=\"text-align: left;\">\n",
       "      <th>Step</th>\n",
       "      <th>Training Loss</th>\n",
       "      <th>Validation Loss</th>\n",
       "      <th>Accuracy</th>\n",
       "      <th>F1</th>\n",
       "      <th>Precision</th>\n",
       "      <th>Recall</th>\n",
       "    </tr>\n",
       "  </thead>\n",
       "  <tbody>\n",
       "    <tr>\n",
       "      <td>500</td>\n",
       "      <td>0.112800</td>\n",
       "      <td>0.149785</td>\n",
       "      <td>0.961702</td>\n",
       "      <td>0.961538</td>\n",
       "      <td>0.965665</td>\n",
       "      <td>0.957447</td>\n",
       "    </tr>\n",
       "  </tbody>\n",
       "</table><p>"
      ],
      "text/plain": [
       "<IPython.core.display.HTML object>"
      ]
     },
     "metadata": {},
     "output_type": "display_data"
    },
    {
     "name": "stderr",
     "output_type": "stream",
     "text": [
      "INFO:__main__:Evaluating on held-out test set...\n"
     ]
    },
    {
     "data": {
      "text/html": [
       "\n",
       "    <div>\n",
       "      \n",
       "      <progress value='52' max='52' style='width:300px; height:20px; vertical-align: middle;'></progress>\n",
       "      [52/52 00:05]\n",
       "    </div>\n",
       "    "
      ],
      "text/plain": [
       "<IPython.core.display.HTML object>"
      ]
     },
     "metadata": {},
     "output_type": "display_data"
    },
    {
     "name": "stderr",
     "output_type": "stream",
     "text": [
      "INFO:__main__:Fold 2 test results: {'eval_loss': 0.25025442242622375, 'eval_accuracy': 0.9390243902439024, 'eval_f1': 0.9396135265700483, 'eval_precision': 0.9284009546539379, 'eval_recall': 0.9511002444987775, 'eval_runtime': 5.9874, 'eval_samples_per_second': 136.955, 'eval_steps_per_second': 8.685, 'epoch': 3.0}\n"
     ]
    },
    {
     "data": {
      "text/html": [],
      "text/plain": [
       "<IPython.core.display.HTML object>"
      ]
     },
     "metadata": {},
     "output_type": "display_data"
    },
    {
     "data": {
      "text/html": [
       "<br>    <style><br>        .wandb-row {<br>            display: flex;<br>            flex-direction: row;<br>            flex-wrap: wrap;<br>            justify-content: flex-start;<br>            width: 100%;<br>        }<br>        .wandb-col {<br>            display: flex;<br>            flex-direction: column;<br>            flex-basis: 100%;<br>            flex: 1;<br>            padding: 10px;<br>        }<br>    </style><br><div class=\"wandb-row\"><div class=\"wandb-col\"><h3>Run history:</h3><br/><table class=\"wandb\"><tr><td>eval/accuracy</td><td>█▁</td></tr><tr><td>eval/f1</td><td>█▁</td></tr><tr><td>eval/loss</td><td>▁█</td></tr><tr><td>eval/precision</td><td>█▁</td></tr><tr><td>eval/recall</td><td>█▁</td></tr><tr><td>eval/runtime</td><td>█▁</td></tr><tr><td>eval/samples_per_second</td><td>▁█</td></tr><tr><td>eval/steps_per_second</td><td>▁█</td></tr><tr><td>train/epoch</td><td>▁▂▃▄▆▆▇███</td></tr><tr><td>train/global_step</td><td>▁▂▃▄▆▆▇███</td></tr><tr><td>train/grad_norm</td><td>▂▆▂█▇▆▁</td></tr><tr><td>train/learning_rate</td><td>█▇▆▅▃▂▁</td></tr><tr><td>train/loss</td><td>▅█▅▄▂▂▁</td></tr></table><br/></div><div class=\"wandb-col\"><h3>Run summary:</h3><br/><table class=\"wandb\"><tr><td>eval/accuracy</td><td>0.93902</td></tr><tr><td>eval/f1</td><td>0.93961</td></tr><tr><td>eval/loss</td><td>0.25025</td></tr><tr><td>eval/precision</td><td>0.9284</td></tr><tr><td>eval/recall</td><td>0.9511</td></tr><tr><td>eval/runtime</td><td>5.9874</td></tr><tr><td>eval/samples_per_second</td><td>136.955</td></tr><tr><td>eval/steps_per_second</td><td>8.685</td></tr><tr><td>total_flos</td><td>2975839403397120.0</td></tr><tr><td>train/epoch</td><td>3</td></tr><tr><td>train/global_step</td><td>708</td></tr><tr><td>train/grad_norm</td><td>0.19495</td></tr><tr><td>train/learning_rate</td><td>0.0</td></tr><tr><td>train/loss</td><td>0.1014</td></tr><tr><td>train_loss</td><td>0.14197</td></tr><tr><td>train_runtime</td><td>228.7991</td></tr><tr><td>train_samples_per_second</td><td>49.432</td></tr><tr><td>train_steps_per_second</td><td>3.094</td></tr></table><br/></div></div>"
      ],
      "text/plain": [
       "<IPython.core.display.HTML object>"
      ]
     },
     "metadata": {},
     "output_type": "display_data"
    },
    {
     "data": {
      "text/html": [
       " View run <strong style=\"color:#cdcd00\">5-fold-cv-deberta-30f10c-fold-2</strong> at: <a href='https://wandb.ai/pinkfloat-berliner-hochschule-f-r-technik/vehicle-cross-encoder/runs/kyssts52' target=\"_blank\">https://wandb.ai/pinkfloat-berliner-hochschule-f-r-technik/vehicle-cross-encoder/runs/kyssts52</a><br> View project at: <a href='https://wandb.ai/pinkfloat-berliner-hochschule-f-r-technik/vehicle-cross-encoder' target=\"_blank\">https://wandb.ai/pinkfloat-berliner-hochschule-f-r-technik/vehicle-cross-encoder</a><br>Synced 5 W&B file(s), 0 media file(s), 0 artifact file(s) and 0 other file(s)"
      ],
      "text/plain": [
       "<IPython.core.display.HTML object>"
      ]
     },
     "metadata": {},
     "output_type": "display_data"
    },
    {
     "data": {
      "text/html": [
       "Find logs at: <code>./wandb/run-20250715_205824-kyssts52/logs</code>"
      ],
      "text/plain": [
       "<IPython.core.display.HTML object>"
      ]
     },
     "metadata": {},
     "output_type": "display_data"
    },
    {
     "name": "stderr",
     "output_type": "stream",
     "text": [
      "INFO:__main__:\n",
      "====== Fold 3 / 5 ======\n",
      "INFO:__main__:Train size: 3770 | Validation size: 940\n",
      "/storage/venv_h100/lib/python3.11/site-packages/transformers/training_args.py:1474: FutureWarning: `evaluation_strategy` is deprecated and will be removed in version 4.46 of 🤗 Transformers. Use `eval_strategy` instead\n",
      "  warnings.warn(\n"
     ]
    },
    {
     "data": {
      "text/html": [
       "Tracking run with wandb version 0.21.0"
      ],
      "text/plain": [
       "<IPython.core.display.HTML object>"
      ]
     },
     "metadata": {},
     "output_type": "display_data"
    },
    {
     "data": {
      "text/html": [
       "Run data is saved locally in <code>/storage/courses/ds_workflow/car-web-scraping/src/04_training_pipeline/wandb/run-20250715_210221-sjpdcx9j</code>"
      ],
      "text/plain": [
       "<IPython.core.display.HTML object>"
      ]
     },
     "metadata": {},
     "output_type": "display_data"
    },
    {
     "data": {
      "text/html": [
       "Syncing run <strong><a href='https://wandb.ai/pinkfloat-berliner-hochschule-f-r-technik/vehicle-cross-encoder/runs/sjpdcx9j' target=\"_blank\">5-fold-cv-deberta-30f10c-fold-3</a></strong> to <a href='https://wandb.ai/pinkfloat-berliner-hochschule-f-r-technik/vehicle-cross-encoder' target=\"_blank\">Weights & Biases</a> (<a href='https://wandb.me/developer-guide' target=\"_blank\">docs</a>)<br>"
      ],
      "text/plain": [
       "<IPython.core.display.HTML object>"
      ]
     },
     "metadata": {},
     "output_type": "display_data"
    },
    {
     "data": {
      "text/html": [
       " View project at <a href='https://wandb.ai/pinkfloat-berliner-hochschule-f-r-technik/vehicle-cross-encoder' target=\"_blank\">https://wandb.ai/pinkfloat-berliner-hochschule-f-r-technik/vehicle-cross-encoder</a>"
      ],
      "text/plain": [
       "<IPython.core.display.HTML object>"
      ]
     },
     "metadata": {},
     "output_type": "display_data"
    },
    {
     "data": {
      "text/html": [
       " View run at <a href='https://wandb.ai/pinkfloat-berliner-hochschule-f-r-technik/vehicle-cross-encoder/runs/sjpdcx9j' target=\"_blank\">https://wandb.ai/pinkfloat-berliner-hochschule-f-r-technik/vehicle-cross-encoder/runs/sjpdcx9j</a>"
      ],
      "text/plain": [
       "<IPython.core.display.HTML object>"
      ]
     },
     "metadata": {},
     "output_type": "display_data"
    },
    {
     "name": "stderr",
     "output_type": "stream",
     "text": [
      "INFO:__main__:Starting training...\n"
     ]
    },
    {
     "data": {
      "text/html": [
       "\n",
       "    <div>\n",
       "      \n",
       "      <progress value='708' max='708' style='width:300px; height:20px; vertical-align: middle;'></progress>\n",
       "      [708/708 03:48, Epoch 3/3]\n",
       "    </div>\n",
       "    <table border=\"1\" class=\"dataframe\">\n",
       "  <thead>\n",
       " <tr style=\"text-align: left;\">\n",
       "      <th>Step</th>\n",
       "      <th>Training Loss</th>\n",
       "      <th>Validation Loss</th>\n",
       "      <th>Accuracy</th>\n",
       "      <th>F1</th>\n",
       "      <th>Precision</th>\n",
       "      <th>Recall</th>\n",
       "    </tr>\n",
       "  </thead>\n",
       "  <tbody>\n",
       "    <tr>\n",
       "      <td>500</td>\n",
       "      <td>0.092900</td>\n",
       "      <td>0.124642</td>\n",
       "      <td>0.969149</td>\n",
       "      <td>0.969506</td>\n",
       "      <td>0.958420</td>\n",
       "      <td>0.980851</td>\n",
       "    </tr>\n",
       "  </tbody>\n",
       "</table><p>"
      ],
      "text/plain": [
       "<IPython.core.display.HTML object>"
      ]
     },
     "metadata": {},
     "output_type": "display_data"
    },
    {
     "name": "stderr",
     "output_type": "stream",
     "text": [
      "INFO:__main__:Evaluating on held-out test set...\n"
     ]
    },
    {
     "data": {
      "text/html": [
       "\n",
       "    <div>\n",
       "      \n",
       "      <progress value='52' max='52' style='width:300px; height:20px; vertical-align: middle;'></progress>\n",
       "      [52/52 00:05]\n",
       "    </div>\n",
       "    "
      ],
      "text/plain": [
       "<IPython.core.display.HTML object>"
      ]
     },
     "metadata": {},
     "output_type": "display_data"
    },
    {
     "name": "stderr",
     "output_type": "stream",
     "text": [
      "INFO:__main__:Fold 3 test results: {'eval_loss': 0.21820294857025146, 'eval_accuracy': 0.9524390243902439, 'eval_f1': 0.9531812725090036, 'eval_precision': 0.9363207547169812, 'eval_recall': 0.9706601466992665, 'eval_runtime': 5.9758, 'eval_samples_per_second': 137.22, 'eval_steps_per_second': 8.702, 'epoch': 3.0}\n"
     ]
    },
    {
     "data": {
      "text/html": [],
      "text/plain": [
       "<IPython.core.display.HTML object>"
      ]
     },
     "metadata": {},
     "output_type": "display_data"
    },
    {
     "data": {
      "text/html": [
       "<br>    <style><br>        .wandb-row {<br>            display: flex;<br>            flex-direction: row;<br>            flex-wrap: wrap;<br>            justify-content: flex-start;<br>            width: 100%;<br>        }<br>        .wandb-col {<br>            display: flex;<br>            flex-direction: column;<br>            flex-basis: 100%;<br>            flex: 1;<br>            padding: 10px;<br>        }<br>    </style><br><div class=\"wandb-row\"><div class=\"wandb-col\"><h3>Run history:</h3><br/><table class=\"wandb\"><tr><td>eval/accuracy</td><td>█▁</td></tr><tr><td>eval/f1</td><td>█▁</td></tr><tr><td>eval/loss</td><td>▁█</td></tr><tr><td>eval/precision</td><td>█▁</td></tr><tr><td>eval/recall</td><td>█▁</td></tr><tr><td>eval/runtime</td><td>█▁</td></tr><tr><td>eval/samples_per_second</td><td>▁█</td></tr><tr><td>eval/steps_per_second</td><td>▁█</td></tr><tr><td>train/epoch</td><td>▁▂▃▄▆▆▇███</td></tr><tr><td>train/global_step</td><td>▁▂▃▄▆▆▇███</td></tr><tr><td>train/grad_norm</td><td>▄▄▁█▁▁▁</td></tr><tr><td>train/learning_rate</td><td>█▇▆▅▃▂▁</td></tr><tr><td>train/loss</td><td>▆█▇▅▄▁▂</td></tr></table><br/></div><div class=\"wandb-col\"><h3>Run summary:</h3><br/><table class=\"wandb\"><tr><td>eval/accuracy</td><td>0.95244</td></tr><tr><td>eval/f1</td><td>0.95318</td></tr><tr><td>eval/loss</td><td>0.2182</td></tr><tr><td>eval/precision</td><td>0.93632</td></tr><tr><td>eval/recall</td><td>0.97066</td></tr><tr><td>eval/runtime</td><td>5.9758</td></tr><tr><td>eval/samples_per_second</td><td>137.22</td></tr><tr><td>eval/steps_per_second</td><td>8.702</td></tr><tr><td>total_flos</td><td>2975839403397120.0</td></tr><tr><td>train/epoch</td><td>3</td></tr><tr><td>train/global_step</td><td>708</td></tr><tr><td>train/grad_norm</td><td>0.17747</td></tr><tr><td>train/learning_rate</td><td>0.0</td></tr><tr><td>train/loss</td><td>0.076</td></tr><tr><td>train_loss</td><td>0.10245</td></tr><tr><td>train_runtime</td><td>228.3732</td></tr><tr><td>train_samples_per_second</td><td>49.524</td></tr><tr><td>train_steps_per_second</td><td>3.1</td></tr></table><br/></div></div>"
      ],
      "text/plain": [
       "<IPython.core.display.HTML object>"
      ]
     },
     "metadata": {},
     "output_type": "display_data"
    },
    {
     "data": {
      "text/html": [
       " View run <strong style=\"color:#cdcd00\">5-fold-cv-deberta-30f10c-fold-3</strong> at: <a href='https://wandb.ai/pinkfloat-berliner-hochschule-f-r-technik/vehicle-cross-encoder/runs/sjpdcx9j' target=\"_blank\">https://wandb.ai/pinkfloat-berliner-hochschule-f-r-technik/vehicle-cross-encoder/runs/sjpdcx9j</a><br> View project at: <a href='https://wandb.ai/pinkfloat-berliner-hochschule-f-r-technik/vehicle-cross-encoder' target=\"_blank\">https://wandb.ai/pinkfloat-berliner-hochschule-f-r-technik/vehicle-cross-encoder</a><br>Synced 5 W&B file(s), 0 media file(s), 0 artifact file(s) and 0 other file(s)"
      ],
      "text/plain": [
       "<IPython.core.display.HTML object>"
      ]
     },
     "metadata": {},
     "output_type": "display_data"
    },
    {
     "data": {
      "text/html": [
       "Find logs at: <code>./wandb/run-20250715_210221-sjpdcx9j/logs</code>"
      ],
      "text/plain": [
       "<IPython.core.display.HTML object>"
      ]
     },
     "metadata": {},
     "output_type": "display_data"
    },
    {
     "name": "stderr",
     "output_type": "stream",
     "text": [
      "INFO:__main__:\n",
      "====== Fold 4 / 5 ======\n",
      "INFO:__main__:Train size: 3770 | Validation size: 940\n",
      "/storage/venv_h100/lib/python3.11/site-packages/transformers/training_args.py:1474: FutureWarning: `evaluation_strategy` is deprecated and will be removed in version 4.46 of 🤗 Transformers. Use `eval_strategy` instead\n",
      "  warnings.warn(\n"
     ]
    },
    {
     "data": {
      "text/html": [
       "Tracking run with wandb version 0.21.0"
      ],
      "text/plain": [
       "<IPython.core.display.HTML object>"
      ]
     },
     "metadata": {},
     "output_type": "display_data"
    },
    {
     "data": {
      "text/html": [
       "Run data is saved locally in <code>/storage/courses/ds_workflow/car-web-scraping/src/04_training_pipeline/wandb/run-20250715_210619-cpi99h3m</code>"
      ],
      "text/plain": [
       "<IPython.core.display.HTML object>"
      ]
     },
     "metadata": {},
     "output_type": "display_data"
    },
    {
     "data": {
      "text/html": [
       "Syncing run <strong><a href='https://wandb.ai/pinkfloat-berliner-hochschule-f-r-technik/vehicle-cross-encoder/runs/cpi99h3m' target=\"_blank\">5-fold-cv-deberta-30f10c-fold-4</a></strong> to <a href='https://wandb.ai/pinkfloat-berliner-hochschule-f-r-technik/vehicle-cross-encoder' target=\"_blank\">Weights & Biases</a> (<a href='https://wandb.me/developer-guide' target=\"_blank\">docs</a>)<br>"
      ],
      "text/plain": [
       "<IPython.core.display.HTML object>"
      ]
     },
     "metadata": {},
     "output_type": "display_data"
    },
    {
     "data": {
      "text/html": [
       " View project at <a href='https://wandb.ai/pinkfloat-berliner-hochschule-f-r-technik/vehicle-cross-encoder' target=\"_blank\">https://wandb.ai/pinkfloat-berliner-hochschule-f-r-technik/vehicle-cross-encoder</a>"
      ],
      "text/plain": [
       "<IPython.core.display.HTML object>"
      ]
     },
     "metadata": {},
     "output_type": "display_data"
    },
    {
     "data": {
      "text/html": [
       " View run at <a href='https://wandb.ai/pinkfloat-berliner-hochschule-f-r-technik/vehicle-cross-encoder/runs/cpi99h3m' target=\"_blank\">https://wandb.ai/pinkfloat-berliner-hochschule-f-r-technik/vehicle-cross-encoder/runs/cpi99h3m</a>"
      ],
      "text/plain": [
       "<IPython.core.display.HTML object>"
      ]
     },
     "metadata": {},
     "output_type": "display_data"
    },
    {
     "name": "stderr",
     "output_type": "stream",
     "text": [
      "INFO:__main__:Starting training...\n"
     ]
    },
    {
     "data": {
      "text/html": [
       "\n",
       "    <div>\n",
       "      \n",
       "      <progress value='708' max='708' style='width:300px; height:20px; vertical-align: middle;'></progress>\n",
       "      [708/708 03:48, Epoch 3/3]\n",
       "    </div>\n",
       "    <table border=\"1\" class=\"dataframe\">\n",
       "  <thead>\n",
       " <tr style=\"text-align: left;\">\n",
       "      <th>Step</th>\n",
       "      <th>Training Loss</th>\n",
       "      <th>Validation Loss</th>\n",
       "      <th>Accuracy</th>\n",
       "      <th>F1</th>\n",
       "      <th>Precision</th>\n",
       "      <th>Recall</th>\n",
       "    </tr>\n",
       "  </thead>\n",
       "  <tbody>\n",
       "    <tr>\n",
       "      <td>500</td>\n",
       "      <td>0.079300</td>\n",
       "      <td>0.144886</td>\n",
       "      <td>0.965957</td>\n",
       "      <td>0.966805</td>\n",
       "      <td>0.941414</td>\n",
       "      <td>0.993603</td>\n",
       "    </tr>\n",
       "  </tbody>\n",
       "</table><p>"
      ],
      "text/plain": [
       "<IPython.core.display.HTML object>"
      ]
     },
     "metadata": {},
     "output_type": "display_data"
    },
    {
     "name": "stderr",
     "output_type": "stream",
     "text": [
      "INFO:__main__:Evaluating on held-out test set...\n"
     ]
    },
    {
     "data": {
      "text/html": [
       "\n",
       "    <div>\n",
       "      \n",
       "      <progress value='52' max='52' style='width:300px; height:20px; vertical-align: middle;'></progress>\n",
       "      [52/52 00:05]\n",
       "    </div>\n",
       "    "
      ],
      "text/plain": [
       "<IPython.core.display.HTML object>"
      ]
     },
     "metadata": {},
     "output_type": "display_data"
    },
    {
     "name": "stderr",
     "output_type": "stream",
     "text": [
      "INFO:__main__:Fold 4 test results: {'eval_loss': 0.24107877910137177, 'eval_accuracy': 0.95, 'eval_f1': 0.9512485136741974, 'eval_precision': 0.9259259259259259, 'eval_recall': 0.9779951100244498, 'eval_runtime': 5.9944, 'eval_samples_per_second': 136.794, 'eval_steps_per_second': 8.675, 'epoch': 3.0}\n"
     ]
    },
    {
     "data": {
      "text/html": [],
      "text/plain": [
       "<IPython.core.display.HTML object>"
      ]
     },
     "metadata": {},
     "output_type": "display_data"
    },
    {
     "data": {
      "text/html": [
       "<br>    <style><br>        .wandb-row {<br>            display: flex;<br>            flex-direction: row;<br>            flex-wrap: wrap;<br>            justify-content: flex-start;<br>            width: 100%;<br>        }<br>        .wandb-col {<br>            display: flex;<br>            flex-direction: column;<br>            flex-basis: 100%;<br>            flex: 1;<br>            padding: 10px;<br>        }<br>    </style><br><div class=\"wandb-row\"><div class=\"wandb-col\"><h3>Run history:</h3><br/><table class=\"wandb\"><tr><td>eval/accuracy</td><td>█▁</td></tr><tr><td>eval/f1</td><td>█▁</td></tr><tr><td>eval/loss</td><td>▁█</td></tr><tr><td>eval/precision</td><td>█▁</td></tr><tr><td>eval/recall</td><td>█▁</td></tr><tr><td>eval/runtime</td><td>█▁</td></tr><tr><td>eval/samples_per_second</td><td>▁█</td></tr><tr><td>eval/steps_per_second</td><td>▁█</td></tr><tr><td>train/epoch</td><td>▁▂▃▄▆▆▇███</td></tr><tr><td>train/global_step</td><td>▁▂▃▄▆▆▇███</td></tr><tr><td>train/grad_norm</td><td>▁█▇▁▁▁█</td></tr><tr><td>train/learning_rate</td><td>█▇▆▅▃▂▁</td></tr><tr><td>train/loss</td><td>▃█▅▂▄▁▂</td></tr></table><br/></div><div class=\"wandb-col\"><h3>Run summary:</h3><br/><table class=\"wandb\"><tr><td>eval/accuracy</td><td>0.95</td></tr><tr><td>eval/f1</td><td>0.95125</td></tr><tr><td>eval/loss</td><td>0.24108</td></tr><tr><td>eval/precision</td><td>0.92593</td></tr><tr><td>eval/recall</td><td>0.978</td></tr><tr><td>eval/runtime</td><td>5.9944</td></tr><tr><td>eval/samples_per_second</td><td>136.794</td></tr><tr><td>eval/steps_per_second</td><td>8.675</td></tr><tr><td>total_flos</td><td>2975839403397120.0</td></tr><tr><td>train/epoch</td><td>3</td></tr><tr><td>train/global_step</td><td>708</td></tr><tr><td>train/grad_norm</td><td>9.44226</td></tr><tr><td>train/learning_rate</td><td>0.0</td></tr><tr><td>train/loss</td><td>0.0587</td></tr><tr><td>train_loss</td><td>0.07659</td></tr><tr><td>train_runtime</td><td>228.9686</td></tr><tr><td>train_samples_per_second</td><td>49.395</td></tr><tr><td>train_steps_per_second</td><td>3.092</td></tr></table><br/></div></div>"
      ],
      "text/plain": [
       "<IPython.core.display.HTML object>"
      ]
     },
     "metadata": {},
     "output_type": "display_data"
    },
    {
     "data": {
      "text/html": [
       " View run <strong style=\"color:#cdcd00\">5-fold-cv-deberta-30f10c-fold-4</strong> at: <a href='https://wandb.ai/pinkfloat-berliner-hochschule-f-r-technik/vehicle-cross-encoder/runs/cpi99h3m' target=\"_blank\">https://wandb.ai/pinkfloat-berliner-hochschule-f-r-technik/vehicle-cross-encoder/runs/cpi99h3m</a><br> View project at: <a href='https://wandb.ai/pinkfloat-berliner-hochschule-f-r-technik/vehicle-cross-encoder' target=\"_blank\">https://wandb.ai/pinkfloat-berliner-hochschule-f-r-technik/vehicle-cross-encoder</a><br>Synced 5 W&B file(s), 0 media file(s), 0 artifact file(s) and 0 other file(s)"
      ],
      "text/plain": [
       "<IPython.core.display.HTML object>"
      ]
     },
     "metadata": {},
     "output_type": "display_data"
    },
    {
     "data": {
      "text/html": [
       "Find logs at: <code>./wandb/run-20250715_210619-cpi99h3m/logs</code>"
      ],
      "text/plain": [
       "<IPython.core.display.HTML object>"
      ]
     },
     "metadata": {},
     "output_type": "display_data"
    },
    {
     "name": "stderr",
     "output_type": "stream",
     "text": [
      "INFO:__main__:\n",
      "====== Fold 5 / 5 ======\n",
      "INFO:__main__:Train size: 3770 | Validation size: 940\n",
      "/storage/venv_h100/lib/python3.11/site-packages/transformers/training_args.py:1474: FutureWarning: `evaluation_strategy` is deprecated and will be removed in version 4.46 of 🤗 Transformers. Use `eval_strategy` instead\n",
      "  warnings.warn(\n"
     ]
    },
    {
     "data": {
      "text/html": [
       "Tracking run with wandb version 0.21.0"
      ],
      "text/plain": [
       "<IPython.core.display.HTML object>"
      ]
     },
     "metadata": {},
     "output_type": "display_data"
    },
    {
     "data": {
      "text/html": [
       "Run data is saved locally in <code>/storage/courses/ds_workflow/car-web-scraping/src/04_training_pipeline/wandb/run-20250715_211017-s91e6wg1</code>"
      ],
      "text/plain": [
       "<IPython.core.display.HTML object>"
      ]
     },
     "metadata": {},
     "output_type": "display_data"
    },
    {
     "data": {
      "text/html": [
       "Syncing run <strong><a href='https://wandb.ai/pinkfloat-berliner-hochschule-f-r-technik/vehicle-cross-encoder/runs/s91e6wg1' target=\"_blank\">5-fold-cv-deberta-30f10c-fold-5</a></strong> to <a href='https://wandb.ai/pinkfloat-berliner-hochschule-f-r-technik/vehicle-cross-encoder' target=\"_blank\">Weights & Biases</a> (<a href='https://wandb.me/developer-guide' target=\"_blank\">docs</a>)<br>"
      ],
      "text/plain": [
       "<IPython.core.display.HTML object>"
      ]
     },
     "metadata": {},
     "output_type": "display_data"
    },
    {
     "data": {
      "text/html": [
       " View project at <a href='https://wandb.ai/pinkfloat-berliner-hochschule-f-r-technik/vehicle-cross-encoder' target=\"_blank\">https://wandb.ai/pinkfloat-berliner-hochschule-f-r-technik/vehicle-cross-encoder</a>"
      ],
      "text/plain": [
       "<IPython.core.display.HTML object>"
      ]
     },
     "metadata": {},
     "output_type": "display_data"
    },
    {
     "data": {
      "text/html": [
       " View run at <a href='https://wandb.ai/pinkfloat-berliner-hochschule-f-r-technik/vehicle-cross-encoder/runs/s91e6wg1' target=\"_blank\">https://wandb.ai/pinkfloat-berliner-hochschule-f-r-technik/vehicle-cross-encoder/runs/s91e6wg1</a>"
      ],
      "text/plain": [
       "<IPython.core.display.HTML object>"
      ]
     },
     "metadata": {},
     "output_type": "display_data"
    },
    {
     "name": "stderr",
     "output_type": "stream",
     "text": [
      "INFO:__main__:Starting training...\n"
     ]
    },
    {
     "data": {
      "text/html": [
       "\n",
       "    <div>\n",
       "      \n",
       "      <progress value='708' max='708' style='width:300px; height:20px; vertical-align: middle;'></progress>\n",
       "      [708/708 03:48, Epoch 3/3]\n",
       "    </div>\n",
       "    <table border=\"1\" class=\"dataframe\">\n",
       "  <thead>\n",
       " <tr style=\"text-align: left;\">\n",
       "      <th>Step</th>\n",
       "      <th>Training Loss</th>\n",
       "      <th>Validation Loss</th>\n",
       "      <th>Accuracy</th>\n",
       "      <th>F1</th>\n",
       "      <th>Precision</th>\n",
       "      <th>Recall</th>\n",
       "    </tr>\n",
       "  </thead>\n",
       "  <tbody>\n",
       "    <tr>\n",
       "      <td>500</td>\n",
       "      <td>0.066500</td>\n",
       "      <td>0.059263</td>\n",
       "      <td>0.988298</td>\n",
       "      <td>0.988360</td>\n",
       "      <td>0.983158</td>\n",
       "      <td>0.993617</td>\n",
       "    </tr>\n",
       "  </tbody>\n",
       "</table><p>"
      ],
      "text/plain": [
       "<IPython.core.display.HTML object>"
      ]
     },
     "metadata": {},
     "output_type": "display_data"
    },
    {
     "name": "stderr",
     "output_type": "stream",
     "text": [
      "INFO:__main__:Evaluating on held-out test set...\n"
     ]
    },
    {
     "data": {
      "text/html": [
       "\n",
       "    <div>\n",
       "      \n",
       "      <progress value='52' max='52' style='width:300px; height:20px; vertical-align: middle;'></progress>\n",
       "      [52/52 00:05]\n",
       "    </div>\n",
       "    "
      ],
      "text/plain": [
       "<IPython.core.display.HTML object>"
      ]
     },
     "metadata": {},
     "output_type": "display_data"
    },
    {
     "name": "stderr",
     "output_type": "stream",
     "text": [
      "INFO:__main__:Fold 5 test results: {'eval_loss': 0.24021273851394653, 'eval_accuracy': 0.9536585365853658, 'eval_f1': 0.9549763033175356, 'eval_precision': 0.9264367816091954, 'eval_recall': 0.9853300733496333, 'eval_runtime': 5.9927, 'eval_samples_per_second': 136.833, 'eval_steps_per_second': 8.677, 'epoch': 3.0}\n"
     ]
    },
    {
     "data": {
      "text/html": [],
      "text/plain": [
       "<IPython.core.display.HTML object>"
      ]
     },
     "metadata": {},
     "output_type": "display_data"
    },
    {
     "data": {
      "text/html": [
       "<br>    <style><br>        .wandb-row {<br>            display: flex;<br>            flex-direction: row;<br>            flex-wrap: wrap;<br>            justify-content: flex-start;<br>            width: 100%;<br>        }<br>        .wandb-col {<br>            display: flex;<br>            flex-direction: column;<br>            flex-basis: 100%;<br>            flex: 1;<br>            padding: 10px;<br>        }<br>    </style><br><div class=\"wandb-row\"><div class=\"wandb-col\"><h3>Run history:</h3><br/><table class=\"wandb\"><tr><td>eval/accuracy</td><td>█▁</td></tr><tr><td>eval/f1</td><td>█▁</td></tr><tr><td>eval/loss</td><td>▁█</td></tr><tr><td>eval/precision</td><td>█▁</td></tr><tr><td>eval/recall</td><td>█▁</td></tr><tr><td>eval/runtime</td><td>█▁</td></tr><tr><td>eval/samples_per_second</td><td>▁█</td></tr><tr><td>eval/steps_per_second</td><td>▁█</td></tr><tr><td>train/epoch</td><td>▁▂▃▄▆▆▇███</td></tr><tr><td>train/global_step</td><td>▁▂▃▄▆▆▇███</td></tr><tr><td>train/grad_norm</td><td>█▂▁▂▁▁▁</td></tr><tr><td>train/learning_rate</td><td>█▇▆▅▃▂▁</td></tr><tr><td>train/loss</td><td>▄█▆▂▃▂▁</td></tr></table><br/></div><div class=\"wandb-col\"><h3>Run summary:</h3><br/><table class=\"wandb\"><tr><td>eval/accuracy</td><td>0.95366</td></tr><tr><td>eval/f1</td><td>0.95498</td></tr><tr><td>eval/loss</td><td>0.24021</td></tr><tr><td>eval/precision</td><td>0.92644</td></tr><tr><td>eval/recall</td><td>0.98533</td></tr><tr><td>eval/runtime</td><td>5.9927</td></tr><tr><td>eval/samples_per_second</td><td>136.833</td></tr><tr><td>eval/steps_per_second</td><td>8.677</td></tr><tr><td>total_flos</td><td>2975839403397120.0</td></tr><tr><td>train/epoch</td><td>3</td></tr><tr><td>train/global_step</td><td>708</td></tr><tr><td>train/grad_norm</td><td>0.83881</td></tr><tr><td>train/learning_rate</td><td>0.0</td></tr><tr><td>train/loss</td><td>0.0509</td></tr><tr><td>train_loss</td><td>0.07102</td></tr><tr><td>train_runtime</td><td>228.789</td></tr><tr><td>train_samples_per_second</td><td>49.434</td></tr><tr><td>train_steps_per_second</td><td>3.095</td></tr></table><br/></div></div>"
      ],
      "text/plain": [
       "<IPython.core.display.HTML object>"
      ]
     },
     "metadata": {},
     "output_type": "display_data"
    },
    {
     "data": {
      "text/html": [
       " View run <strong style=\"color:#cdcd00\">5-fold-cv-deberta-30f10c-fold-5</strong> at: <a href='https://wandb.ai/pinkfloat-berliner-hochschule-f-r-technik/vehicle-cross-encoder/runs/s91e6wg1' target=\"_blank\">https://wandb.ai/pinkfloat-berliner-hochschule-f-r-technik/vehicle-cross-encoder/runs/s91e6wg1</a><br> View project at: <a href='https://wandb.ai/pinkfloat-berliner-hochschule-f-r-technik/vehicle-cross-encoder' target=\"_blank\">https://wandb.ai/pinkfloat-berliner-hochschule-f-r-technik/vehicle-cross-encoder</a><br>Synced 5 W&B file(s), 0 media file(s), 0 artifact file(s) and 0 other file(s)"
      ],
      "text/plain": [
       "<IPython.core.display.HTML object>"
      ]
     },
     "metadata": {},
     "output_type": "display_data"
    },
    {
     "data": {
      "text/html": [
       "Find logs at: <code>./wandb/run-20250715_211017-s91e6wg1/logs</code>"
      ],
      "text/plain": [
       "<IPython.core.display.HTML object>"
      ]
     },
     "metadata": {},
     "output_type": "display_data"
    },
    {
     "name": "stderr",
     "output_type": "stream",
     "text": [
      "INFO:__main__:All folds completed.\n"
     ]
    }
   ],
   "source": [
    "# Initialize model\n",
    "cross_encoder.initialize_model()\n",
    "\n",
    "# Train the model\n",
    "test_results = cross_encoder.train(test_pairs, folds)"
   ]
  },
  {
   "cell_type": "markdown",
   "id": "64e1d662",
   "metadata": {},
   "source": [
    "#### Test the Model using ensemble methods"
   ]
  },
  {
   "cell_type": "code",
   "execution_count": 10,
   "id": "acce53c3",
   "metadata": {},
   "outputs": [],
   "source": [
    "def evaluate_ensemble_from_folds(test_pairs, threshold=0.5, num_folds: int = 5, device=None):\n",
    "    \"\"\"Load models from fold directories and evaluate ensemble on the test set.\"\"\"\n",
    "    if device is None:\n",
    "        device = 'cuda' if torch.cuda.is_available() else 'cpu'\n",
    "\n",
    "    # Load tokenizer from any fold (assume same tokenizer for all)\n",
    "    fold_dirs = [\n",
    "        os.path.join(config.output_dir, f\"fold_{i + 1}\")\n",
    "        for i in range(num_folds)\n",
    "    ]\n",
    "\n",
    "    tokenizer = AutoTokenizer.from_pretrained(fold_dirs[0])\n",
    "    models = []\n",
    "    for fold_dir in fold_dirs:\n",
    "        model = AutoModelForSequenceClassification.from_pretrained(fold_dir)\n",
    "        model.to(device)\n",
    "        model.eval()\n",
    "        models.append(model)\n",
    "\n",
    "    # Ensemble prediction\n",
    "    y_true, y_pred, y_prob = [], [], []\n",
    "\n",
    "    for query, vehicle_text, label in test_pairs:\n",
    "        encoding = tokenizer(query, vehicle_text, truncation=True, padding='max_length',\n",
    "                            max_length=512, return_tensors='pt').to(device)\n",
    "        probs = []\n",
    "        with torch.no_grad():\n",
    "            for model in models:\n",
    "                output = model(**encoding)\n",
    "                prob = torch.nn.functional.softmax(output.logits, dim=-1)[0][1].item()\n",
    "                probs.append(prob)\n",
    "        avg_prob = sum(probs) / len(probs)\n",
    "        prediction = int(avg_prob >= threshold)\n",
    "\n",
    "        y_true.append(label)\n",
    "        y_pred.append(prediction)\n",
    "        y_prob.append(avg_prob)\n",
    "\n",
    "    # Compute metrics\n",
    "    metrics = {\n",
    "        'accuracy': accuracy_score(y_true, y_pred),\n",
    "        'precision': precision_score(y_true, y_pred),\n",
    "        'recall': recall_score(y_true, y_pred),\n",
    "        'f1': f1_score(y_true, y_pred)\n",
    "    }\n",
    "\n",
    "    # Log\n",
    "    print(\"\\n=== Final Ensemble Metrics on Held-out Test Set ===\")\n",
    "    for k, v in metrics.items():\n",
    "        print(f\"{k.capitalize()}: {v:.4f}\")\n",
    "\n",
    "    return metrics, y_true, y_pred, y_prob"
   ]
  },
  {
   "cell_type": "code",
   "execution_count": 11,
   "id": "2b506361",
   "metadata": {},
   "outputs": [
    {
     "name": "stdout",
     "output_type": "stream",
     "text": [
      "\n",
      "=== Final Ensemble Metrics on Held-out Test Set ===\n",
      "Accuracy: 0.9549\n",
      "Precision: 0.9346\n",
      "Recall: 0.9780\n",
      "F1: 0.9558\n"
     ]
    }
   ],
   "source": [
    "metrics, y_true, y_pred, y_prob = evaluate_ensemble_from_folds(test_pairs)"
   ]
  },
  {
   "cell_type": "code",
   "execution_count": 12,
   "id": "fb6f2bab",
   "metadata": {},
   "outputs": [
    {
     "name": "stdout",
     "output_type": "stream",
     "text": [
      "\n",
      "=== Ensemble Predictions on 10 Random Test Examples ===\n",
      "\n",
      "[1]\n",
      "True Label:         Match\n",
      "Predicted Label:    Match\n",
      "Avg Match Prob:     0.9841\n",
      "Individual Probs:   ['0.9503', '0.9825', '0.9927', '0.9965', '0.9986']\n",
      "Query:              Seeking a car with less than 50,000 kilometres on the clock, equipped with a head-up display, cruise control, and rain sensor. Does it have a parking assistant and servotronic as well?\n",
      "Vehicle Text:       Category: Estate, 5 door | Colour: black Metallic | Colour name: Black Sapphire Metallic | Emission class: EURO 6d | Engine type: Otto | First registration: 06.2022 | Fuel type: Petrol | Location: D-47 | Power output: 135 KW / 184 PS | Read mileage: 43,700 Kilometres | Supplier: Subsidiary/authorised dealer of the brand(s): BMW | Total number of owners: 1 Owner | Transmission: Automatic | Vehicle release: Release of the vehicle will take place at the earliest 10 working days following receipt of payment. | ABS | Alarm system | Autobeam | Automatic dimming internal mirror | Climatronic | Cruise control | Electric windows front and rear | Head-up display | Induction charger for Smartphones | Leather steering wheel | LED headlights | Multi-function steering wheel | Navigation (ex works) | On-board computer | Radio, DAB | Rain sensor | Remote central locking | Roof rails | Servotronic | Side mirror electrically adjustable | Sound system | Stability program Direct traction Control (DTC) | Start/stop system | Trailer coupling fixed | Tyre Pressure Indicator TPI | LMR V-Speiche 684 8J x 18´\n",
      "Parking Assistant\n",
      "Lazing: sun protection glazing\n",
      "----------------------------------------------------------------------------------------------------\n",
      "[2]\n",
      "True Label:         Match\n",
      "Predicted Label:    Match\n",
      "Avg Match Prob:     0.9923\n",
      "Individual Probs:   ['0.9797', '0.9918', '0.9945', '0.9974', '0.9979']\n",
      "Query:              Seeking a white, 4-door estate vehicle with automatic transmission and a Diesel Mildhybrid engine. The car should have a tyre pressure indicator and a rain sensor. Is the vehicle newer than 2021 and has it less than 155,000 kilometres?\n",
      "Vehicle Text:       Category: Estate, 4 door | Colour: white | Colour name: ibisweiß | Emission class: EURO 6d-Temp | Engine type: Diesel | First registration: 02.2022 | Fuel type: Diesel Mildhybrid | Location: D-32 | Power output: 120 KW / 163 PS | Read mileage: 145,200 Kilometres | Supplier: Subsidiary/authorised dealer of the brand(s): Audi, VW | Total number of owners: 1 Owner | Transmission: Automatic | Vehicle release: Release of the vehicle will take place at the earliest 5 working days following receipt of payment. | ABS | Airbags: 6 | Autobeam | Automatic dimming internal mirror | Climatronic | Cruise control | Electric windows front and rear | Heated external mirror | Leather steering wheel | LED headlights | Multi-function steering wheel | On-board computer | Paddle shift steering wheel | Panorama sunroof | Parking aid APS (Acoustic Parking System) front/rear | Power steering | Radio, MP3, DAB | Rain sensor | Remote central locking | Roof rails | Satnav with map views: MMI Plus | Side mirror electrically foldable | Stability program ESP (Electronic Stability Program) | Start/stop system | Sunblinds rear doors | Telephone: Preparation with Bluetooth | Tinted rear windows | Touchscreen | Tyre Pressure Indicator TPI | Demurrage chargesStarting on 22.07.2025 the daily demurrage for this item will be 6,00 EUR net, plus VAT\n",
      "----------------------------------------------------------------------------------------------------\n",
      "[3]\n",
      "True Label:         No match\n",
      "Predicted Label:    No match\n",
      "Avg Match Prob:     0.0003\n",
      "Individual Probs:   ['0.0014', '0.0001', '0.0001', '0.0000', '0.0000']\n",
      "Query:              Looking for a car with a first registration date earlier than 2010, and a petrol engine. Must have a power output exceeding 150 KW and equipped with features like cruise control, an on-board computer, and a start/stop system.\n",
      "Vehicle Text:       Category: Saloon, 3 door, All-wheel drive | Colour: blue Metallic | Colour name: scubablau | Emission class: EURO 5 | Engine type: Diesel | First registration: 02.2011 | Fuel type: Diesel | Location: D-08 | Power output: 103 KW / 140 PS | Read mileage: 160,400 Kilometres | Supplier: Subsidiary/authorised dealer of the brand(s): Audi, VW | Total number of owners: 4 Owner / 2 Entry / Entries | Transmission: 6-gear manual transmission | Vehicle release: Release of the vehicle will take place at the earliest 4 working days following receipt of payment. | ABS | Airbags: 6 | Bi-xenon | Climatronic | Cruise control | Electric windows front | Fog light | Leather steering wheel | Multi-function steering wheel | On-board computer | Parking aid APS (Acoustic Parking System) rear | Particle filter | Power steering | Radio, CD, MP3 | Remote central locking | Side mirror electrically adjustable | Sports chassis | Stability program ASR (Anti-Slip Regulation), TCS (Traction Control System) | Start/stop system | Active speaker\n",
      "Concert audio system (radio/CD player, MP3-capable)\n",
      "Roof spoiler\n",
      "Loading device\n",
      "Interior: Decorative inserts piano lacquer, black\n",
      "Comfort package plus (Universal interface Bluetooth, driver information system (FIS), air conditioning)\n",
      "Light package\n",
      "Central armrest in front\n",
      "Charging device (medium armrest in the back)\n",
      "USB interface Audi Exclusive\n",
      "Xenon headlights plus (low and high beam)\n",
      "----------------------------------------------------------------------------------------------------\n",
      "[4]\n",
      "True Label:         No match\n",
      "Predicted Label:    No match\n",
      "Avg Match Prob:     0.0004\n",
      "Individual Probs:   ['0.0019', '0.0001', '0.0001', '0.0001', '0.0001']\n",
      "Query:              Need a 3 door estate car, with a metallic grey colour, equipped with modern features like LED headlights, paddle shift steering wheel, and a start/stop system. The car should have a mileage of 60,000 kilometres or more and should have been first registered in 2024 or later.\n",
      "Vehicle Text:       CO2 emissions (in g/km combined): 145 | Category: Estate, 5 door | Colour: grey Metallic | Colour name: Sparkling Kupfergrau Metallic | Emission class: EURO 6 | Engine type: Otto | First registration: 02.2024 | Fuel type: Petrol | Location: D-06 | Power output: 100 KW / 136 PS | Read mileage: 61,100 Kilometres | Total number of owners: 1 Owner | Transmission: Automatic | Vehicle release: Release of the vehicle will take place at the earliest 5 working days following receipt of payment. | ABS | Autobeam | Climatronic | LED headlights | No remote central locking | Paddle shift steering wheel | Radio, DAB | Servotronic | Sound system | Stability program DSC (Dynamic Stability Control) | Start/stop system | Tinted rear windows | Tyre Pressure Indicator TPI | Serial equipment:\n",
      "Adaptive chassis M-Technic\n",
      "Trailer stabilization program (ASL)\n",
      "Equipment package: Connected Professional\n",
      "Driving assistance system: Performance Control\n",
      "Automatic tailgate actuation\n",
      "Country AV Germany\n",
      "Service system: Apple CarPlay Information (preparation)\n",
      "WideScreen display special equipment:\n",
      "Seats mechanically adjustable at the back\n",
      "----------------------------------------------------------------------------------------------------\n",
      "[5]\n",
      "True Label:         Match\n",
      "Predicted Label:    No match\n",
      "Avg Match Prob:     0.2030\n",
      "Individual Probs:   ['0.0151', '0.0006', '0.0003', '0.0006', '0.9985']\n",
      "Query:              Interested in a black metallic SUV with Climatronic, navigation system and reverse camera. Must have seat heating and a power output of less than 200 PS.\n",
      "Vehicle Text:       CO2 emissions (in g/km combined): 0 | Category: All-terrain vehicle, 4 door | Colour name: Mythosschwarz Metallic | First registration: 10.2022 | Fuel type: Petrol | Location: D-06 | Power output: 110 KW / 149 PS | Read mileage: 28,900 Kilometres | Supplier: Leasing company | Total number of owners: Unknown | Transmission: Automatic | Vehicle release: Release of the vehicle will take place at the earliest 10 working days following receipt of payment. | Climatronic | Navigation (ex works) | Reverse camera | SeatsNumber of seats 5Driver's seatFront seat passengerRear leftRear rightSeat heating\n",
      "----------------------------------------------------------------------------------------------------\n",
      "[6]\n",
      "True Label:         Match\n",
      "Predicted Label:    Match\n",
      "Avg Match Prob:     0.9868\n",
      "Individual Probs:   ['0.9564', '0.9885', '0.9932', '0.9972', '0.9988']\n",
      "Query:              Looking for a 4 door all-terrain vehicle with all-wheel drive, electric fuel type, and it should be a metallic blue color. Should have less than 70,000 Kilometres mileage.\n",
      "Vehicle Text:       CO2 emissions (in g/km combined): 0 | Category: All-terrain vehicle, 4 door, All-wheel drive | Colour name: Navarrablau Metallic | First registration: 04.2022 | Fuel type: Electric vehicle | Location: D-89 | Power output: 300 KW / 408 PS | Read mileage: 60,800 Kilometres | Supplier: Leasing company | Total number of owners: Unknown | Transmission: Automatic | Vehicle release: Release of the vehicle will take place at the earliest 10 working days following receipt of payment. | Climatronic | Cruise control | Navigation (ex works) | Panorama sunroof | Sound system | Telephone: Ready for hands-free equipment | SeatsNumber of seats 5Driver's seatFront seat passengerRear leftRear rightSeat heating\n",
      "----------------------------------------------------------------------------------------------------\n",
      "[7]\n",
      "True Label:         No match\n",
      "Predicted Label:    No match\n",
      "Avg Match Prob:     0.0004\n",
      "Individual Probs:   ['0.0015', '0.0001', '0.0001', '0.0000', '0.0000']\n",
      "Query:              Searching for a car with read mileage more than 110,000 kilometres, power output not less than 200 KW, and a petrol engine. It should have features like a lane keeping system, rain sensor, and climatronic in the back. The car should also come with a trailer coupling swivel-mounted.\n",
      "Vehicle Text:       Category: Estate, 5 door, All-wheel drive | Colour: black Metallic | Colour name: mythosschwarz | Emission class: EURO 6d-Temp | Engine type: Diesel | First registration: 08.2019 | Fuel type: Diesel Mildhybrid | Location: D-59 | Power output: 170 KW / 231 PS | Read mileage: 105,500 Kilometres | Supplier: Ulrich Senger GmbH | Total number of owners: 3 Owner | Transmission: Automatic | Vehicle origin: Rental car | Vehicle release: Release of the vehicle will take place at the earliest 10 working days following receipt of payment. | ABS | Airbags: 6 | Auto Hold | Autobeam | Automatic tailgate | Climatronic in the back | Cruise control | Electric windows front and rear | Fog light | Heated external mirror | Lane keeping system | Leather steering wheel | LED headlights | Multi-function steering wheel | On-board computer | Paddle shift steering wheel | Panorama sunroof | Parking aid APS (Acoustic Parking System) front/rear | Power steering | Radio, DAB | Rain sensor | Remote central locking | Reverse camera | Roof rails | Satnav with map views: MMI Plus | Side mirror electrically foldable | Stability program ESP (Electronic Stability Program) | Start/stop system | Telephone: Preparation with Bluetooth | Tinted rear windows | Touchscreen | Trailer coupling swivel-mounted | Tyre Pressure Indicator TPI | Adaptive windshield wiper, heated Bluetooth hands-free system with speech recognition (Audi Phone Box) Parking aid at the front and back, acoustically and optically with a selective display (APS Plus) Driving assistance system: Trailing warning including emergency assistant with camera-based traffic sign detection (driving assistant system: high-fictional assistance, driving assistant system: traffic sign detection, driving assistance system: emergency assistant with automatic emergency call) Driving assistance system: Trace change assistant (Side Assist)\n",
      "----------------------------------------------------------------------------------------------------\n",
      "[8]\n",
      "True Label:         Match\n",
      "Predicted Label:    Match\n",
      "Avg Match Prob:     0.7343\n",
      "Individual Probs:   ['0.0497', '0.7688', '0.9273', '0.9279', '0.9976']\n",
      "Query:              In search of an Audi with a power output of more than 200 PS. It should have a remote central locking system and be equipped with a satnav with MMI navigation. Is it a vehicle with less than 3 previous owners?\n",
      "Vehicle Text:       Category: Saloon, 4 door, All-wheel drive | Colour: black | Colour name: Brillantschwarz | Emission class: EURO 5 | Engine type: Otto | First registration: 07.2012 | Fuel type: Petrol | Location: D-64 | Power output: 155 KW / 211 PS | Read mileage: 198,200 Kilometres | Total number of owners: 2 Owner | Transmission: Automatic | Vehicle release: Release of the vehicle will take place at the earliest 5 working days following receipt of payment. | ABS | Airbags: 6 | Climatronic | Cruise control | Electric windows front and rear | Fog light | Multi-function steering wheel | On-board computer | Parking aid APS (Acoustic Parking System) rear | Power steering | Radio, CD, MP3 | Rain sensor | Remote central locking | Satnav with map views: Multi-Media-Interface MMI Navigation | Side mirror electrically adjustable | Sports chassis | Stability program ASR (Anti-Slip Regulation), TCS (Traction Control System) | Telephone: Preparation with Bluetooth | Tyre Pressure Indicator TPI | Xenon | Audi Music Interface\n",
      "Equipping package: S Line Sport / Plus (lumbar supports at the front, electrical adaptable, sports suspension S-Line)\n",
      "Outdoor optics Audi Exclusive Black\n",
      "Business package (multi-media interface MMI navigation, driver information system (FIS) with color display, middle arm backrest)\n",
      "Charging device with ski bag\n",
      "Exterieur package S line\n",
      "Light and rain sensor\n",
      "Seat cover / padding: leather / fabric sprint with logo stamping in front seat backrests\n",
      "Sound system DSP / Audi sound system\n",
      "----------------------------------------------------------------------------------------------------\n",
      "[9]\n",
      "True Label:         Match\n",
      "Predicted Label:    Match\n",
      "Avg Match Prob:     0.9826\n",
      "Individual Probs:   ['0.9335', '0.9922', '0.9926', '0.9957', '0.9989']\n",
      "Query:              Need a 5 door estate car, with a metallic grey colour, equipped with modern features like LED headlights, paddle shift steering wheel, and a start/stop system. The car should have a mileage of 60,000 kilometres or more and should have been first registered in 2024 or later.\n",
      "Vehicle Text:       CO2 emissions (in g/km combined): 145 | Category: Estate, 5 door | Colour: grey Metallic | Colour name: Sparkling Kupfergrau Metallic | Emission class: EURO 6 | Engine type: Otto | First registration: 02.2024 | Fuel type: Petrol | Location: D-06 | Power output: 100 KW / 136 PS | Read mileage: 61,100 Kilometres | Total number of owners: 1 Owner | Transmission: Automatic | Vehicle release: Release of the vehicle will take place at the earliest 5 working days following receipt of payment. | ABS | Autobeam | Climatronic | LED headlights | No remote central locking | Paddle shift steering wheel | Radio, DAB | Servotronic | Sound system | Stability program DSC (Dynamic Stability Control) | Start/stop system | Tinted rear windows | Tyre Pressure Indicator TPI | Serial equipment:\n",
      "Adaptive chassis M-Technic\n",
      "Trailer stabilization program (ASL)\n",
      "Equipment package: Connected Professional\n",
      "Driving assistance system: Performance Control\n",
      "Automatic tailgate actuation\n",
      "Country AV Germany\n",
      "Service system: Apple CarPlay Information (preparation)\n",
      "WideScreen display special equipment:\n",
      "Seats mechanically adjustable at the back\n",
      "----------------------------------------------------------------------------------------------------\n",
      "[10]\n",
      "True Label:         Match\n",
      "Predicted Label:    Match\n",
      "Avg Match Prob:     0.9878\n",
      "Individual Probs:   ['0.9652', '0.9858', '0.9936', '0.9967', '0.9977']\n",
      "Query:              Is the car fitted with a touch screen and a multi-function steering wheel? It should also be a EURO 6d-Temp emission class.\n",
      "Vehicle Text:       Category: Estate, 5 door | Colour: grey Metallic | Colour name: manhattangrau | Emission class: EURO 6d-Temp | Engine type: Diesel | First registration: 05.2022 | Fuel type: Hybrid | Location: D-76 | Power output: 120 KW / 163 PS | Read mileage: 143,900 Kilometres | Supplier: Subsidiary/authorised dealer of the brand(s): Audi | Total number of owners: 1 Owner | Transmission: Automatic | Vehicle release: Release of the vehicle will take place at the earliest 5 working days following receipt of payment. | ABS | Airbags: 6 | Autobeam | Automatic dimming exterior mirror | Automatic dimming internal mirror | Automatic tailgate | Climatronic | Cruise control | Electric windows front and rear | Heated external mirror | Induction charger for Smartphones | Leather steering wheel | LED headlights | Multi-function steering wheel | On-board computer | Paddle shift steering wheel | Parking aid APS (Acoustic Parking System) front/rear | Power steering | Radio, MP3, DAB | Rain sensor | Remote central locking | Roof rails | Satnav with map views: MMI Navigation Plus mit MMI Touch | Side mirror electrically foldable | Stability program ESP (Electronic Stability Program) | Start/stop system | Sunblinds rear doors | Telephone: Preparation with Bluetooth | Tinted rear windows | Touchscreen | Tyre Pressure Indicator TPI | Voice control system | Business package (driving assistance system: high-beam assistant, Bluetooth hands-free system with speech recognition (Audi Phone Box), multi-media interface MMI navigation plus with MMI touch, Audi Connect (internet-based services), driver information system (FIS) with color display)\n",
      "Parking aid at the front and back, acoustically and optically with a selective display (APS Plus)\n",
      "Driving assistance system: traffic sign recognition\n",
      "Luggage compartment flap electr.\n",
      "----------------------------------------------------------------------------------------------------\n"
     ]
    }
   ],
   "source": [
    "def show_test_predictions(test_pairs, num_examples: int = 10, threshold: float = 0.5, num_folds: int = 5):\n",
    "    print(f\"\\n=== Ensemble Predictions on {num_examples} Random Test Examples ===\\n\")\n",
    "    \n",
    "    import random\n",
    "    from transformers import AutoModelForSequenceClassification, AutoTokenizer\n",
    "    import torch\n",
    "\n",
    "    device = torch.device(\"cuda\" if torch.cuda.is_available() else \"cpu\")\n",
    "\n",
    "    # Load fold models\n",
    "    fold_dirs = [\n",
    "        os.path.join(config.output_dir, f\"fold_{i + 1}\")\n",
    "        for i in range(num_folds)\n",
    "    ]\n",
    "\n",
    "    tokenizer = AutoTokenizer.from_pretrained(fold_dirs[0])\n",
    "    models = []\n",
    "    for fold_dir in fold_dirs:\n",
    "        model = AutoModelForSequenceClassification.from_pretrained(fold_dir)\n",
    "        model.to(device)\n",
    "        model.eval()\n",
    "        models.append(model)\n",
    "\n",
    "    # Random sample\n",
    "    sampled = random.sample(test_pairs, num_examples)\n",
    "\n",
    "    for i, (query, vehicle_text, label) in enumerate(sampled):\n",
    "        # Tokenize\n",
    "        encoding = tokenizer(\n",
    "            query,\n",
    "            vehicle_text,\n",
    "            truncation=True,\n",
    "            padding='max_length',\n",
    "            max_length=config.max_length,\n",
    "            return_tensors='pt'\n",
    "        ).to(device)\n",
    "\n",
    "        # Get predictions from all models\n",
    "        probs = []\n",
    "        with torch.no_grad():\n",
    "            for model in models:\n",
    "                outputs = model(**encoding)\n",
    "                prob = torch.nn.functional.softmax(outputs.logits, dim=-1)[0][1].item()\n",
    "                probs.append(prob)\n",
    "\n",
    "        avg_prob = sum(probs) / len(probs)\n",
    "        pred = int(avg_prob >= threshold)\n",
    "\n",
    "        print(f\"[{i + 1}]\")\n",
    "        print(f\"True Label:         {'Match' if label == 1 else 'No match'}\")\n",
    "        print(f\"Predicted Label:    {'Match' if pred == 1 else 'No match'}\")\n",
    "        print(f\"Avg Match Prob:     {avg_prob:.4f}\")\n",
    "        print(f\"Individual Probs:   {[f'{p:.4f}' for p in probs]}\")\n",
    "        print(f\"Query:              {query}\")\n",
    "        print(f\"Vehicle Text:       {vehicle_text}\")\n",
    "        print(\"-\" * 100)\n",
    "\n",
    "show_test_predictions(test_pairs, num_examples=10, threshold=0.5, num_folds=5)"
   ]
  }
 ],
 "metadata": {
  "kernelspec": {
   "display_name": "venv_h100",
   "language": "python",
   "name": "python3"
  },
  "language_info": {
   "codemirror_mode": {
    "name": "ipython",
    "version": 3
   },
   "file_extension": ".py",
   "mimetype": "text/x-python",
   "name": "python",
   "nbconvert_exporter": "python",
   "pygments_lexer": "ipython3",
   "version": "3.11.9"
  }
 },
 "nbformat": 4,
 "nbformat_minor": 5
}
